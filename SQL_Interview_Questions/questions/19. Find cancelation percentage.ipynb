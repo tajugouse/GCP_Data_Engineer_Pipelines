{
  "cells": [
    {
      "cell_type": "markdown",
      "metadata": {},
      "source": [
        "Find cancelation percentage on each day made by both client and driver and filter for not banned users"
      ]
    },
    {
      "cell_type": "code",
      "execution_count": 1,
      "metadata": {
        "trusted": true
      },
      "outputs": [],
      "source": [
        "%CREATE potato.db "
      ]
    },
    {
      "cell_type": "code",
      "execution_count": 2,
      "metadata": {
        "trusted": true
      },
      "outputs": [],
      "source": [
        "Create table  Trips (id int, client_id int, driver_id int, city_id int, status varchar(50), request_at varchar(50));"
      ]
    },
    {
      "cell_type": "code",
      "execution_count": 3,
      "metadata": {
        "trusted": true
      },
      "outputs": [],
      "source": [
        "Create table Users (users_id int, banned varchar(50), role varchar(50));"
      ]
    },
    {
      "cell_type": "code",
      "execution_count": 4,
      "metadata": {
        "trusted": true
      },
      "outputs": [],
      "source": [
        "insert into Trips (id, client_id, driver_id, city_id, status, request_at) values ('1', '1', '10', '1', 'completed', '2013-10-01'),\n",
        "('2', '2', '11', '1', 'cancelled_by_driver', '2013-10-01'),\n",
        "('3', '3', '12', '6', 'completed', '2013-10-01'),\n",
        "('4', '4', '13', '6', 'cancelled_by_client', '2013-10-01'),\n",
        "('5', '1', '10', '1', 'completed', '2013-10-02'),\n",
        "('6', '2', '11', '6', 'completed', '2013-10-02'),\n",
        "('7', '3', '12', '6', 'completed', '2013-10-02'),\n",
        "('8', '2', '12', '12', 'completed', '2013-10-03'),\n",
        "('9', '3', '10', '12', 'completed', '2013-10-03'),\n",
        "('10', '4', '13', '12', 'cancelled_by_driver', '2013-10-03');"
      ]
    },
    {
      "cell_type": "code",
      "execution_count": 5,
      "metadata": {
        "trusted": true
      },
      "outputs": [],
      "source": [
        "insert into Users (users_id, banned, role) values ('1', 'No', 'client'),\n",
        "('2', 'Yes', 'client'),\n",
        "('3', 'No', 'client'),\n",
        "('4', 'No', 'client'),\n",
        "('10', 'No', 'driver'),\n",
        "('11', 'No', 'driver'),\n",
        "('12', 'No', 'driver'),\n",
        "('13', 'No', 'driver');"
      ]
    },
    {
      "cell_type": "code",
      "execution_count": 6,
      "metadata": {
        "trusted": true
      },
      "outputs": [
        {
          "data": {
            "text/html": [
              "<table>\n",
              "<tr>\n",
              "<th>users_id</th>\n",
              "<th>banned</th>\n",
              "<th>role</th>\n",
              "</tr>\n",
              "<tr>\n",
              "<td>1</td>\n",
              "<td>No</td>\n",
              "<td>client</td>\n",
              "</tr>\n",
              "<tr>\n",
              "<td>2</td>\n",
              "<td>Yes</td>\n",
              "<td>client</td>\n",
              "</tr>\n",
              "<tr>\n",
              "<td>3</td>\n",
              "<td>No</td>\n",
              "<td>client</td>\n",
              "</tr>\n",
              "<tr>\n",
              "<td>4</td>\n",
              "<td>No</td>\n",
              "<td>client</td>\n",
              "</tr>\n",
              "<tr>\n",
              "<td>10</td>\n",
              "<td>No</td>\n",
              "<td>driver</td>\n",
              "</tr>\n",
              "<tr>\n",
              "<td>11</td>\n",
              "<td>No</td>\n",
              "<td>driver</td>\n",
              "</tr>\n",
              "<tr>\n",
              "<td>12</td>\n",
              "<td>No</td>\n",
              "<td>driver</td>\n",
              "</tr>\n",
              "<tr>\n",
              "<td>13</td>\n",
              "<td>No</td>\n",
              "<td>driver</td>\n",
              "</tr>\n",
              "</table>"
            ],
            "text/plain": [
              "+----------+--------+--------+\n",
              "| users_id | banned | role   |\n",
              "+----------+--------+--------+\n",
              "| 1        | No     | client |\n",
              "+----------+--------+--------+\n",
              "| 2        | Yes    | client |\n",
              "+----------+--------+--------+\n",
              "| 3        | No     | client |\n",
              "+----------+--------+--------+\n",
              "| 4        | No     | client |\n",
              "+----------+--------+--------+\n",
              "| 10       | No     | driver |\n",
              "+----------+--------+--------+\n",
              "| 11       | No     | driver |\n",
              "+----------+--------+--------+\n",
              "| 12       | No     | driver |\n",
              "+----------+--------+--------+\n",
              "| 13       | No     | driver |\n",
              "+----------+--------+--------+"
            ]
          },
          "execution_count": 6,
          "metadata": {},
          "output_type": "execute_result"
        }
      ],
      "source": [
        "select * from Users"
      ]
    },
    {
      "cell_type": "code",
      "execution_count": 7,
      "metadata": {
        "trusted": true
      },
      "outputs": [
        {
          "data": {
            "text/html": [
              "<table>\n",
              "<tr>\n",
              "<th>id</th>\n",
              "<th>client_id</th>\n",
              "<th>driver_id</th>\n",
              "<th>city_id</th>\n",
              "<th>status</th>\n",
              "<th>request_at</th>\n",
              "</tr>\n",
              "<tr>\n",
              "<td>1</td>\n",
              "<td>1</td>\n",
              "<td>10</td>\n",
              "<td>1</td>\n",
              "<td>completed</td>\n",
              "<td>2013-10-01</td>\n",
              "</tr>\n",
              "<tr>\n",
              "<td>2</td>\n",
              "<td>2</td>\n",
              "<td>11</td>\n",
              "<td>1</td>\n",
              "<td>cancelled_by_driver</td>\n",
              "<td>2013-10-01</td>\n",
              "</tr>\n",
              "<tr>\n",
              "<td>3</td>\n",
              "<td>3</td>\n",
              "<td>12</td>\n",
              "<td>6</td>\n",
              "<td>completed</td>\n",
              "<td>2013-10-01</td>\n",
              "</tr>\n",
              "<tr>\n",
              "<td>4</td>\n",
              "<td>4</td>\n",
              "<td>13</td>\n",
              "<td>6</td>\n",
              "<td>cancelled_by_client</td>\n",
              "<td>2013-10-01</td>\n",
              "</tr>\n",
              "<tr>\n",
              "<td>5</td>\n",
              "<td>1</td>\n",
              "<td>10</td>\n",
              "<td>1</td>\n",
              "<td>completed</td>\n",
              "<td>2013-10-02</td>\n",
              "</tr>\n",
              "<tr>\n",
              "<td>6</td>\n",
              "<td>2</td>\n",
              "<td>11</td>\n",
              "<td>6</td>\n",
              "<td>completed</td>\n",
              "<td>2013-10-02</td>\n",
              "</tr>\n",
              "<tr>\n",
              "<td>7</td>\n",
              "<td>3</td>\n",
              "<td>12</td>\n",
              "<td>6</td>\n",
              "<td>completed</td>\n",
              "<td>2013-10-02</td>\n",
              "</tr>\n",
              "<tr>\n",
              "<td>8</td>\n",
              "<td>2</td>\n",
              "<td>12</td>\n",
              "<td>12</td>\n",
              "<td>completed</td>\n",
              "<td>2013-10-03</td>\n",
              "</tr>\n",
              "<tr>\n",
              "<td>9</td>\n",
              "<td>3</td>\n",
              "<td>10</td>\n",
              "<td>12</td>\n",
              "<td>completed</td>\n",
              "<td>2013-10-03</td>\n",
              "</tr>\n",
              "<tr>\n",
              "<td>10</td>\n",
              "<td>4</td>\n",
              "<td>13</td>\n",
              "<td>12</td>\n",
              "<td>cancelled_by_driver</td>\n",
              "<td>2013-10-03</td>\n",
              "</tr>\n",
              "</table>"
            ],
            "text/plain": [
              "+----+-----------+-----------+---------+---------------------+------------+\n",
              "| id | client_id | driver_id | city_id | status              | request_at |\n",
              "+----+-----------+-----------+---------+---------------------+------------+\n",
              "| 1  | 1         | 10        | 1       | completed           | 2013-10-01 |\n",
              "+----+-----------+-----------+---------+---------------------+------------+\n",
              "| 2  | 2         | 11        | 1       | cancelled_by_driver | 2013-10-01 |\n",
              "+----+-----------+-----------+---------+---------------------+------------+\n",
              "| 3  | 3         | 12        | 6       | completed           | 2013-10-01 |\n",
              "+----+-----------+-----------+---------+---------------------+------------+\n",
              "| 4  | 4         | 13        | 6       | cancelled_by_client | 2013-10-01 |\n",
              "+----+-----------+-----------+---------+---------------------+------------+\n",
              "| 5  | 1         | 10        | 1       | completed           | 2013-10-02 |\n",
              "+----+-----------+-----------+---------+---------------------+------------+\n",
              "| 6  | 2         | 11        | 6       | completed           | 2013-10-02 |\n",
              "+----+-----------+-----------+---------+---------------------+------------+\n",
              "| 7  | 3         | 12        | 6       | completed           | 2013-10-02 |\n",
              "+----+-----------+-----------+---------+---------------------+------------+\n",
              "| 8  | 2         | 12        | 12      | completed           | 2013-10-03 |\n",
              "+----+-----------+-----------+---------+---------------------+------------+\n",
              "| 9  | 3         | 10        | 12      | completed           | 2013-10-03 |\n",
              "+----+-----------+-----------+---------+---------------------+------------+\n",
              "| 10 | 4         | 13        | 12      | cancelled_by_driver | 2013-10-03 |\n",
              "+----+-----------+-----------+---------+---------------------+------------+"
            ]
          },
          "execution_count": 7,
          "metadata": {},
          "output_type": "execute_result"
        }
      ],
      "source": [
        "select * from Trips"
      ]
    },
    {
      "cell_type": "code",
      "execution_count": 8,
      "metadata": {
        "trusted": true
      },
      "outputs": [
        {
          "data": {
            "text/html": [
              "<table>\n",
              "<tr>\n",
              "<th>request_at</th>\n",
              "<th>count_cancelation</th>\n",
              "<th>num_of_requests</th>\n",
              "<th>cancelation_percentage</th>\n",
              "</tr>\n",
              "<tr>\n",
              "<td>2013-10-01</td>\n",
              "<td>1</td>\n",
              "<td>3</td>\n",
              "<td>33.3333333333333</td>\n",
              "</tr>\n",
              "<tr>\n",
              "<td>2013-10-02</td>\n",
              "<td>0</td>\n",
              "<td>2</td>\n",
              "<td>0.0</td>\n",
              "</tr>\n",
              "<tr>\n",
              "<td>2013-10-03</td>\n",
              "<td>1</td>\n",
              "<td>2</td>\n",
              "<td>50.0</td>\n",
              "</tr>\n",
              "</table>"
            ],
            "text/plain": [
              "+------------+-------------------+-----------------+------------------------+\n",
              "| request_at | count_cancelation | num_of_requests | cancelation_percentage |\n",
              "+------------+-------------------+-----------------+------------------------+\n",
              "| 2013-10-01 | 1                 | 3               | 33.3333333333333       |\n",
              "+------------+-------------------+-----------------+------------------------+\n",
              "| 2013-10-02 | 0                 | 2               | 0.0                    |\n",
              "+------------+-------------------+-----------------+------------------------+\n",
              "| 2013-10-03 | 1                 | 2               | 50.0                   |\n",
              "+------------+-------------------+-----------------+------------------------+"
            ]
          },
          "execution_count": 8,
          "metadata": {},
          "output_type": "execute_result"
        }
      ],
      "source": [
        "with cte as (select t.request_at, sum(case when status in ('cancelled_by_client','cancelled_by_driver') then 1 else 0 end) as count_cancelation,\n",
        "    count(1) as num_of_requests from trips t\n",
        "inner join users u on t.client_id = u.users_id\n",
        "inner join users u1 on t.driver_id = u1.users_id\n",
        "\n",
        "where u.banned = 'No' and u1.banned = 'No'\n",
        "group by t.request_at)\n",
        "\n",
        "select *, ( 1.0 *count_cancelation/num_of_requests)*100 as cancelation_percentage from cte"
      ]
    },
    {
      "cell_type": "code",
      "execution_count": null,
      "metadata": {
        "trusted": true
      },
      "outputs": [],
      "source": []
    }
  ],
  "metadata": {
    "kernelspec": {
      "display_name": "SQLite",
      "language": "sql",
      "name": "SQLite"
    },
    "language_info": {
      "codemirror_mode": "sql",
      "file_extension": "",
      "mimetype": "",
      "name": "sql",
      "version": "3.32.3"
    }
  },
  "nbformat": 4,
  "nbformat_minor": 4
}
