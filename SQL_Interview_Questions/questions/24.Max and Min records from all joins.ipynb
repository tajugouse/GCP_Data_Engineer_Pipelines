{
  "metadata": {
    "kernelspec": {
      "name": "SQLite",
      "display_name": "SQLite",
      "language": "sql"
    },
    "language_info": {
      "codemirror_mode": "sql",
      "file_extension": "",
      "mimetype": "",
      "name": "sql",
      "version": "3.32.3"
    }
  },
  "nbformat_minor": 4,
  "nbformat": 4,
  "cells": [
    {
      "cell_type": "markdown",
      "source": "### Find maximum and minimum records of inner, left, right and full outer join ###",
      "metadata": {}
    },
    {
      "cell_type": "code",
      "source": "%CREATE potato.db ",
      "metadata": {
        "trusted": true
      },
      "outputs": [],
      "execution_count": 1
    },
    {
      "cell_type": "code",
      "source": "CREATE TABLE t1 (\n  id int\n);",
      "metadata": {
        "trusted": true
      },
      "outputs": [],
      "execution_count": 24
    },
    {
      "cell_type": "code",
      "source": "INSERT INTO t1 VALUES \n(1),\n(1),\n(1),\n(1),\n(1);",
      "metadata": {
        "trusted": true
      },
      "outputs": [],
      "execution_count": 37
    },
    {
      "cell_type": "code",
      "source": "select * from t1",
      "metadata": {
        "trusted": true
      },
      "outputs": [
        {
          "execution_count": 38,
          "output_type": "execute_result",
          "data": {
            "text/html": "<table>\n<tr>\n<th>id</th>\n</tr>\n<tr>\n<td>1</td>\n</tr>\n<tr>\n<td>1</td>\n</tr>\n<tr>\n<td>1</td>\n</tr>\n<tr>\n<td>1</td>\n</tr>\n<tr>\n<td>1</td>\n</tr>\n</table>",
            "text/plain": "+----+\n| id |\n+----+\n| 1  |\n+----+\n| 1  |\n+----+\n| 1  |\n+----+\n| 1  |\n+----+\n| 1  |\n+----+"
          },
          "metadata": {}
        }
      ],
      "execution_count": 38
    },
    {
      "cell_type": "code",
      "source": "select count(*) from t1",
      "metadata": {
        "trusted": true
      },
      "outputs": [
        {
          "execution_count": 39,
          "output_type": "execute_result",
          "data": {
            "text/html": "<table>\n<tr>\n<th>count(*)</th>\n</tr>\n<tr>\n<td>5</td>\n</tr>\n</table>",
            "text/plain": "+----------+\n| count(*) |\n+----------+\n| 5        |\n+----------+"
          },
          "metadata": {}
        }
      ],
      "execution_count": 39
    },
    {
      "cell_type": "code",
      "source": "CREATE TABLE t2 (\n  id int\n);",
      "metadata": {
        "trusted": true
      },
      "outputs": [],
      "execution_count": 28
    },
    {
      "cell_type": "code",
      "source": "INSERT INTO t2 VALUES \n(1),\n(1),\n(1),\n(1),\n(1),\n(1),\n(1),\n(1),\n(1),\n(1);",
      "metadata": {
        "trusted": true
      },
      "outputs": [],
      "execution_count": 33
    },
    {
      "cell_type": "code",
      "source": "select * from t2",
      "metadata": {
        "trusted": true
      },
      "outputs": [
        {
          "execution_count": 34,
          "output_type": "execute_result",
          "data": {
            "text/html": "<table>\n<tr>\n<th>id</th>\n</tr>\n<tr>\n<td>1</td>\n</tr>\n<tr>\n<td>1</td>\n</tr>\n<tr>\n<td>1</td>\n</tr>\n<tr>\n<td>1</td>\n</tr>\n<tr>\n<td>1</td>\n</tr>\n<tr>\n<td>1</td>\n</tr>\n<tr>\n<td>1</td>\n</tr>\n<tr>\n<td>1</td>\n</tr>\n<tr>\n<td>1</td>\n</tr>\n<tr>\n<td>1</td>\n</tr>\n</table>",
            "text/plain": "+----+\n| id |\n+----+\n| 1  |\n+----+\n| 1  |\n+----+\n| 1  |\n+----+\n| 1  |\n+----+\n| 1  |\n+----+\n| 1  |\n+----+\n| 1  |\n+----+\n| 1  |\n+----+\n| 1  |\n+----+\n| 1  |\n+----+"
          },
          "metadata": {}
        }
      ],
      "execution_count": 34
    },
    {
      "cell_type": "raw",
      "source": "select count(*) from t2",
      "metadata": {}
    },
    {
      "cell_type": "markdown",
      "source": "# maximum records ",
      "metadata": {}
    },
    {
      "cell_type": "code",
      "source": "select count(*) from t1 a\ninner join t2 b on\na.id = b.id",
      "metadata": {
        "trusted": true
      },
      "outputs": [
        {
          "execution_count": 41,
          "output_type": "execute_result",
          "data": {
            "text/html": "<table>\n<tr>\n<th>count(*)</th>\n</tr>\n<tr>\n<td>50</td>\n</tr>\n</table>",
            "text/plain": "+----------+\n| count(*) |\n+----------+\n| 50       |\n+----------+"
          },
          "metadata": {}
        }
      ],
      "execution_count": 41
    },
    {
      "cell_type": "code",
      "source": "select count(*) from t1 a\nleft join t2 b on\na.id = b.id",
      "metadata": {
        "trusted": true
      },
      "outputs": [
        {
          "execution_count": 42,
          "output_type": "execute_result",
          "data": {
            "text/html": "<table>\n<tr>\n<th>count(*)</th>\n</tr>\n<tr>\n<td>50</td>\n</tr>\n</table>",
            "text/plain": "+----------+\n| count(*) |\n+----------+\n| 50       |\n+----------+"
          },
          "metadata": {}
        }
      ],
      "execution_count": 42
    },
    {
      "cell_type": "code",
      "source": "select count(*) from t1 a\nright join t2 b on\na.id = b.id",
      "metadata": {
        "trusted": true
      },
      "outputs": [
        {
          "ename": "Error",
          "evalue": "RIGHT and FULL OUTER JOINs are not currently supported",
          "traceback": [
            "Error: RIGHT and FULL OUTER JOINs are not currently supported"
          ],
          "output_type": "error"
        }
      ],
      "execution_count": 43
    },
    {
      "cell_type": "raw",
      "source": "count(*)\n50\n",
      "metadata": {}
    },
    {
      "cell_type": "code",
      "source": "select count(*) from t1 a\nfull outer join t2 b on\na.id = b.id",
      "metadata": {
        "trusted": true
      },
      "outputs": [
        {
          "ename": "Error",
          "evalue": "RIGHT and FULL OUTER JOINs are not currently supported",
          "traceback": [
            "Error: RIGHT and FULL OUTER JOINs are not currently supported"
          ],
          "output_type": "error"
        }
      ],
      "execution_count": 44
    },
    {
      "cell_type": "raw",
      "source": "count(*)\n50\n",
      "metadata": {}
    },
    {
      "cell_type": "markdown",
      "source": "# Minimum records",
      "metadata": {}
    },
    {
      "cell_type": "code",
      "source": "CREATE TABLE t3 (\n  id int\n);",
      "metadata": {
        "trusted": true
      },
      "outputs": [],
      "execution_count": 45
    },
    {
      "cell_type": "code",
      "source": "INSERT INTO t3 VALUES \n(2),\n(2),\n(2),\n(2),\n(2);",
      "metadata": {
        "trusted": true
      },
      "outputs": [],
      "execution_count": 50
    },
    {
      "cell_type": "code",
      "source": "select * from t3",
      "metadata": {
        "trusted": true
      },
      "outputs": [
        {
          "execution_count": 51,
          "output_type": "execute_result",
          "data": {
            "text/html": "<table>\n<tr>\n<th>id</th>\n</tr>\n<tr>\n<td>2</td>\n</tr>\n<tr>\n<td>2</td>\n</tr>\n<tr>\n<td>2</td>\n</tr>\n<tr>\n<td>2</td>\n</tr>\n<tr>\n<td>2</td>\n</tr>\n<tr>\n<td>2</td>\n</tr>\n<tr>\n<td>2</td>\n</tr>\n<tr>\n<td>2</td>\n</tr>\n<tr>\n<td>2</td>\n</tr>\n<tr>\n<td>2</td>\n</tr>\n</table>",
            "text/plain": "+----+\n| id |\n+----+\n| 2  |\n+----+\n| 2  |\n+----+\n| 2  |\n+----+\n| 2  |\n+----+\n| 2  |\n+----+\n| 2  |\n+----+\n| 2  |\n+----+\n| 2  |\n+----+\n| 2  |\n+----+\n| 2  |\n+----+"
          },
          "metadata": {}
        }
      ],
      "execution_count": 51
    },
    {
      "cell_type": "code",
      "source": "select count(*) from t3",
      "metadata": {
        "trusted": true
      },
      "outputs": [
        {
          "execution_count": 52,
          "output_type": "execute_result",
          "data": {
            "text/html": "<table>\n<tr>\n<th>count(*)</th>\n</tr>\n<tr>\n<td>10</td>\n</tr>\n</table>",
            "text/plain": "+----------+\n| count(*) |\n+----------+\n| 10       |\n+----------+"
          },
          "metadata": {}
        }
      ],
      "execution_count": 52
    },
    {
      "cell_type": "code",
      "source": "select count(*) from t1 a\ninner join t3 b on\na.id = b.id",
      "metadata": {
        "trusted": true
      },
      "outputs": [
        {
          "execution_count": 53,
          "output_type": "execute_result",
          "data": {
            "text/html": "<table>\n<tr>\n<th>count(*)</th>\n</tr>\n<tr>\n<td>0</td>\n</tr>\n</table>",
            "text/plain": "+----------+\n| count(*) |\n+----------+\n| 0        |\n+----------+"
          },
          "metadata": {}
        }
      ],
      "execution_count": 53
    },
    {
      "cell_type": "code",
      "source": "select count(*) from t1 a\nleft join t3 b on\na.id = b.id",
      "metadata": {
        "trusted": true
      },
      "outputs": [
        {
          "execution_count": 54,
          "output_type": "execute_result",
          "data": {
            "text/html": "<table>\n<tr>\n<th>count(*)</th>\n</tr>\n<tr>\n<td>5</td>\n</tr>\n</table>",
            "text/plain": "+----------+\n| count(*) |\n+----------+\n| 5        |\n+----------+"
          },
          "metadata": {}
        }
      ],
      "execution_count": 54
    },
    {
      "cell_type": "code",
      "source": "select count(*) from t1 a\nright join t3 b on\na.id = b.id",
      "metadata": {
        "trusted": true
      },
      "outputs": [],
      "execution_count": null
    },
    {
      "cell_type": "raw",
      "source": "count(*)\n10",
      "metadata": {}
    },
    {
      "cell_type": "code",
      "source": "select count(*) from t1 a\nfull outer join t3 b on\na.id = b.id",
      "metadata": {
        "trusted": true
      },
      "outputs": [],
      "execution_count": null
    },
    {
      "cell_type": "raw",
      "source": "count(*)\n15",
      "metadata": {}
    }
  ]
}