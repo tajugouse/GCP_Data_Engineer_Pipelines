{
  "metadata": {
    "kernelspec": {
      "name": "SQLite",
      "display_name": "SQLite",
      "language": "sql"
    },
    "language_info": {
      "codemirror_mode": "sql",
      "file_extension": "",
      "mimetype": "",
      "name": "sql",
      "version": "3.32.3"
    }
  },
  "nbformat_minor": 4,
  "nbformat": 4,
  "cells": [
    {
      "cell_type": "markdown",
      "source": "# *In this problem we have to write a SQL to build a team with a combination of seniors and juniors within a given salary budget(70,000)* #",
      "metadata": {}
    },
    {
      "cell_type": "code",
      "source": "%create example.db",
      "metadata": {
        "trusted": true
      },
      "outputs": [],
      "execution_count": 1
    },
    {
      "cell_type": "code",
      "source": "create table candidates (\nemp_id int,\nexperience varchar(20),\nsalary int\n);",
      "metadata": {
        "trusted": true
      },
      "outputs": [],
      "execution_count": 17
    },
    {
      "cell_type": "code",
      "source": "insert into candidates values\n(1,'Junior',10000),(2,'Junior',15000),(3,'Junior',40000),(4,'Senior',16000),(5,'Senior',20000),(6,'Senior',50000);",
      "metadata": {
        "trusted": true
      },
      "outputs": [],
      "execution_count": 19
    },
    {
      "cell_type": "code",
      "source": "select * from candidates",
      "metadata": {
        "trusted": true
      },
      "outputs": [
        {
          "execution_count": 20,
          "output_type": "execute_result",
          "data": {
            "text/html": "<table>\n<tr>\n<th>emp_id</th>\n<th>experience</th>\n<th>salary</th>\n</tr>\n<tr>\n<td>1</td>\n<td>Junior</td>\n<td>10000</td>\n</tr>\n<tr>\n<td>2</td>\n<td>Junior</td>\n<td>15000</td>\n</tr>\n<tr>\n<td>3</td>\n<td>Junior</td>\n<td>40000</td>\n</tr>\n<tr>\n<td>4</td>\n<td>Senior</td>\n<td>16000</td>\n</tr>\n<tr>\n<td>5</td>\n<td>Senior</td>\n<td>20000</td>\n</tr>\n<tr>\n<td>6</td>\n<td>Senior</td>\n<td>50000</td>\n</tr>\n</table>",
            "text/plain": "+--------+------------+--------+\n| emp_id | experience | salary |\n+--------+------------+--------+\n| 1      | Junior     | 10000  |\n+--------+------------+--------+\n| 2      | Junior     | 15000  |\n+--------+------------+--------+\n| 3      | Junior     | 40000  |\n+--------+------------+--------+\n| 4      | Senior     | 16000  |\n+--------+------------+--------+\n| 5      | Senior     | 20000  |\n+--------+------------+--------+\n| 6      | Senior     | 50000  |\n+--------+------------+--------+"
          },
          "metadata": {}
        }
      ],
      "execution_count": 20
    },
    {
      "cell_type": "code",
      "source": "with total_sal as (select *, \n    sum(salary) over(partition by experience order by salary rows between unbounded preceding and current row) as running_sal\n\nfrom candidates),\n\nseniors as( select * from total_sal\nwhere experience= 'Senior' and running_sal<=70000)\n\nselect * from total_sal\nwhere experience= 'Junior' \n    and running_sal<= 70000 -(select sum(salary) from seniors)\n\nunion all\n\nselect * from seniors",
      "metadata": {
        "trusted": true
      },
      "outputs": [
        {
          "execution_count": 32,
          "output_type": "execute_result",
          "data": {
            "text/html": "<table>\n<tr>\n<th>emp_id</th>\n<th>experience</th>\n<th>salary</th>\n<th>running_sal</th>\n</tr>\n<tr>\n<td>1</td>\n<td>Junior</td>\n<td>10000</td>\n<td>10000</td>\n</tr>\n<tr>\n<td>2</td>\n<td>Junior</td>\n<td>15000</td>\n<td>25000</td>\n</tr>\n<tr>\n<td>4</td>\n<td>Senior</td>\n<td>16000</td>\n<td>16000</td>\n</tr>\n<tr>\n<td>5</td>\n<td>Senior</td>\n<td>20000</td>\n<td>36000</td>\n</tr>\n</table>",
            "text/plain": "+--------+------------+--------+-------------+\n| emp_id | experience | salary | running_sal |\n+--------+------------+--------+-------------+\n| 1      | Junior     | 10000  | 10000       |\n+--------+------------+--------+-------------+\n| 2      | Junior     | 15000  | 25000       |\n+--------+------------+--------+-------------+\n| 4      | Senior     | 16000  | 16000       |\n+--------+------------+--------+-------------+\n| 5      | Senior     | 20000  | 36000       |\n+--------+------------+--------+-------------+"
          },
          "metadata": {}
        }
      ],
      "execution_count": 32
    },
    {
      "cell_type": "code",
      "source": "with total_sal as (select *, \n    sum(salary) over(partition by experience order by salary ) as running_sal\n\nfrom candidates)\nselect * from total_sal\nwhere experience= 'Senior' and running_sal<=70000\n",
      "metadata": {
        "trusted": true
      },
      "outputs": [
        {
          "execution_count": 29,
          "output_type": "execute_result",
          "data": {
            "text/html": "<table>\n<tr>\n<th>emp_id</th>\n<th>experience</th>\n<th>salary</th>\n<th>running_sal</th>\n</tr>\n<tr>\n<td>4</td>\n<td>Senior</td>\n<td>16000</td>\n<td>16000</td>\n</tr>\n<tr>\n<td>5</td>\n<td>Senior</td>\n<td>20000</td>\n<td>36000</td>\n</tr>\n</table>",
            "text/plain": "+--------+------------+--------+-------------+\n| emp_id | experience | salary | running_sal |\n+--------+------------+--------+-------------+\n| 4      | Senior     | 16000  | 16000       |\n+--------+------------+--------+-------------+\n| 5      | Senior     | 20000  | 36000       |\n+--------+------------+--------+-------------+"
          },
          "metadata": {}
        }
      ],
      "execution_count": 29
    },
    {
      "cell_type": "markdown",
      "source": "",
      "metadata": {}
    },
    {
      "cell_type": "code",
      "source": "select *, \n    sum(salary) over(partition by experience order by salary ) as running_sal\n\nfrom candidates",
      "metadata": {
        "trusted": true
      },
      "outputs": [
        {
          "execution_count": 30,
          "output_type": "execute_result",
          "data": {
            "text/html": "<table>\n<tr>\n<th>emp_id</th>\n<th>experience</th>\n<th>salary</th>\n<th>running_sal</th>\n</tr>\n<tr>\n<td>1</td>\n<td>Junior</td>\n<td>10000</td>\n<td>10000</td>\n</tr>\n<tr>\n<td>2</td>\n<td>Junior</td>\n<td>15000</td>\n<td>25000</td>\n</tr>\n<tr>\n<td>3</td>\n<td>Junior</td>\n<td>40000</td>\n<td>65000</td>\n</tr>\n<tr>\n<td>4</td>\n<td>Senior</td>\n<td>16000</td>\n<td>16000</td>\n</tr>\n<tr>\n<td>5</td>\n<td>Senior</td>\n<td>20000</td>\n<td>36000</td>\n</tr>\n<tr>\n<td>6</td>\n<td>Senior</td>\n<td>50000</td>\n<td>86000</td>\n</tr>\n</table>",
            "text/plain": "+--------+------------+--------+-------------+\n| emp_id | experience | salary | running_sal |\n+--------+------------+--------+-------------+\n| 1      | Junior     | 10000  | 10000       |\n+--------+------------+--------+-------------+\n| 2      | Junior     | 15000  | 25000       |\n+--------+------------+--------+-------------+\n| 3      | Junior     | 40000  | 65000       |\n+--------+------------+--------+-------------+\n| 4      | Senior     | 16000  | 16000       |\n+--------+------------+--------+-------------+\n| 5      | Senior     | 20000  | 36000       |\n+--------+------------+--------+-------------+\n| 6      | Senior     | 50000  | 86000       |\n+--------+------------+--------+-------------+"
          },
          "metadata": {}
        }
      ],
      "execution_count": 30
    },
    {
      "cell_type": "code",
      "source": "select emp_id,max(time) as out_time from hospital \n    where action = 'out'\ngroup by 1",
      "metadata": {
        "trusted": true
      },
      "outputs": [
        {
          "execution_count": 11,
          "output_type": "execute_result",
          "data": {
            "text/html": "<table>\n<tr>\n<th>emp_id</th>\n<th>out_time</th>\n</tr>\n<tr>\n<td>1</td>\n<td>2019-12-22 09:15:00</td>\n</tr>\n<tr>\n<td>2</td>\n<td>2019-12-22 09:15:00</td>\n</tr>\n<tr>\n<td>3</td>\n<td>2019-12-22 09:30:00</td>\n</tr>\n<tr>\n<td>5</td>\n<td>2019-12-22 09:40:00</td>\n</tr>\n</table>",
            "text/plain": "+--------+---------------------+\n| emp_id | out_time            |\n+--------+---------------------+\n| 1      | 2019-12-22 09:15:00 |\n+--------+---------------------+\n| 2      | 2019-12-22 09:15:00 |\n+--------+---------------------+\n| 3      | 2019-12-22 09:30:00 |\n+--------+---------------------+\n| 5      | 2019-12-22 09:40:00 |\n+--------+---------------------+"
          },
          "metadata": {}
        }
      ],
      "execution_count": 11
    },
    {
      "cell_type": "code",
      "source": "with latest_in as (select emp_id,max(time) as in_time from hospital \n    where action = 'in'\ngroup by 1),\nlatest_out as (select emp_id,max(time) as out_time from hospital \n    where action = 'out'\ngroup by 1)\n\nselect * from latest_in a\nleft join latest_out b on\na.emp_id = b.emp_id\n\nwhere in_time > out_time or out_time is null",
      "metadata": {
        "trusted": true
      },
      "outputs": [
        {
          "execution_count": 16,
          "output_type": "execute_result",
          "data": {
            "text/html": "<table>\n<tr>\n<th>emp_id</th>\n<th>in_time</th>\n<th>emp_id</th>\n<th>out_time</th>\n</tr>\n<tr>\n<td>2</td>\n<td>2019-12-22 09:30:00</td>\n<td>2</td>\n<td>2019-12-22 09:15:00</td>\n</tr>\n<tr>\n<td>3</td>\n<td>2019-12-22 09:45:00</td>\n<td>3</td>\n<td>2019-12-22 09:30:00</td>\n</tr>\n<tr>\n<td>4</td>\n<td>2019-12-22 09:45:00</td>\n<td></td>\n<td></td>\n</tr>\n</table>",
            "text/plain": "+--------+---------------------+--------+---------------------+\n| emp_id | in_time             | emp_id | out_time            |\n+--------+---------------------+--------+---------------------+\n| 2      | 2019-12-22 09:30:00 | 2      | 2019-12-22 09:15:00 |\n+--------+---------------------+--------+---------------------+\n| 3      | 2019-12-22 09:45:00 | 3      | 2019-12-22 09:30:00 |\n+--------+---------------------+--------+---------------------+\n| 4      | 2019-12-22 09:45:00 |        |                     |\n+--------+---------------------+--------+---------------------+"
          },
          "metadata": {}
        }
      ],
      "execution_count": 16
    },
    {
      "cell_type": "code",
      "source": "",
      "metadata": {
        "trusted": true
      },
      "outputs": [],
      "execution_count": null
    }
  ]
}