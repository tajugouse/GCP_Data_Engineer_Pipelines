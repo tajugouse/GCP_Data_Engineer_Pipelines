{
  "metadata": {
    "kernelspec": {
      "name": "SQLite",
      "display_name": "SQLite",
      "language": "sql"
    },
    "language_info": {
      "codemirror_mode": "sql",
      "file_extension": "",
      "mimetype": "",
      "name": "sql",
      "version": "3.32.3"
    }
  },
  "nbformat_minor": 4,
  "nbformat": 4,
  "cells": [
    {
      "cell_type": "markdown",
      "source": "",
      "metadata": {}
    },
    {
      "cell_type": "code",
      "source": "%CREATE potato.db ",
      "metadata": {
        "trusted": true
      },
      "outputs": [],
      "execution_count": 1
    },
    {
      "cell_type": "code",
      "source": "create table activity (\n\n player_id     int     ,\n device_id     int     ,\n event_date    date    ,\n games_played  int\n );\n",
      "metadata": {
        "trusted": true
      },
      "outputs": [],
      "execution_count": 2
    },
    {
      "cell_type": "code",
      "source": " insert into activity values (1,2,'2016-03-01',5 ),(1,2,'2016-03-02',6 ),(2,3,'2017-06-25',1 )\n ,(3,1,'2016-03-02',0 ),(3,4,'2018-07-03',5 );\n",
      "metadata": {
        "trusted": true
      },
      "outputs": [],
      "execution_count": 3
    },
    {
      "cell_type": "code",
      "source": "select * from activity",
      "metadata": {
        "trusted": true
      },
      "outputs": [
        {
          "execution_count": 4,
          "output_type": "execute_result",
          "data": {
            "text/html": "<table>\n<tr>\n<th>player_id</th>\n<th>device_id</th>\n<th>event_date</th>\n<th>games_played</th>\n</tr>\n<tr>\n<td>1</td>\n<td>2</td>\n<td>2016-03-01</td>\n<td>5</td>\n</tr>\n<tr>\n<td>1</td>\n<td>2</td>\n<td>2016-03-02</td>\n<td>6</td>\n</tr>\n<tr>\n<td>2</td>\n<td>3</td>\n<td>2017-06-25</td>\n<td>1</td>\n</tr>\n<tr>\n<td>3</td>\n<td>1</td>\n<td>2016-03-02</td>\n<td>0</td>\n</tr>\n<tr>\n<td>3</td>\n<td>4</td>\n<td>2018-07-03</td>\n<td>5</td>\n</tr>\n</table>",
            "text/plain": "+-----------+-----------+------------+--------------+\n| player_id | device_id | event_date | games_played |\n+-----------+-----------+------------+--------------+\n| 1         | 2         | 2016-03-01 | 5            |\n+-----------+-----------+------------+--------------+\n| 1         | 2         | 2016-03-02 | 6            |\n+-----------+-----------+------------+--------------+\n| 2         | 3         | 2017-06-25 | 1            |\n+-----------+-----------+------------+--------------+\n| 3         | 1         | 2016-03-02 | 0            |\n+-----------+-----------+------------+--------------+\n| 3         | 4         | 2018-07-03 | 5            |\n+-----------+-----------+------------+--------------+"
          },
          "metadata": {}
        }
      ],
      "execution_count": 4
    },
    {
      "cell_type": "markdown",
      "source": "Q1: Write an SQL query that reports the first login date for each player",
      "metadata": {}
    },
    {
      "cell_type": "code",
      "source": "select player_id,min(event_date) as first_logindate from activity\ngroup by player_id",
      "metadata": {
        "trusted": true
      },
      "outputs": [
        {
          "execution_count": 6,
          "output_type": "execute_result",
          "data": {
            "text/html": "<table>\n<tr>\n<th>player_id</th>\n<th>first_logindate</th>\n</tr>\n<tr>\n<td>1</td>\n<td>2016-03-01</td>\n</tr>\n<tr>\n<td>2</td>\n<td>2017-06-25</td>\n</tr>\n<tr>\n<td>3</td>\n<td>2016-03-02</td>\n</tr>\n</table>",
            "text/plain": "+-----------+-----------------+\n| player_id | first_logindate |\n+-----------+-----------------+\n| 1         | 2016-03-01      |\n+-----------+-----------------+\n| 2         | 2017-06-25      |\n+-----------+-----------------+\n| 3         | 2016-03-02      |\n+-----------+-----------------+"
          },
          "metadata": {}
        }
      ],
      "execution_count": 6
    },
    {
      "cell_type": "markdown",
      "source": "Q2: Write a SQL query that reports the device that is first logged in for each player",
      "metadata": {}
    },
    {
      "cell_type": "code",
      "source": "select device_id,min(event_date) as first_logindate from activity\ngroup by player_id",
      "metadata": {
        "trusted": true
      },
      "outputs": [
        {
          "execution_count": 7,
          "output_type": "execute_result",
          "data": {
            "text/html": "<table>\n<tr>\n<th>device_id</th>\n<th>first_logindate</th>\n</tr>\n<tr>\n<td>2</td>\n<td>2016-03-01</td>\n</tr>\n<tr>\n<td>3</td>\n<td>2017-06-25</td>\n</tr>\n<tr>\n<td>1</td>\n<td>2016-03-02</td>\n</tr>\n</table>",
            "text/plain": "+-----------+-----------------+\n| device_id | first_logindate |\n+-----------+-----------------+\n| 2         | 2016-03-01      |\n+-----------+-----------------+\n| 3         | 2017-06-25      |\n+-----------+-----------------+\n| 1         | 2016-03-02      |\n+-----------+-----------------+"
          },
          "metadata": {}
        }
      ],
      "execution_count": 7
    },
    {
      "cell_type": "markdown",
      "source": "Q3: Write an SQL query that reports for each player and date, how many games played so far by the player. That is, the total number of games played by the player until that date.\n",
      "metadata": {}
    },
    {
      "cell_type": "code",
      "source": "select *,sum(games_played) over(partition by player_id order by event_date) as total_games_played\nfrom activity",
      "metadata": {
        "trusted": true
      },
      "outputs": [
        {
          "execution_count": 8,
          "output_type": "execute_result",
          "data": {
            "text/html": "<table>\n<tr>\n<th>player_id</th>\n<th>device_id</th>\n<th>event_date</th>\n<th>games_played</th>\n<th>total_games_played</th>\n</tr>\n<tr>\n<td>1</td>\n<td>2</td>\n<td>2016-03-01</td>\n<td>5</td>\n<td>5</td>\n</tr>\n<tr>\n<td>1</td>\n<td>2</td>\n<td>2016-03-02</td>\n<td>6</td>\n<td>11</td>\n</tr>\n<tr>\n<td>2</td>\n<td>3</td>\n<td>2017-06-25</td>\n<td>1</td>\n<td>1</td>\n</tr>\n<tr>\n<td>3</td>\n<td>1</td>\n<td>2016-03-02</td>\n<td>0</td>\n<td>0</td>\n</tr>\n<tr>\n<td>3</td>\n<td>4</td>\n<td>2018-07-03</td>\n<td>5</td>\n<td>5</td>\n</tr>\n</table>",
            "text/plain": "+-----------+-----------+------------+--------------+--------------------+\n| player_id | device_id | event_date | games_played | total_games_played |\n+-----------+-----------+------------+--------------+--------------------+\n| 1         | 2         | 2016-03-01 | 5            | 5                  |\n+-----------+-----------+------------+--------------+--------------------+\n| 1         | 2         | 2016-03-02 | 6            | 11                 |\n+-----------+-----------+------------+--------------+--------------------+\n| 2         | 3         | 2017-06-25 | 1            | 1                  |\n+-----------+-----------+------------+--------------+--------------------+\n| 3         | 1         | 2016-03-02 | 0            | 0                  |\n+-----------+-----------+------------+--------------+--------------------+\n| 3         | 4         | 2018-07-03 | 5            | 5                  |\n+-----------+-----------+------------+--------------+--------------------+"
          },
          "metadata": {}
        }
      ],
      "execution_count": 8
    },
    {
      "cell_type": "markdown",
      "source": "\nQ4: Write an SQL query that reports the fraction of players that logged in again on the day after the day they first logged in, rounded to 2 decimal places",
      "metadata": {}
    },
    {
      "cell_type": "code",
      "source": "with min_date as (\n    select player_id,min(event_date) as first_logindate\n    \n    from activity\ngroup by player_id\n    )\nselect a.*,b.first_logindate\n    -- DATEDIFF(day,a.event_date,b.first_logindate) as date_diff\nfrom activity a \ninner join min_date b on a.player_id = b.player_id\n\nwhere (a.event_date - b.first_logindate) = 1",
      "metadata": {
        "trusted": true
      },
      "outputs": [
        {
          "execution_count": 16,
          "output_type": "execute_result",
          "data": {
            "text/html": "<table>\n<tr>\n<th>player_id</th>\n<th>device_id</th>\n<th>event_date</th>\n<th>games_played</th>\n<th>first_logindate</th>\n</tr>\n</table>",
            "text/plain": "+-----------+-----------+------------+--------------+-----------------+\n| player_id | device_id | event_date | games_played | first_logindate |\n+-----------+-----------+------------+--------------+-----------------+"
          },
          "metadata": {}
        }
      ],
      "execution_count": 16
    },
    {
      "cell_type": "code",
      "source": "-- Result :\n -- PLAYER_ID\tDEVICE_ID\tEVENT_DATE\tGAMES_PLAYED\tFIRST_LOGINDATE\n -- 1\t          2\t         02-MAR-16\t 6\t             01-MAR-16\n",
      "metadata": {
        "trusted": true
      },
      "outputs": [
        {
          "ename": "Error",
          "evalue": "Statement needs to be reseted",
          "traceback": [
            "Error: Statement needs to be reseted"
          ],
          "output_type": "error"
        }
      ],
      "execution_count": 17
    },
    {
      "cell_type": "code",
      "source": "",
      "metadata": {
        "trusted": true
      },
      "outputs": [],
      "execution_count": null
    }
  ]
}