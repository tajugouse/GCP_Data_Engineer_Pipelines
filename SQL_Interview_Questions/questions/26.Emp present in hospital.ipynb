{
  "cells": [
    {
      "cell_type": "markdown",
      "metadata": {},
      "source": [
        "# *Write a SQL query to find all the emp who are present in hospital* #"
      ]
    },
    {
      "cell_type": "code",
      "execution_count": 1,
      "metadata": {
        "trusted": true
      },
      "outputs": [],
      "source": [
        "%create example.db"
      ]
    },
    {
      "cell_type": "code",
      "execution_count": 2,
      "metadata": {
        "trusted": true
      },
      "outputs": [],
      "source": [
        "create table hospital ( emp_id int\n",
        ", action varchar(10)\n",
        ", time datetime);"
      ]
    },
    {
      "cell_type": "code",
      "execution_count": 3,
      "metadata": {
        "trusted": true
      },
      "outputs": [],
      "source": [
        "insert into hospital values ('1', 'in', '2019-12-22 09:00:00'),\n",
        "('1', 'out', '2019-12-22 09:15:00'),\n",
        "('2', 'in', '2019-12-22 09:00:00'),\n",
        "('2', 'out', '2019-12-22 09:15:00'),\n",
        "('2', 'in', '2019-12-22 09:30:00'),\n",
        "('3', 'out', '2019-12-22 09:00:00'),\n",
        "('3', 'in', '2019-12-22 09:15:00'),\n",
        "('3', 'out', '2019-12-22 09:30:00'),\n",
        "('3', 'in', '2019-12-22 09:45:00'),\n",
        "('4', 'in', '2019-12-22 09:45:00'),\n",
        "('5', 'out', '2019-12-22 09:40:00');"
      ]
    },
    {
      "cell_type": "code",
      "execution_count": 4,
      "metadata": {
        "trusted": true
      },
      "outputs": [
        {
          "data": {
            "text/html": [
              "<table>\n",
              "<tr>\n",
              "<th>emp_id</th>\n",
              "<th>action</th>\n",
              "<th>time</th>\n",
              "</tr>\n",
              "<tr>\n",
              "<td>1</td>\n",
              "<td>in</td>\n",
              "<td>2019-12-22 09:00:00</td>\n",
              "</tr>\n",
              "<tr>\n",
              "<td>1</td>\n",
              "<td>out</td>\n",
              "<td>2019-12-22 09:15:00</td>\n",
              "</tr>\n",
              "<tr>\n",
              "<td>2</td>\n",
              "<td>in</td>\n",
              "<td>2019-12-22 09:00:00</td>\n",
              "</tr>\n",
              "<tr>\n",
              "<td>2</td>\n",
              "<td>out</td>\n",
              "<td>2019-12-22 09:15:00</td>\n",
              "</tr>\n",
              "<tr>\n",
              "<td>2</td>\n",
              "<td>in</td>\n",
              "<td>2019-12-22 09:30:00</td>\n",
              "</tr>\n",
              "<tr>\n",
              "<td>3</td>\n",
              "<td>out</td>\n",
              "<td>2019-12-22 09:00:00</td>\n",
              "</tr>\n",
              "<tr>\n",
              "<td>3</td>\n",
              "<td>in</td>\n",
              "<td>2019-12-22 09:15:00</td>\n",
              "</tr>\n",
              "<tr>\n",
              "<td>3</td>\n",
              "<td>out</td>\n",
              "<td>2019-12-22 09:30:00</td>\n",
              "</tr>\n",
              "<tr>\n",
              "<td>3</td>\n",
              "<td>in</td>\n",
              "<td>2019-12-22 09:45:00</td>\n",
              "</tr>\n",
              "<tr>\n",
              "<td>4</td>\n",
              "<td>in</td>\n",
              "<td>2019-12-22 09:45:00</td>\n",
              "</tr>\n",
              "<tr>\n",
              "<td>5</td>\n",
              "<td>out</td>\n",
              "<td>2019-12-22 09:40:00</td>\n",
              "</tr>\n",
              "</table>"
            ],
            "text/plain": [
              "+--------+--------+---------------------+\n",
              "| emp_id | action | time                |\n",
              "+--------+--------+---------------------+\n",
              "| 1      | in     | 2019-12-22 09:00:00 |\n",
              "+--------+--------+---------------------+\n",
              "| 1      | out    | 2019-12-22 09:15:00 |\n",
              "+--------+--------+---------------------+\n",
              "| 2      | in     | 2019-12-22 09:00:00 |\n",
              "+--------+--------+---------------------+\n",
              "| 2      | out    | 2019-12-22 09:15:00 |\n",
              "+--------+--------+---------------------+\n",
              "| 2      | in     | 2019-12-22 09:30:00 |\n",
              "+--------+--------+---------------------+\n",
              "| 3      | out    | 2019-12-22 09:00:00 |\n",
              "+--------+--------+---------------------+\n",
              "| 3      | in     | 2019-12-22 09:15:00 |\n",
              "+--------+--------+---------------------+\n",
              "| 3      | out    | 2019-12-22 09:30:00 |\n",
              "+--------+--------+---------------------+\n",
              "| 3      | in     | 2019-12-22 09:45:00 |\n",
              "+--------+--------+---------------------+\n",
              "| 4      | in     | 2019-12-22 09:45:00 |\n",
              "+--------+--------+---------------------+\n",
              "| 5      | out    | 2019-12-22 09:40:00 |\n",
              "+--------+--------+---------------------+"
            ]
          },
          "execution_count": 4,
          "metadata": {},
          "output_type": "execute_result"
        }
      ],
      "source": [
        "select * from hospital"
      ]
    },
    {
      "cell_type": "code",
      "execution_count": 6,
      "metadata": {
        "trusted": true
      },
      "outputs": [
        {
          "data": {
            "text/html": [
              "<table>\n",
              "<tr>\n",
              "<th>emp_id</th>\n",
              "<th>action</th>\n",
              "<th>time</th>\n",
              "<th>intime</th>\n",
              "<th>outime</th>\n",
              "</tr>\n",
              "<tr>\n",
              "<td>1</td>\n",
              "<td>out</td>\n",
              "<td>2019-12-22 09:15:00</td>\n",
              "<td>2019-12-22 09:00:00</td>\n",
              "<td>2019-12-22 09:15:00</td>\n",
              "</tr>\n",
              "<tr>\n",
              "<td>2</td>\n",
              "<td>out</td>\n",
              "<td>2019-12-22 09:15:00</td>\n",
              "<td>2019-12-22 09:30:00</td>\n",
              "<td>2019-12-22 09:15:00</td>\n",
              "</tr>\n",
              "<tr>\n",
              "<td>3</td>\n",
              "<td>out</td>\n",
              "<td>2019-12-22 09:30:00</td>\n",
              "<td>2019-12-22 09:45:00</td>\n",
              "<td>2019-12-22 09:30:00</td>\n",
              "</tr>\n",
              "<tr>\n",
              "<td>4</td>\n",
              "<td>in</td>\n",
              "<td>2019-12-22 09:45:00</td>\n",
              "<td>2019-12-22 09:45:00</td>\n",
              "<td></td>\n",
              "</tr>\n",
              "<tr>\n",
              "<td>5</td>\n",
              "<td>out</td>\n",
              "<td>2019-12-22 09:40:00</td>\n",
              "<td></td>\n",
              "<td>2019-12-22 09:40:00</td>\n",
              "</tr>\n",
              "</table>"
            ],
            "text/plain": [
              "+--------+--------+---------------------+---------------------+---------------------+\n",
              "| emp_id | action | time                | intime              | outime              |\n",
              "+--------+--------+---------------------+---------------------+---------------------+\n",
              "| 1      | out    | 2019-12-22 09:15:00 | 2019-12-22 09:00:00 | 2019-12-22 09:15:00 |\n",
              "+--------+--------+---------------------+---------------------+---------------------+\n",
              "| 2      | out    | 2019-12-22 09:15:00 | 2019-12-22 09:30:00 | 2019-12-22 09:15:00 |\n",
              "+--------+--------+---------------------+---------------------+---------------------+\n",
              "| 3      | out    | 2019-12-22 09:30:00 | 2019-12-22 09:45:00 | 2019-12-22 09:30:00 |\n",
              "+--------+--------+---------------------+---------------------+---------------------+\n",
              "| 4      | in     | 2019-12-22 09:45:00 | 2019-12-22 09:45:00 |                     |\n",
              "+--------+--------+---------------------+---------------------+---------------------+\n",
              "| 5      | out    | 2019-12-22 09:40:00 |                     | 2019-12-22 09:40:00 |\n",
              "+--------+--------+---------------------+---------------------+---------------------+"
            ]
          },
          "execution_count": 6,
          "metadata": {},
          "output_type": "execute_result"
        }
      ],
      "source": [
        "select *,\n",
        "max(case when action = 'in' then time end) as intime,\n",
        "max(case when action = 'out' then time end) as outime\n",
        "from hospital\n",
        "\n",
        "group by emp_id"
      ]
    },
    {
      "cell_type": "code",
      "execution_count": 8,
      "metadata": {
        "trusted": true
      },
      "outputs": [
        {
          "data": {
            "text/html": [
              "<table>\n",
              "<tr>\n",
              "<th>emp_id</th>\n",
              "<th>action</th>\n",
              "<th>time</th>\n",
              "<th>intime</th>\n",
              "<th>outime</th>\n",
              "</tr>\n",
              "<tr>\n",
              "<td>2</td>\n",
              "<td>out</td>\n",
              "<td>2019-12-22 09:15:00</td>\n",
              "<td>2019-12-22 09:30:00</td>\n",
              "<td>2019-12-22 09:15:00</td>\n",
              "</tr>\n",
              "<tr>\n",
              "<td>3</td>\n",
              "<td>out</td>\n",
              "<td>2019-12-22 09:30:00</td>\n",
              "<td>2019-12-22 09:45:00</td>\n",
              "<td>2019-12-22 09:30:00</td>\n",
              "</tr>\n",
              "<tr>\n",
              "<td>4</td>\n",
              "<td>in</td>\n",
              "<td>2019-12-22 09:45:00</td>\n",
              "<td>2019-12-22 09:45:00</td>\n",
              "<td></td>\n",
              "</tr>\n",
              "</table>"
            ],
            "text/plain": [
              "+--------+--------+---------------------+---------------------+---------------------+\n",
              "| emp_id | action | time                | intime              | outime              |\n",
              "+--------+--------+---------------------+---------------------+---------------------+\n",
              "| 2      | out    | 2019-12-22 09:15:00 | 2019-12-22 09:30:00 | 2019-12-22 09:15:00 |\n",
              "+--------+--------+---------------------+---------------------+---------------------+\n",
              "| 3      | out    | 2019-12-22 09:30:00 | 2019-12-22 09:45:00 | 2019-12-22 09:30:00 |\n",
              "+--------+--------+---------------------+---------------------+---------------------+\n",
              "| 4      | in     | 2019-12-22 09:45:00 | 2019-12-22 09:45:00 |                     |\n",
              "+--------+--------+---------------------+---------------------+---------------------+"
            ]
          },
          "execution_count": 8,
          "metadata": {},
          "output_type": "execute_result"
        }
      ],
      "source": [
        "with cte as (select *,\n",
        "max(case when action = 'in' then time end) as intime,\n",
        "max(case when action = 'out' then time end) as outime\n",
        "from hospital\n",
        "\n",
        "group by emp_id)\n",
        "\n",
        "select * from cte \n",
        "where intime > outime or outime is null"
      ]
    },
    {
      "cell_type": "markdown",
      "metadata": {},
      "source": [
        "## Using joins "
      ]
    },
    {
      "cell_type": "code",
      "execution_count": 10,
      "metadata": {
        "trusted": true
      },
      "outputs": [
        {
          "data": {
            "text/html": [
              "<table>\n",
              "<tr>\n",
              "<th>emp_id</th>\n",
              "<th>in_time</th>\n",
              "</tr>\n",
              "<tr>\n",
              "<td>1</td>\n",
              "<td>2019-12-22 09:00:00</td>\n",
              "</tr>\n",
              "<tr>\n",
              "<td>2</td>\n",
              "<td>2019-12-22 09:30:00</td>\n",
              "</tr>\n",
              "<tr>\n",
              "<td>3</td>\n",
              "<td>2019-12-22 09:45:00</td>\n",
              "</tr>\n",
              "<tr>\n",
              "<td>4</td>\n",
              "<td>2019-12-22 09:45:00</td>\n",
              "</tr>\n",
              "</table>"
            ],
            "text/plain": [
              "+--------+---------------------+\n",
              "| emp_id | in_time             |\n",
              "+--------+---------------------+\n",
              "| 1      | 2019-12-22 09:00:00 |\n",
              "+--------+---------------------+\n",
              "| 2      | 2019-12-22 09:30:00 |\n",
              "+--------+---------------------+\n",
              "| 3      | 2019-12-22 09:45:00 |\n",
              "+--------+---------------------+\n",
              "| 4      | 2019-12-22 09:45:00 |\n",
              "+--------+---------------------+"
            ]
          },
          "execution_count": 10,
          "metadata": {},
          "output_type": "execute_result"
        }
      ],
      "source": [
        "select emp_id,max(time) as in_time from hospital \n",
        "    where action = 'in'\n",
        "group by 1"
      ]
    },
    {
      "cell_type": "code",
      "execution_count": 11,
      "metadata": {
        "trusted": true
      },
      "outputs": [
        {
          "data": {
            "text/html": [
              "<table>\n",
              "<tr>\n",
              "<th>emp_id</th>\n",
              "<th>out_time</th>\n",
              "</tr>\n",
              "<tr>\n",
              "<td>1</td>\n",
              "<td>2019-12-22 09:15:00</td>\n",
              "</tr>\n",
              "<tr>\n",
              "<td>2</td>\n",
              "<td>2019-12-22 09:15:00</td>\n",
              "</tr>\n",
              "<tr>\n",
              "<td>3</td>\n",
              "<td>2019-12-22 09:30:00</td>\n",
              "</tr>\n",
              "<tr>\n",
              "<td>5</td>\n",
              "<td>2019-12-22 09:40:00</td>\n",
              "</tr>\n",
              "</table>"
            ],
            "text/plain": [
              "+--------+---------------------+\n",
              "| emp_id | out_time            |\n",
              "+--------+---------------------+\n",
              "| 1      | 2019-12-22 09:15:00 |\n",
              "+--------+---------------------+\n",
              "| 2      | 2019-12-22 09:15:00 |\n",
              "+--------+---------------------+\n",
              "| 3      | 2019-12-22 09:30:00 |\n",
              "+--------+---------------------+\n",
              "| 5      | 2019-12-22 09:40:00 |\n",
              "+--------+---------------------+"
            ]
          },
          "execution_count": 11,
          "metadata": {},
          "output_type": "execute_result"
        }
      ],
      "source": [
        "select emp_id,max(time) as out_time from hospital \n",
        "    where action = 'out'\n",
        "group by 1"
      ]
    },
    {
      "cell_type": "code",
      "execution_count": 16,
      "metadata": {
        "trusted": true
      },
      "outputs": [
        {
          "data": {
            "text/html": [
              "<table>\n",
              "<tr>\n",
              "<th>emp_id</th>\n",
              "<th>in_time</th>\n",
              "<th>emp_id</th>\n",
              "<th>out_time</th>\n",
              "</tr>\n",
              "<tr>\n",
              "<td>2</td>\n",
              "<td>2019-12-22 09:30:00</td>\n",
              "<td>2</td>\n",
              "<td>2019-12-22 09:15:00</td>\n",
              "</tr>\n",
              "<tr>\n",
              "<td>3</td>\n",
              "<td>2019-12-22 09:45:00</td>\n",
              "<td>3</td>\n",
              "<td>2019-12-22 09:30:00</td>\n",
              "</tr>\n",
              "<tr>\n",
              "<td>4</td>\n",
              "<td>2019-12-22 09:45:00</td>\n",
              "<td></td>\n",
              "<td></td>\n",
              "</tr>\n",
              "</table>"
            ],
            "text/plain": [
              "+--------+---------------------+--------+---------------------+\n",
              "| emp_id | in_time             | emp_id | out_time            |\n",
              "+--------+---------------------+--------+---------------------+\n",
              "| 2      | 2019-12-22 09:30:00 | 2      | 2019-12-22 09:15:00 |\n",
              "+--------+---------------------+--------+---------------------+\n",
              "| 3      | 2019-12-22 09:45:00 | 3      | 2019-12-22 09:30:00 |\n",
              "+--------+---------------------+--------+---------------------+\n",
              "| 4      | 2019-12-22 09:45:00 |        |                     |\n",
              "+--------+---------------------+--------+---------------------+"
            ]
          },
          "execution_count": 16,
          "metadata": {},
          "output_type": "execute_result"
        }
      ],
      "source": [
        "with latest_in as (select emp_id,max(time) as in_time from hospital \n",
        "    where action = 'in'\n",
        "group by 1),\n",
        "latest_out as (select emp_id,max(time) as out_time from hospital \n",
        "    where action = 'out'\n",
        "group by 1)\n",
        "\n",
        "select * from latest_in a\n",
        "left join latest_out b on\n",
        "a.emp_id = b.emp_id\n",
        "\n",
        "where in_time > out_time or out_time is null"
      ]
    },
    {
      "cell_type": "code",
      "execution_count": null,
      "metadata": {
        "trusted": true
      },
      "outputs": [],
      "source": []
    }
  ],
  "metadata": {
    "kernelspec": {
      "display_name": "SQLite",
      "language": "sql",
      "name": "SQLite"
    },
    "language_info": {
      "codemirror_mode": "sql",
      "file_extension": "",
      "mimetype": "",
      "name": "sql",
      "version": "3.32.3"
    }
  },
  "nbformat": 4,
  "nbformat_minor": 4
}
