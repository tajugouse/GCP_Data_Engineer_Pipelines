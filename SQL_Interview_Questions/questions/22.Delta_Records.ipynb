{
  "cells": [
    {
      "cell_type": "code",
      "execution_count": 1,
      "metadata": {
        "trusted": true
      },
      "outputs": [],
      "source": [
        "%CREATE potato.db "
      ]
    },
    {
      "cell_type": "code",
      "execution_count": 2,
      "metadata": {
        "trusted": true
      },
      "outputs": [],
      "source": [
        "create table tbl_orders (\n",
        "order_id integer,\n",
        "order_date date\n",
        ");"
      ]
    },
    {
      "cell_type": "code",
      "execution_count": 3,
      "metadata": {
        "trusted": true
      },
      "outputs": [],
      "source": [
        "\n",
        "insert into tbl_orders\n",
        "values (1,'2022-10-21'),(2,'2022-10-22'),\n",
        "(3,'2022-10-25'),(4,'2022-10-25');\n"
      ]
    },
    {
      "cell_type": "code",
      "execution_count": 5,
      "metadata": {
        "trusted": true
      },
      "outputs": [],
      "source": [
        "create table  as select * from  tbl_orders;\n"
      ]
    },
    {
      "cell_type": "code",
      "execution_count": 6,
      "metadata": {
        "trusted": true
      },
      "outputs": [
        {
          "data": {
            "text/html": [
              "<table>\n",
              "<tr>\n",
              "<th>order_id</th>\n",
              "<th>order_date</th>\n",
              "</tr>\n",
              "<tr>\n",
              "<td>1</td>\n",
              "<td>2022-10-21</td>\n",
              "</tr>\n",
              "<tr>\n",
              "<td>2</td>\n",
              "<td>2022-10-22</td>\n",
              "</tr>\n",
              "<tr>\n",
              "<td>3</td>\n",
              "<td>2022-10-25</td>\n",
              "</tr>\n",
              "<tr>\n",
              "<td>4</td>\n",
              "<td>2022-10-25</td>\n",
              "</tr>\n",
              "</table>"
            ],
            "text/plain": [
              "+----------+------------+\n",
              "| order_id | order_date |\n",
              "+----------+------------+\n",
              "| 1        | 2022-10-21 |\n",
              "+----------+------------+\n",
              "| 2        | 2022-10-22 |\n",
              "+----------+------------+\n",
              "| 3        | 2022-10-25 |\n",
              "+----------+------------+\n",
              "| 4        | 2022-10-25 |\n",
              "+----------+------------+"
            ]
          },
          "execution_count": 6,
          "metadata": {},
          "output_type": "execute_result"
        }
      ],
      "source": [
        "select * from tbl_orders;"
      ]
    },
    {
      "cell_type": "code",
      "execution_count": 7,
      "metadata": {
        "trusted": true
      },
      "outputs": [
        {
          "data": {
            "text/html": [
              "<table>\n",
              "<tr>\n",
              "<th>order_id</th>\n",
              "<th>order_date</th>\n",
              "</tr>\n",
              "<tr>\n",
              "<td>1</td>\n",
              "<td>2022-10-21</td>\n",
              "</tr>\n",
              "<tr>\n",
              "<td>2</td>\n",
              "<td>2022-10-22</td>\n",
              "</tr>\n",
              "<tr>\n",
              "<td>3</td>\n",
              "<td>2022-10-25</td>\n",
              "</tr>\n",
              "<tr>\n",
              "<td>4</td>\n",
              "<td>2022-10-25</td>\n",
              "</tr>\n",
              "</table>"
            ],
            "text/plain": [
              "+----------+------------+\n",
              "| order_id | order_date |\n",
              "+----------+------------+\n",
              "| 1        | 2022-10-21 |\n",
              "+----------+------------+\n",
              "| 2        | 2022-10-22 |\n",
              "+----------+------------+\n",
              "| 3        | 2022-10-25 |\n",
              "+----------+------------+\n",
              "| 4        | 2022-10-25 |\n",
              "+----------+------------+"
            ]
          },
          "execution_count": 7,
          "metadata": {},
          "output_type": "execute_result"
        }
      ],
      "source": [
        "select * from tbl_orders_copy"
      ]
    },
    {
      "cell_type": "markdown",
      "metadata": {},
      "source": [
        "Lets insert few records and delete order_id = 1"
      ]
    },
    {
      "cell_type": "code",
      "execution_count": 8,
      "metadata": {
        "trusted": true
      },
      "outputs": [],
      "source": [
        "insert into tbl_orders\n",
        "values (5,'2022-10-26'),(6,'2022-10-26');\n"
      ]
    },
    {
      "cell_type": "code",
      "execution_count": 9,
      "metadata": {
        "trusted": true
      },
      "outputs": [],
      "source": [
        "delete from tbl_orders where order_id=1;"
      ]
    },
    {
      "cell_type": "code",
      "execution_count": 10,
      "metadata": {
        "trusted": true
      },
      "outputs": [
        {
          "data": {
            "text/html": [
              "<table>\n",
              "<tr>\n",
              "<th>order_id</th>\n",
              "<th>order_date</th>\n",
              "</tr>\n",
              "<tr>\n",
              "<td>2</td>\n",
              "<td>2022-10-22</td>\n",
              "</tr>\n",
              "<tr>\n",
              "<td>3</td>\n",
              "<td>2022-10-25</td>\n",
              "</tr>\n",
              "<tr>\n",
              "<td>4</td>\n",
              "<td>2022-10-25</td>\n",
              "</tr>\n",
              "<tr>\n",
              "<td>5</td>\n",
              "<td>2022-10-26</td>\n",
              "</tr>\n",
              "<tr>\n",
              "<td>6</td>\n",
              "<td>2022-10-26</td>\n",
              "</tr>\n",
              "</table>"
            ],
            "text/plain": [
              "+----------+------------+\n",
              "| order_id | order_date |\n",
              "+----------+------------+\n",
              "| 2        | 2022-10-22 |\n",
              "+----------+------------+\n",
              "| 3        | 2022-10-25 |\n",
              "+----------+------------+\n",
              "| 4        | 2022-10-25 |\n",
              "+----------+------------+\n",
              "| 5        | 2022-10-26 |\n",
              "+----------+------------+\n",
              "| 6        | 2022-10-26 |\n",
              "+----------+------------+"
            ]
          },
          "execution_count": 10,
          "metadata": {},
          "output_type": "execute_result"
        }
      ],
      "source": [
        "select * from tbl_orders;"
      ]
    },
    {
      "cell_type": "code",
      "execution_count": 11,
      "metadata": {
        "trusted": true
      },
      "outputs": [
        {
          "data": {
            "text/html": [
              "<table>\n",
              "<tr>\n",
              "<th>order_id</th>\n",
              "<th>order_date</th>\n",
              "</tr>\n",
              "<tr>\n",
              "<td>1</td>\n",
              "<td>2022-10-21</td>\n",
              "</tr>\n",
              "<tr>\n",
              "<td>2</td>\n",
              "<td>2022-10-22</td>\n",
              "</tr>\n",
              "<tr>\n",
              "<td>3</td>\n",
              "<td>2022-10-25</td>\n",
              "</tr>\n",
              "<tr>\n",
              "<td>4</td>\n",
              "<td>2022-10-25</td>\n",
              "</tr>\n",
              "</table>"
            ],
            "text/plain": [
              "+----------+------------+\n",
              "| order_id | order_date |\n",
              "+----------+------------+\n",
              "| 1        | 2022-10-21 |\n",
              "+----------+------------+\n",
              "| 2        | 2022-10-22 |\n",
              "+----------+------------+\n",
              "| 3        | 2022-10-25 |\n",
              "+----------+------------+\n",
              "| 4        | 2022-10-25 |\n",
              "+----------+------------+"
            ]
          },
          "execution_count": 11,
          "metadata": {},
          "output_type": "execute_result"
        }
      ],
      "source": [
        "select * from tbl_orders_copy"
      ]
    },
    {
      "cell_type": "code",
      "execution_count": null,
      "metadata": {
        "trusted": true
      },
      "outputs": [],
      "source": [
        "select bkp.*,src.*\n",
        "from tbl_orders_copy bkp\n",
        "full outer join tbl_orders src\n",
        "on bkp.order_id = src.order_id"
      ]
    },
    {
      "cell_type": "raw",
      "metadata": {
        "vscode": {
          "languageId": "raw"
        }
      },
      "source": [
        "ORDER_ID\tORDER_DATE\tORDER_ID\tORDER_DATE\n",
        "2\t        22-OCT-22\t2\t    22-OCT-22\n",
        "3\t        25-OCT-22\t3\t    25-OCT-22\n",
        "4\t        25-OCT-22\t4\t    25-OCT-22\n",
        "NULL \t      NULL \t    5\t    26-OCT-22\n",
        "NULL\t      NULL \t    6\t    26-OCT-22\n",
        "1\t        21-OCT-22\tNULL     NULL "
      ]
    },
    {
      "cell_type": "code",
      "execution_count": null,
      "metadata": {
        "trusted": true
      },
      "outputs": [],
      "source": [
        "select coalesce(bkp.ORDER_ID,src.order_id) as order_id,\n",
        "(case when bkp.order_id is null then 'I'\n",
        "    when src.order_id is null then 'D' end) as Flag \n",
        "from tbl_orders_copy bkp\n",
        "full outer join tbl_orders src\n",
        "on bkp.order_id = src.order_id\n",
        "\n",
        "where bkp.order_id is null or src.order_id is null"
      ]
    },
    {
      "cell_type": "raw",
      "metadata": {},
      "source": [
        " ORDER_ID\t    FLAG\n",
        " 5\t         I\n",
        " 6\t         I\n",
        " 1\t         D"
      ]
    },
    {
      "cell_type": "code",
      "execution_count": null,
      "metadata": {
        "trusted": true
      },
      "outputs": [],
      "source": []
    }
  ],
  "metadata": {
    "kernelspec": {
      "display_name": "SQLite",
      "language": "sql",
      "name": "SQLite"
    },
    "language_info": {
      "codemirror_mode": "sql",
      "file_extension": "",
      "mimetype": "",
      "name": "sql",
      "version": "3.32.3"
    }
  },
  "nbformat": 4,
  "nbformat_minor": 4
}
