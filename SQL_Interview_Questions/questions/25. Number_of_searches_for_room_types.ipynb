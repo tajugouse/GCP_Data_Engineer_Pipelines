{
  "cells": [
    {
      "cell_type": "markdown",
      "metadata": {},
      "source": [
        "## Find the room types that are searched most no of times. Ouput the room type along with sumber of searches for it. There can be multiple room type seachres in a single search, so considere each unique type as seperate row. sort them in desc ##"
      ]
    },
    {
      "cell_type": "code",
      "execution_count": 2,
      "metadata": {
        "trusted": true
      },
      "outputs": [],
      "source": [
        "%create example.db"
      ]
    },
    {
      "cell_type": "code",
      "execution_count": 3,
      "metadata": {
        "trusted": true
      },
      "outputs": [],
      "source": [
        "create table airbnb_searches \n",
        "(\n",
        "user_id int,\n",
        "date_searched date,\n",
        "filter_room_types varchar(200)\n",
        ");"
      ]
    },
    {
      "cell_type": "code",
      "execution_count": 15,
      "metadata": {
        "trusted": true
      },
      "outputs": [],
      "source": [
        "insert into airbnb_searches values\n",
        "(1,'2022-01-01','entire home,private room')\n",
        ",(2,'2022-01-02','entire home,shared room')\n",
        ",(3,'2022-01-02','private room,shared room')\n",
        ",(4,'2022-01-03','private room')\n",
        ";"
      ]
    },
    {
      "cell_type": "code",
      "execution_count": 16,
      "metadata": {
        "trusted": true
      },
      "outputs": [
        {
          "data": {
            "text/html": [
              "<table>\n",
              "<tr>\n",
              "<th>user_id</th>\n",
              "<th>date_searched</th>\n",
              "<th>filter_room_types</th>\n",
              "</tr>\n",
              "<tr>\n",
              "<td>1</td>\n",
              "<td>2022-01-01</td>\n",
              "<td>entire home,private room</td>\n",
              "</tr>\n",
              "<tr>\n",
              "<td>2</td>\n",
              "<td>2022-01-02</td>\n",
              "<td>entire home,shared room</td>\n",
              "</tr>\n",
              "<tr>\n",
              "<td>3</td>\n",
              "<td>2022-01-02</td>\n",
              "<td>private room,shared room</td>\n",
              "</tr>\n",
              "<tr>\n",
              "<td>4</td>\n",
              "<td>2022-01-03</td>\n",
              "<td>private room</td>\n",
              "</tr>\n",
              "</table>"
            ],
            "text/plain": [
              "+---------+---------------+--------------------------+\n",
              "| user_id | date_searched | filter_room_types        |\n",
              "+---------+---------------+--------------------------+\n",
              "| 1       | 2022-01-01    | entire home,private room |\n",
              "+---------+---------------+--------------------------+\n",
              "| 2       | 2022-01-02    | entire home,shared room  |\n",
              "+---------+---------------+--------------------------+\n",
              "| 3       | 2022-01-02    | private room,shared room |\n",
              "+---------+---------------+--------------------------+\n",
              "| 4       | 2022-01-03    | private room             |\n",
              "+---------+---------------+--------------------------+"
            ]
          },
          "execution_count": 16,
          "metadata": {},
          "output_type": "execute_result"
        }
      ],
      "source": [
        "select * from airbnb_searches"
      ]
    },
    {
      "cell_type": "code",
      "execution_count": 29,
      "metadata": {
        "trusted": true
      },
      "outputs": [
        {
          "data": {
            "text/html": [
              "<table>\n",
              "<tr>\n",
              "<th>en</th>\n",
              "<th>pv</th>\n",
              "<th>sh</th>\n",
              "</tr>\n",
              "<tr>\n",
              "<td>2</td>\n",
              "<td>3</td>\n",
              "<td>2</td>\n",
              "</tr>\n",
              "</table>"
            ],
            "text/plain": [
              "+----+----+----+\n",
              "| en | pv | sh |\n",
              "+----+----+----+\n",
              "| 2  | 3  | 2  |\n",
              "+----+----+----+"
            ]
          },
          "execution_count": 29,
          "metadata": {},
          "output_type": "execute_result"
        }
      ],
      "source": [
        "select \n",
        "sum(case when filter_room_types like '%entire %' then 1 else 0 end) as en,\n",
        "sum(case when filter_room_types like '%private%' then 1 else 0 end )as pv,\n",
        "sum(case when filter_room_types like '%shared%' then 1 else 0 end) as sh\n",
        "from airbnb_searches"
      ]
    },
    {
      "cell_type": "code",
      "execution_count": 32,
      "metadata": {
        "trusted": true
      },
      "outputs": [
        {
          "data": {
            "text/html": [
              "<table>\n",
              "<tr>\n",
              "<th>value</th>\n",
              "<th>cnt</th>\n",
              "</tr>\n",
              "<tr>\n",
              "<td>private room</td>\n",
              "<td>3</td>\n",
              "</tr>\n",
              "<tr>\n",
              "<td>entire room</td>\n",
              "<td>2</td>\n",
              "</tr>\n",
              "<tr>\n",
              "<td>shared room</td>\n",
              "<td>2</td>\n",
              "</tr>\n",
              "</table>"
            ],
            "text/plain": [
              "+--------------+-----+\n",
              "| value        | cnt |\n",
              "+--------------+-----+\n",
              "| private room | 3   |\n",
              "+--------------+-----+\n",
              "| entire room  | 2   |\n",
              "+--------------+-----+\n",
              "| shared room  | 2   |\n",
              "+--------------+-----+"
            ]
          },
          "execution_count": 32,
          "metadata": {},
          "output_type": "execute_result"
        }
      ],
      "source": [
        "with cte as (select \n",
        "sum(case when filter_room_types like '%entire %' then 1 else 0 end) as en,\n",
        "sum(case when filter_room_types like '%private%' then 1 else 0 end )as pv,\n",
        "sum(case when filter_room_types like '%shared%' then 1 else 0 end) as sh\n",
        "from airbnb_searches)\n",
        "\n",
        "select 'entire room' as value,en cnt from cte\n",
        "\n",
        "union all\n",
        "select 'private room' as value,pv cnt from cte\n",
        "union all\n",
        "select 'shared room' as value,sh cnt from cte\n",
        "order by cnt desc;\n"
      ]
    },
    {
      "cell_type": "code",
      "execution_count": null,
      "metadata": {
        "trusted": true
      },
      "outputs": [],
      "source": [
        "-- or\n",
        "\n",
        "select value as room_type,count(1) as number+_of_searches from airbnb_searches\n",
        "\n",
        "cross apply string_split(filter_room_types,',')\n",
        "group by value\n",
        "desc by count(1)"
      ]
    },
    {
      "cell_type": "code",
      "execution_count": null,
      "metadata": {},
      "outputs": [],
      "source": []
    }
  ],
  "metadata": {
    "kernelspec": {
      "display_name": "SQLite",
      "language": "sql",
      "name": "SQLite"
    },
    "language_info": {
      "codemirror_mode": "sql",
      "file_extension": "",
      "mimetype": "",
      "name": "sql",
      "version": "3.32.3"
    }
  },
  "nbformat": 4,
  "nbformat_minor": 4
}
