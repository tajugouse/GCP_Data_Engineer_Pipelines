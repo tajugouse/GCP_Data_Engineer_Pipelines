{
  "metadata": {
    "kernelspec": {
      "name": "SQLite",
      "display_name": "SQLite",
      "language": "sql"
    },
    "language_info": {
      "codemirror_mode": "sql",
      "file_extension": "",
      "mimetype": "",
      "name": "sql",
      "version": "3.32.3"
    }
  },
  "nbformat_minor": 4,
  "nbformat": 4,
  "cells": [
    {
      "cell_type": "markdown",
      "source": "### Find number of users who purchased same prodcut on same dates ###",
      "metadata": {}
    },
    {
      "cell_type": "code",
      "source": "%CREATE potato.db ",
      "metadata": {
        "trusted": true
      },
      "outputs": [],
      "execution_count": 1
    },
    {
      "cell_type": "code",
      "source": "CREATE TABLE purchases (\n  user_id NUMBER,\n  product_id NUMBER,\n  quantity NUMBER,\n  purchase_date DATE\n);",
      "metadata": {
        "trusted": true
      },
      "outputs": [],
      "execution_count": null
    },
    {
      "cell_type": "code",
      "source": "INSERT INTO purchases VALUES \n    (827, 3585, 35, '02/20/2022 14:05:26')\n(536, 3223, 5, '03/02/2022 09:33:28'),\n(536, 1435, 10, '03/02/2022 08:40:00'),\n(827, 2452, 45, '04/09/2022 00:00:00');",
      "metadata": {
        "trusted": true
      },
      "outputs": [],
      "execution_count": 17
    },
    {
      "cell_type": "code",
      "source": "select * from purchases",
      "metadata": {
        "trusted": true
      },
      "outputs": [
        {
          "execution_count": 18,
          "output_type": "execute_result",
          "data": {
            "text/html": "<table>\n<tr>\n<th>user_id</th>\n<th>product_id</th>\n<th>quantity</th>\n<th>purchase_date</th>\n</tr>\n<tr>\n<td>536</td>\n<td>3223</td>\n<td>6</td>\n<td>01/11/2022 12:33:44</td>\n</tr>\n<tr>\n<td>827</td>\n<td>3585</td>\n<td>35</td>\n<td>02/20/2022 14:05:26</td>\n</tr>\n<tr>\n<td>536</td>\n<td>3223</td>\n<td>5</td>\n<td>03/02/2022 09:33:28</td>\n</tr>\n<tr>\n<td>536</td>\n<td>1435</td>\n<td>10</td>\n<td>03/02/2022 08:40:00</td>\n</tr>\n<tr>\n<td>827</td>\n<td>2452</td>\n<td>45</td>\n<td>04/09/2022 00:00:00</td>\n</tr>\n</table>",
            "text/plain": "+---------+------------+----------+---------------------+\n| user_id | product_id | quantity | purchase_date       |\n+---------+------------+----------+---------------------+\n| 536     | 3223       | 6        | 01/11/2022 12:33:44 |\n+---------+------------+----------+---------------------+\n| 827     | 3585       | 35       | 02/20/2022 14:05:26 |\n+---------+------------+----------+---------------------+\n| 536     | 3223       | 5        | 03/02/2022 09:33:28 |\n+---------+------------+----------+---------------------+\n| 536     | 1435       | 10       | 03/02/2022 08:40:00 |\n+---------+------------+----------+---------------------+\n| 827     | 2452       | 45       | 04/09/2022 00:00:00 |\n+---------+------------+----------+---------------------+"
          },
          "metadata": {}
        }
      ],
      "execution_count": 18
    },
    {
      "cell_type": "code",
      "source": "select count(1) as Num_users from (select user_id,product_id,count(1) from purchases\ngroup by user_id,product_id\nhaving count(1) >1\n)",
      "metadata": {
        "trusted": true
      },
      "outputs": [
        {
          "execution_count": 23,
          "output_type": "execute_result",
          "data": {
            "text/html": "<table>\n<tr>\n<th>Num_users</th>\n</tr>\n<tr>\n<td>1</td>\n</tr>\n</table>",
            "text/plain": "+-----------+\n| Num_users |\n+-----------+\n| 1         |\n+-----------+"
          },
          "metadata": {}
        }
      ],
      "execution_count": 23
    },
    {
      "cell_type": "code",
      "source": "",
      "metadata": {
        "trusted": true
      },
      "outputs": [],
      "execution_count": null
    }
  ]
}