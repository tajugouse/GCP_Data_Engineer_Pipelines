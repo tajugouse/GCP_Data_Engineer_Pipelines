{
  "metadata": {
    "kernelspec": {
      "name": "python",
      "display_name": "Python (Pyodide)",
      "language": "python"
    },
    "language_info": {
      "codemirror_mode": {
        "name": "python",
        "version": 3
      },
      "file_extension": ".py",
      "mimetype": "text/x-python",
      "name": "python",
      "nbconvert_exporter": "python",
      "pygments_lexer": "ipython3",
      "version": "3.8"
    }
  },
  "nbformat_minor": 4,
  "nbformat": 4,
  "cells": [
    {
      "cell_type": "code",
      "source": "import re\n\ndef findings(text):\n    numbers = re.findall(r'\\d',text) #\\d finds all digits in text\n    letters = re.findall(r'[a-zA-Z]',text) \n    return ''.join(numbers),''.join(letters)\n\nprint(findings(\"aa2hhh3m1ggggg5\"))",
      "metadata": {
        "trusted": true
      },
      "outputs": [
        {
          "name": "stdout",
          "text": "('2315', 'aahhhmggggg')\n",
          "output_type": "stream"
        }
      ],
      "execution_count": 25
    },
    {
      "cell_type": "code",
      "source": "def count_word(word):\n    '''Count a occurance of word from a words of sentense'''\n    list1 = word.split()\n    count = 0\n    for i in list1:\n        if i == 'is':\n            count +=1\n    return count\n\nprint(count_word(\" This is a word. Notebook is excellent!\"))",
      "metadata": {
        "trusted": true
      },
      "outputs": [
        {
          "name": "stdout",
          "text": "2\n",
          "output_type": "stream"
        }
      ],
      "execution_count": 31
    },
    {
      "cell_type": "code",
      "source": "d = {1:30,2:34,3:36}\nfor i,j in d.items():\n    print(i,\":\",j)",
      "metadata": {
        "trusted": true
      },
      "outputs": [
        {
          "name": "stdout",
          "text": "1 : 30\n2 : 34\n3 : 36\n",
          "output_type": "stream"
        }
      ],
      "execution_count": 68
    },
    {
      "cell_type": "markdown",
      "source": "# $Oops Concepts$ #",
      "metadata": {}
    },
    {
      "cell_type": "code",
      "source": "# creating class\nclass someclass():\n    def __init__(self,name,age,color):\n        self.name= name\n        self.age= age\n        self.color= color\n\n    # creating method\n    def year_of_birth(self):\n        return 2024-self.age\n    \n    def project_age(self,years=4):\n        return int(self.age)+years\n        ",
      "metadata": {
        "trusted": true
      },
      "outputs": [],
      "execution_count": 128
    },
    {
      "cell_type": "code",
      "source": "# creating object\nperson = someclass('shaik',24,'brown')",
      "metadata": {
        "trusted": true
      },
      "outputs": [],
      "execution_count": 106
    },
    {
      "cell_type": "code",
      "source": "# access attributes of a class\nperson.color\n",
      "metadata": {
        "trusted": true
      },
      "outputs": [
        {
          "execution_count": 107,
          "output_type": "execute_result",
          "data": {
            "text/plain": "'brown'"
          },
          "metadata": {}
        }
      ],
      "execution_count": 107
    },
    {
      "cell_type": "code",
      "source": "# access method of a class\nperson.year_of_birth()",
      "metadata": {
        "trusted": true
      },
      "outputs": [
        {
          "execution_count": 108,
          "output_type": "execute_result",
          "data": {
            "text/plain": "2000"
          },
          "metadata": {}
        }
      ],
      "execution_count": 108
    },
    {
      "cell_type": "code",
      "source": "person.project_age()",
      "metadata": {
        "trusted": true
      },
      "outputs": [
        {
          "execution_count": 109,
          "output_type": "execute_result",
          "data": {
            "text/plain": "28"
          },
          "metadata": {}
        }
      ],
      "execution_count": 109
    },
    {
      "cell_type": "markdown",
      "source": "# $Inheritance$ #",
      "metadata": {}
    },
    {
      "cell_type": "markdown",
      "source": ">someclass -- Parent class is passing its attributes and methods to child\n\n>Child class which is inheriting all attributres and methods from parent",
      "metadata": {}
    },
    {
      "cell_type": "code",
      "source": "class childclass(someclass):\n    def __init__(self, name, age, color, months):\n        super().__init__(name, age, color)\n        self.len_months = months\n\n    def somemethod(self):\n        return self.project_age(years=self.len_months // 12)  # use integer division (//) to avoid fractional years",
      "metadata": {
        "trusted": true
      },
      "outputs": [],
      "execution_count": 136
    },
    {
      "cell_type": "code",
      "source": "person2=childclass('fayiz',25,'brown',24)",
      "metadata": {
        "trusted": true
      },
      "outputs": [],
      "execution_count": 137
    },
    {
      "cell_type": "code",
      "source": "person2.project_age()",
      "metadata": {
        "trusted": true
      },
      "outputs": [
        {
          "execution_count": 139,
          "output_type": "execute_result",
          "data": {
            "text/plain": "29"
          },
          "metadata": {}
        }
      ],
      "execution_count": 139
    },
    {
      "cell_type": "code",
      "source": "!pip install requests",
      "metadata": {
        "trusted": true
      },
      "outputs": [],
      "execution_count": null
    },
    {
      "cell_type": "markdown",
      "source": "# $File Handling$ #",
      "metadata": {}
    },
    {
      "cell_type": "code",
      "source": "with open('file.txt','w') as file:\n    file.write(\"This is a written file\")\n    ",
      "metadata": {
        "trusted": true
      },
      "outputs": [],
      "execution_count": null
    },
    {
      "cell_type": "code",
      "source": "with open('file.txt','r') as file:\n    content=file.read()\n    print(content)",
      "metadata": {
        "trusted": true
      },
      "outputs": [
        {
          "name": "stdout",
          "text": "This is a written file\n",
          "output_type": "stream"
        }
      ],
      "execution_count": 147
    },
    {
      "cell_type": "markdown",
      "source": "# $Error Handling$ #",
      "metadata": {}
    },
    {
      "cell_type": "code",
      "source": "a = {1,3,5,6}\n\ntry:\n    a[0]=9\nexcept Exception as e:\n    print(e)\n    print(\"set is a immutable can't be modified\")",
      "metadata": {
        "trusted": true
      },
      "outputs": [
        {
          "name": "stdout",
          "text": "'set' object does not support item assignment\nset is a immutable can't be modified\n",
          "output_type": "stream"
        }
      ],
      "execution_count": 148
    },
    {
      "cell_type": "code",
      "source": "",
      "metadata": {
        "trusted": true
      },
      "outputs": [],
      "execution_count": null
    }
  ]
}