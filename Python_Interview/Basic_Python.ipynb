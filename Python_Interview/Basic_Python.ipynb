{
  "cells": [
    {
      "cell_type": "code",
      "execution_count": 25,
      "metadata": {
        "trusted": true
      },
      "outputs": [
        {
          "name": "stdout",
          "output_type": "stream",
          "text": [
            "('2315', 'aahhhmggggg')\n"
          ]
        }
      ],
      "source": [
        "import re\n",
        "\n",
        "def findings(text):\n",
        "    numbers = re.findall(r'\\d',text) #\\d finds all digits in text\n",
        "    letters = re.findall(r'[a-zA-Z]',text) \n",
        "    return ''.join(numbers),''.join(letters)\n",
        "\n",
        "print(findings(\"aa2hhh3m1ggggg5\"))"
      ]
    },
    {
      "cell_type": "code",
      "execution_count": 31,
      "metadata": {
        "trusted": true
      },
      "outputs": [
        {
          "name": "stdout",
          "output_type": "stream",
          "text": [
            "2\n"
          ]
        }
      ],
      "source": [
        "def count_word(word):\n",
        "    '''Count a occurance of word from a words of sentense'''\n",
        "    list1 = word.split()\n",
        "    count = 0\n",
        "    for i in list1:\n",
        "        if i == 'is':\n",
        "            count +=1\n",
        "    return count\n",
        "\n",
        "print(count_word(\" This is a word. Notebook is excellent!\"))"
      ]
    },
    {
      "cell_type": "code",
      "execution_count": 68,
      "metadata": {
        "trusted": true
      },
      "outputs": [
        {
          "name": "stdout",
          "output_type": "stream",
          "text": [
            "1 : 30\n",
            "2 : 34\n",
            "3 : 36\n"
          ]
        }
      ],
      "source": [
        "d = {1:30,2:34,3:36}\n",
        "for i,j in d.items():\n",
        "    print(i,\":\",j)"
      ]
    },
    {
      "cell_type": "markdown",
      "metadata": {},
      "source": [
        "# $Oops Concepts$ #"
      ]
    },
    {
      "cell_type": "code",
      "execution_count": 128,
      "metadata": {
        "trusted": true
      },
      "outputs": [],
      "source": [
        "# creating class\n",
        "class someclass():\n",
        "    def __init__(self,name,age,color):\n",
        "        self.name= name\n",
        "        self.age= age\n",
        "        self.color= color\n",
        "\n",
        "    # creating method\n",
        "    def year_of_birth(self):\n",
        "        return 2024-self.age\n",
        "    \n",
        "    def project_age(self,years=4):\n",
        "        return int(self.age)+years\n",
        "        "
      ]
    },
    {
      "cell_type": "code",
      "execution_count": 106,
      "metadata": {
        "trusted": true
      },
      "outputs": [],
      "source": [
        "# creating object\n",
        "person = someclass('shaik',24,'brown')"
      ]
    },
    {
      "cell_type": "code",
      "execution_count": 107,
      "metadata": {
        "trusted": true
      },
      "outputs": [
        {
          "data": {
            "text/plain": [
              "'brown'"
            ]
          },
          "execution_count": 107,
          "metadata": {},
          "output_type": "execute_result"
        }
      ],
      "source": [
        "# access attributes of a class\n",
        "person.color\n"
      ]
    },
    {
      "cell_type": "code",
      "execution_count": 108,
      "metadata": {
        "trusted": true
      },
      "outputs": [
        {
          "data": {
            "text/plain": [
              "2000"
            ]
          },
          "execution_count": 108,
          "metadata": {},
          "output_type": "execute_result"
        }
      ],
      "source": [
        "# access method of a class\n",
        "person.year_of_birth()"
      ]
    },
    {
      "cell_type": "code",
      "execution_count": 109,
      "metadata": {
        "trusted": true
      },
      "outputs": [
        {
          "data": {
            "text/plain": [
              "28"
            ]
          },
          "execution_count": 109,
          "metadata": {},
          "output_type": "execute_result"
        }
      ],
      "source": [
        "person.project_age()"
      ]
    },
    {
      "cell_type": "markdown",
      "metadata": {},
      "source": [
        "# $Inheritance$ #"
      ]
    },
    {
      "cell_type": "markdown",
      "metadata": {},
      "source": [
        ">someclass -- Parent class is passing its attributes and methods to child\n",
        "\n",
        ">Child class which is inheriting all attributres and methods from parent"
      ]
    },
    {
      "cell_type": "code",
      "execution_count": 136,
      "metadata": {
        "trusted": true
      },
      "outputs": [],
      "source": [
        "class childclass(someclass):\n",
        "    def __init__(self, name, age, color, months):\n",
        "        super().__init__(name, age, color)\n",
        "        self.len_months = months\n",
        "\n",
        "    def somemethod(self):\n",
        "        return self.project_age(years=self.len_months // 12)  # use integer division (//) to avoid fractional years"
      ]
    },
    {
      "cell_type": "code",
      "execution_count": 137,
      "metadata": {
        "trusted": true
      },
      "outputs": [],
      "source": [
        "person2=childclass('fayiz',25,'brown',24)"
      ]
    },
    {
      "cell_type": "code",
      "execution_count": 139,
      "metadata": {
        "trusted": true
      },
      "outputs": [
        {
          "data": {
            "text/plain": [
              "29"
            ]
          },
          "execution_count": 139,
          "metadata": {},
          "output_type": "execute_result"
        }
      ],
      "source": [
        "person2.project_age()"
      ]
    },
    {
      "cell_type": "code",
      "execution_count": null,
      "metadata": {
        "trusted": true
      },
      "outputs": [],
      "source": [
        "!pip install requests"
      ]
    },
    {
      "cell_type": "markdown",
      "metadata": {},
      "source": [
        "# $File Handling$ #"
      ]
    },
    {
      "cell_type": "code",
      "execution_count": null,
      "metadata": {
        "trusted": true
      },
      "outputs": [],
      "source": [
        "with open('file.txt','w') as file:\n",
        "    file.write(\"This is a written file\")\n",
        "    "
      ]
    },
    {
      "cell_type": "code",
      "execution_count": 147,
      "metadata": {
        "trusted": true
      },
      "outputs": [
        {
          "name": "stdout",
          "output_type": "stream",
          "text": [
            "This is a written file\n"
          ]
        }
      ],
      "source": [
        "with open('file.txt','r') as file:\n",
        "    content=file.read()\n",
        "    print(content)"
      ]
    },
    {
      "cell_type": "markdown",
      "metadata": {},
      "source": [
        "# $Error Handling$ #"
      ]
    },
    {
      "cell_type": "code",
      "execution_count": null,
      "metadata": {
        "trusted": true
      },
      "outputs": [
        {
          "name": "stdout",
          "output_type": "stream",
          "text": [
            "'set' object does not support item assignment\n",
            "set is a immutable can't be modified\n"
          ]
        }
      ],
      "source": [
        "a = {1,3,5,6}\n",
        "\n",
        "try:\n",
        "    a[0]=9\n",
        "except Exception as e:\n",
        "    print(e)\n",
        "    print(\"set is a immutable can't be modified\")"
      ]
    },
    {
      "cell_type": "markdown",
      "metadata": {},
      "source": [
        "# $Polymorphism$ #"
      ]
    },
    {
      "cell_type": "code",
      "execution_count": null,
      "metadata": {},
      "outputs": [],
      "source": [
        "class Animal():\n",
        "    def soud(self):\n",
        "        print(\"This animal make sound\")\n",
        "class dog(Animal):\n",
        "    def sound(self):\n",
        "        print(\"This Dog barks\")\n",
        "class cat(Animal):\n",
        "    def sound(self):\n",
        "        print(\"This cat meows\")\n",
        "\n",
        "## This is where polymorphism comes in\n",
        "\n",
        "def make_sound(animal:Animal):\n",
        "    animal.sound()\n",
        "\n",
        "\n",
        "my_dog = dog()\n",
        "my_cat = cat()\n",
        "\n",
        "make_sound(my_dog) #make sound function can take method from both dog and cat class\n",
        "make_sound(my_cat)"
      ]
    },
    {
      "cell_type": "code",
      "execution_count": null,
      "metadata": {},
      "outputs": [],
      "source": [
        "class Shape:\n",
        "  def area(self):\n",
        "    pass\n",
        "  def perimeter(self):\n",
        "    pass\n",
        "  def volume(self):\n",
        "    pass\n",
        "class Square(Shape):\n",
        "  def __init__(self, side_len):\n",
        "    self.side_len=side_len\n",
        "  def area(self):\n",
        "    return self.side_len**2\n",
        "  def perimeter(self):\n",
        "    return self.side_len*4\n",
        "  def volume(self):\n",
        "    return self.side_len**3\n",
        "\n",
        "\n",
        "shapes=Square(8)\n",
        "shapes.area()\n",
        "shapes.perimeter()\n",
        "shapes.volume()"
      ]
    },
    {
      "cell_type": "markdown",
      "metadata": {},
      "source": [
        "# $Abstraction$ #"
      ]
    },
    {
      "cell_type": "code",
      "execution_count": null,
      "metadata": {},
      "outputs": [],
      "source": [
        "from abc import ABC\n",
        "from abc import abstractmethod\n",
        "\n",
        "class Shape(ABC):\n",
        "    @abstractmethod\n",
        "    def calculate_area(self):\n",
        "        pass\n",
        "class Circle(Shape):\n",
        "    def __init__(self, radius):\n",
        "        self.radius = radius\n",
        "    def calculate_area(self):\n",
        "        return 3.14 * self.radius * self.radius\n",
        "\n",
        "class Rectangle(Shape):\n",
        "    def __init__(self, length, width):\n",
        "        self.length = length\n",
        "        self.width = width\n",
        "    def calculate_area(self):\n",
        "        return self.length * self.width\n",
        "\n",
        "circle = Circle(5)\n",
        "rectangle = Rectangle(4, 6)\n",
        "\n",
        "print(\"Area of Circle:\", circle.calculate_area())\n",
        "print(\"Area of Rectangle:\", rectangle.calculate_area())\n"
      ]
    },
    {
      "cell_type": "markdown",
      "metadata": {},
      "source": []
    },
    {
      "cell_type": "code",
      "execution_count": null,
      "metadata": {},
      "outputs": [],
      "source": []
    }
  ],
  "metadata": {
    "kernelspec": {
      "display_name": "Python (Pyodide)",
      "language": "python",
      "name": "python"
    },
    "language_info": {
      "codemirror_mode": {
        "name": "python",
        "version": 3
      },
      "file_extension": ".py",
      "mimetype": "text/x-python",
      "name": "python",
      "nbconvert_exporter": "python",
      "pygments_lexer": "ipython3",
      "version": "3.8"
    }
  },
  "nbformat": 4,
  "nbformat_minor": 4
}
