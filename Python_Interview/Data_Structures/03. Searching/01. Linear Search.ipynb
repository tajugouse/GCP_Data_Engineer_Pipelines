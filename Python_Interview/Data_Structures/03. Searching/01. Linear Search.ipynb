{
  "metadata": {
    "kernelspec": {
      "name": "python",
      "display_name": "Python (Pyodide)",
      "language": "python"
    },
    "language_info": {
      "codemirror_mode": {
        "name": "python",
        "version": 3
      },
      "file_extension": ".py",
      "mimetype": "text/x-python",
      "name": "python",
      "nbconvert_exporter": "python",
      "pygments_lexer": "ipython3",
      "version": "3.8"
    }
  },
  "nbformat_minor": 4,
  "nbformat": 4,
  "cells": [
    {
      "cell_type": "markdown",
      "source": "### Time Complexity: O(n)",
      "metadata": {}
    },
    {
      "cell_type": "code",
      "source": "def linear_search(arr, target):\n    for index in range(len(arr)):\n        if arr[index] == target:\n            return index  # Return the index of the found element\n    return -1  # Return -1 if the target is not found\n\n# Example usage\narr = [5, 3, 8, 4, 2]\ntarget = 4\nresult = linear_search(arr, target)\n\nif result != -1:\n    print(f\"Element found at index: {result}\")  # Output: Element found at index: 3\nelse:\n    print(\"Element not found\")",
      "metadata": {
        "trusted": true
      },
      "outputs": [
        {
          "name": "stdout",
          "text": "Element found at index: 3\n",
          "output_type": "stream"
        }
      ],
      "execution_count": 4
    },
    {
      "cell_type": "code",
      "source": "",
      "metadata": {
        "trusted": true
      },
      "outputs": [],
      "execution_count": null
    }
  ]
}