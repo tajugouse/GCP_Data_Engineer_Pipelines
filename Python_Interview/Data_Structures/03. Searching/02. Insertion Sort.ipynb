{
  "metadata": {
    "kernelspec": {
      "name": "python",
      "display_name": "Python (Pyodide)",
      "language": "python"
    },
    "language_info": {
      "codemirror_mode": {
        "name": "python",
        "version": 3
      },
      "file_extension": ".py",
      "mimetype": "text/x-python",
      "name": "python",
      "nbconvert_exporter": "python",
      "pygments_lexer": "ipython3",
      "version": "3.8"
    }
  },
  "nbformat_minor": 4,
  "nbformat": 4,
  "cells": [
    {
      "cell_type": "markdown",
      "source": "### TC : O(n^2)\n\nbut less number of swaps than Bubble Sort",
      "metadata": {}
    },
    {
      "cell_type": "code",
      "source": "def insertion_sort(arr):\n    # Traverse through 1 to len(arr)\n    for i in range(1, len(arr)):\n        key = arr[i]  # The element to be inserted\n        j = i - 1\n        # Move elements of arr[0..i-1], that are greater than key,\n        # to one position ahead of their current position\n        while j >= 0 and key < arr[j]:\n            arr[j + 1] = arr[j]  # Shift element to the right\n            j -= 1\n        arr[j + 1] = key  # Insert the key in the correct position\n\n    return arr\n\n# Example usage\narr = [64, 34, 25, 12, 22, 11, 90]\nsorted_arr = insertion_sort(arr)\nprint(sorted_arr)  # Output: [11, 12, 22, 25, 34, 64, 90]",
      "metadata": {
        "trusted": true
      },
      "outputs": [
        {
          "name": "stdout",
          "text": "[11, 12, 22, 25, 34, 64, 90]\n",
          "output_type": "stream"
        }
      ],
      "execution_count": 2
    },
    {
      "cell_type": "code",
      "source": "",
      "metadata": {
        "trusted": true
      },
      "outputs": [],
      "execution_count": null
    }
  ]
}