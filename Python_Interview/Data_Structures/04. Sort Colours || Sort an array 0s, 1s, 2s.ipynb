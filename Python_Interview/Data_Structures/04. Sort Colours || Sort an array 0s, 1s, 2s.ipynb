{
 "cells": [
  {
   "cell_type": "code",
   "execution_count": null,
   "metadata": {},
   "outputs": [],
   "source": [
    "# Method 1 sort the array\n",
    "\n",
    "# Time Complexity : O(N log N)\n",
    "# Space Complexity : O(N)\n",
    "\n",
    "def sortnums(nums):\n",
    "    nums.sort()\n",
    "    return nums\n",
    "\n",
    "arr = [0 ,2, 1, 2, 0]\n",
    "\n",
    "print(sortnums(arr))"
   ]
  },
  {
   "cell_type": "code",
   "execution_count": null,
   "metadata": {},
   "outputs": [],
   "source": []
  }
 ],
 "metadata": {
  "language_info": {
   "name": "python"
  }
 },
 "nbformat": 4,
 "nbformat_minor": 2
}
