{
 "cells": [
  {
   "cell_type": "code",
   "execution_count": null,
   "metadata": {},
   "outputs": [],
   "source": [
    "# Method 1 : Using Slicing \n",
    "\n",
    "# Time Complexity: O(N)\n",
    "# Space Complexity: O(N)\n",
    "\n",
    "\n",
    "def rotate(arr,k):\n",
    "    return arr[-k:]+arr[:k+1]\n",
    "\n",
    "arr = [1,2,3,4,5,6,7]\n",
    "k = 3\n",
    "print(rotate(arr,k))"
   ]
  },
  {
   "cell_type": "code",
   "execution_count": null,
   "metadata": {},
   "outputs": [],
   "source": [
    "# Method 2 : "
   ]
  }
 ],
 "metadata": {
  "language_info": {
   "name": "python"
  }
 },
 "nbformat": 4,
 "nbformat_minor": 2
}
