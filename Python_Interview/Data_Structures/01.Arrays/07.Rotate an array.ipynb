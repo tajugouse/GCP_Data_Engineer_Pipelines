{
 "cells": [
  {
   "cell_type": "markdown",
   "metadata": {},
   "source": [
    "https://leetcode.com/problems/rotate-array/"
   ]
  },
  {
   "cell_type": "code",
   "execution_count": null,
   "metadata": {},
   "outputs": [],
   "source": [
    "# Method 1 : Using Slicing \n",
    "\n",
    "# Time Complexity: O(N)\n",
    "# Space Complexity: O(N)\n",
    "\n",
    "\n",
    "def rotate(arr,k):\n",
    "    return arr[-k:]+arr[:k+1]\n",
    "\n",
    "arr = [1,2,3,4,5,6,7]\n",
    "k = 3\n",
    "print(rotate(arr,k))"
   ]
  },
  {
   "cell_type": "code",
   "execution_count": null,
   "metadata": {},
   "outputs": [],
   "source": [
    "# Method 2 : using indexing and list comprehension\n",
    "\n",
    "# Time Complexity: O(N)\n",
    "# Space Complexity : O(N)\n",
    "\n",
    "def rotate2(arr,k):\n",
    "    k %= len(arr)\n",
    "    arr[:] = [arr[i-k] % len(arr) for i in range(len(arr))]\n",
    "    return arr\n",
    "\n",
    "arr = [1,2,3,4,5,6,7]\n",
    "k = 3 \n",
    "print(rotate2(arr,k))"
   ]
  }
 ],
 "metadata": {
  "language_info": {
   "name": "python"
  }
 },
 "nbformat": 4,
 "nbformat_minor": 2
}
