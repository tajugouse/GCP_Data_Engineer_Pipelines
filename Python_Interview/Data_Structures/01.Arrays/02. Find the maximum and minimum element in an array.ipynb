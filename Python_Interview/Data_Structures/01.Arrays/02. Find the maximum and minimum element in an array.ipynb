{
 "cells": [
  {
   "cell_type": "markdown",
   "metadata": {},
   "source": [
    "https://practice.geeksforgeeks.org/problems/find-minimum-and-maximum-element-in-an-array4428/1#"
   ]
  },
  {
   "cell_type": "code",
   "execution_count": null,
   "metadata": {},
   "outputs": [],
   "source": [
    "# Method1 without sorting array, traverse lineraly\n",
    "\n",
    "# Time Complexity : O(N)\n",
    "# Storage Complexity : O(1)\n",
    "\n",
    "def max_and_min(arr):\n",
    "    max_ele = arr [0]\n",
    "    min_ele = arr [0]\n",
    "\n",
    "    for i in arr:\n",
    "        if i < min_ele:\n",
    "            i = min_ele\n",
    "        if i > max_ele:\n",
    "            i = max_ele\n",
    "    return f\"maximum and minimum element in an array:\\nMaximum : {max_ele}\\nMinimum : {min_ele}\"\n",
    "\n",
    "arr = [3, 2, 1, 56, 10000, 167]\n",
    "\n",
    "print(max_and_min(arr))"
   ]
  },
  {
   "cell_type": "code",
   "execution_count": null,
   "metadata": {},
   "outputs": [],
   "source": [
    "# Method 2 sorting array\n",
    "\n",
    "# Time complexiy : O(N log N)\n",
    "# Storage Complexity : O(N)\n",
    "\n",
    "def min_and_max(arr):\n",
    "\n",
    "    arr.sort() #N Log(N)\n",
    "\n",
    "    return f\"maximum and minimum element in an array:\\nMaximum : {arr[0]}\\nMinimum : {arr[-1]}\"\n",
    "\n",
    "arr = [11, 22, 33, 44, 55]\n",
    "print(max_and_min(arr)) "
   ]
  },
  {
   "cell_type": "code",
   "execution_count": null,
   "metadata": {},
   "outputs": [],
   "source": [
    "# Mehod 3 using built in functions max() and min()\n",
    "\n",
    "# Time Complexity : O(N)\n",
    "# Space Complexity : O(1)\n",
    "\n",
    "def max_and_min(arr):\n",
    "    max_ele = max(arr)\n",
    "    min_ele = min(arr)\n",
    "\n",
    "    return f\"maximum and minimum element in an array are\\nMaximum : {max_ele}\\nMinimum : {min_ele}\"\n",
    "\n",
    "arr = [12, 34, 56, 78]\n",
    "print(max_and_min(arr))"
   ]
  }
 ],
 "metadata": {
  "language_info": {
   "name": "python"
  }
 },
 "nbformat": 4,
 "nbformat_minor": 2
}
