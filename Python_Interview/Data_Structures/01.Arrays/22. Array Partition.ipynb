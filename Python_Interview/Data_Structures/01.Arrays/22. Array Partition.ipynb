{
  "metadata": {
    "kernelspec": {
      "name": "python",
      "display_name": "Python (Pyodide)",
      "language": "python"
    },
    "language_info": {
      "codemirror_mode": {
        "name": "python",
        "version": 3
      },
      "file_extension": ".py",
      "mimetype": "text/x-python",
      "name": "python",
      "nbconvert_exporter": "python",
      "pygments_lexer": "ipython3",
      "version": "3.8"
    }
  },
  "nbformat_minor": 4,
  "nbformat": 4,
  "cells": [
    {
      "cell_type": "markdown",
      "source": "### Given an integer array nums of 2n integers, group these integers into n pairs (a1, b1), (a2, b2), ..., (an, bn) such that the sum of min(ai, bi) for all i is maximized. Return the maximized sum.",
      "metadata": {}
    },
    {
      "cell_type": "markdown",
      "source": "Example 1:\n\nInput: nums = [1,4,3,2]\nOutput: 4\nExplanation: All possible pairings (ignoring the ordering of elements) are:\n1. (1, 4), (2, 3) -> min(1, 4) + min(2, 3) = 1 + 2 = 3\n2. (1, 3), (2, 4) -> min(1, 3) + min(2, 4) = 1 + 2 = 3\n3. (1, 2), (3, 4) -> min(1, 2) + min(3, 4) = 1 + 3 = 4\n\nSo the maximum possible sum is 4.",
      "metadata": {}
    },
    {
      "cell_type": "markdown",
      "source": "Example 2:\n\nInput: nums = [6,2,6,5,1,2]\n\nOutput: 9\n\nExplanation: The optimal pairing is (2, 1), (2, 5), (6, 6). min(2, 1) + min(2, 5) + min(6, 6) = 1 + 2 + 6 = 9.",
      "metadata": {}
    },
    {
      "cell_type": "markdown",
      "source": "### Time Complexity: O(n/log n)\n",
      "metadata": {}
    },
    {
      "cell_type": "code",
      "source": "def array_pair_sum(nums):\n    # Step 1: Sort the array\n    nums.sort()\n    \n    # Step 2: Sum the minimums of the pairs\n    max_sum = 0\n    for i in range(0, len(nums), 2):\n        max_sum += nums[i]  # Add the first element of each pair\n    \n    return max_sum\n\nnums = [1, 4, 3, 2]\nresult = array_pair_sum(nums)\nprint(result)  ",
      "metadata": {
        "trusted": true
      },
      "outputs": [
        {
          "name": "stdout",
          "text": "11\n",
          "output_type": "stream"
        }
      ],
      "execution_count": 11
    }
  ]
}