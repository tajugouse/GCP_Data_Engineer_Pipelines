{
 "cells": [
  {
   "cell_type": "markdown",
   "metadata": {},
   "source": [
    "https://leetcode.com/problems/kth-largest-element-in-an-array/"
   ]
  },
  {
   "cell_type": "code",
   "execution_count": null,
   "metadata": {},
   "outputs": [],
   "source": [
    "# Method 1 \n",
    "# case 1: If array has no duplicates Sort the array \n",
    "\n",
    "# Time Complexity : O(Nlog N)\n",
    "# STorage Complexity : O(1)\n",
    "\n",
    "def findkthlargest(arr,k):\n",
    "    arr.sort(reverse = True)\n",
    "\n",
    "    return arr[k-1]\n",
    "\n",
    "nums = [3, 2, 1, 4, 5, 6]\n",
    "k = 2\n",
    "print(findkthlargest(nums, k)) "
   ]
  },
  {
   "cell_type": "code",
   "execution_count": null,
   "metadata": {},
   "outputs": [],
   "source": [
    "# Method 1 \n",
    "# case 2: If array has duplicates Sort the array \n",
    "\n",
    "# Time Complexity : O(Nlog N)\n",
    "# STorage Complexity : O(N)\n",
    "\n",
    "def findkthlargest(arr,k):\n",
    "    unoque_ele = list(set(arr))\n",
    "    unoque_ele.sort(reverse = True)\n",
    "\n",
    "    return unoque_ele[k-1]\n",
    "\n",
    "nums = [3, 2, 3, 1, 2, 4, 5, 5, 6]\n",
    "k = 2\n",
    "print(findkthlargest(nums, k)) "
   ]
  },
  {
   "cell_type": "code",
   "execution_count": null,
   "metadata": {},
   "outputs": [],
   "source": [
    "# Method 2 Without sorting using heap\n",
    "\n",
    "\n",
    "# Time Complexity : O(N log K) where k is len(heap) smaller parts of arr\n",
    "# Storage complexity: O(k)\n",
    "# which is more efficient than sorting (O(N log N)) when k is much smaller than N\n",
    "\n",
    "\n",
    "import heapq\n",
    "\n",
    "def findKthLargest(nums, k):\n",
    "    heap = []\n",
    "    for num in nums:\n",
    "        heapq.heappush(heap, num)\n",
    "        if len(heap) > k:\n",
    "            heapq.heappop(heap)\n",
    "    return heap[0]\n",
    "    \n",
    "nums = [3, 2, 3, 1, 2, 4, 5, 5, 6]\n",
    "k = 2\n",
    "print(findKthLargest(nums, k)) "
   ]
  }
 ],
 "metadata": {
  "language_info": {
   "name": "python"
  }
 },
 "nbformat": 4,
 "nbformat_minor": 2
}
