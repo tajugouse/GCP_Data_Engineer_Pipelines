{
  "metadata": {
    "kernelspec": {
      "name": "python",
      "display_name": "Python (Pyodide)",
      "language": "python"
    },
    "language_info": {
      "codemirror_mode": {
        "name": "python",
        "version": 3
      },
      "file_extension": ".py",
      "mimetype": "text/x-python",
      "name": "python",
      "nbconvert_exporter": "python",
      "pygments_lexer": "ipython3",
      "version": "3.8"
    }
  },
  "nbformat_minor": 4,
  "nbformat": 4,
  "cells": [
    {
      "cell_type": "markdown",
      "source": "https://www.interviewbit.com/problems/pick-from-both-sides/",
      "metadata": {}
    },
    {
      "cell_type": "markdown",
      "source": "Find the contiguous subarray within an array (containing at least one number) which has the largest product.\nReturn an integer corresponding to the maximum product possible.",
      "metadata": {}
    },
    {
      "cell_type": "markdown",
      "source": "### Time Complexity: O(n) Sliding Window Technique\n",
      "metadata": {}
    },
    {
      "cell_type": "code",
      "source": "def max_sum_from_both_sides(arr, B):\n    n = len(arr)\n    if B > n:\n        return 0\n\n    # Calculate the sum of the first B elements\n    current_sum = sum(arr[:B])\n    max_sum = current_sum\n\n    # Slide the window from the end of the array\n    for i in range(B):\n        current_sum = current_sum - arr[B - 1 - i] + arr[n - 1 - i]\n        max_sum = max(max_sum, current_sum)\n\n    return max_sum\n\n\narr = [5, 2, 3, 1, 4]\nB = 3\nresult = max_sum_from_both_sides(arr, B)\nprint(result)",
      "metadata": {
        "trusted": true
      },
      "outputs": [
        {
          "name": "stdout",
          "text": "11\n",
          "output_type": "stream"
        }
      ],
      "execution_count": 11
    },
    {
      "cell_type": "markdown",
      "source": "### Time Complexity: O(n^2) Brute Force",
      "metadata": {}
    },
    {
      "cell_type": "code",
      "source": "def max_product_subarray_brute_force(nums):\n    max_product = float('-inf')\n    \n    for i in range(len(nums)):\n        product = 1\n        for j in range(i, len(nums)):\n            product *= nums[j]\n            max_product = max(max_product, product)\n    \n    return max_product\n\n\nnums = [2, 3, -2, 4]\nresult = max_product_subarray_brute_force(nums)\nprint(result) ",
      "metadata": {
        "trusted": true
      },
      "outputs": [
        {
          "name": "stdout",
          "text": "6\n",
          "output_type": "stream"
        }
      ],
      "execution_count": 10
    },
    {
      "cell_type": "markdown",
      "source": "### Time Complexity: O(n) Two-Pointer Technique",
      "metadata": {}
    },
    {
      "cell_type": "code",
      "source": "def wave_array_two_pointer(arr):\n    n = len(arr)\n    \n    for i in range(0, n, 2):\n        # If the next element exists and is greater than the current element, swap them\n        if i + 1 < n and arr[i] < arr[i + 1]:\n            arr[i], arr[i + 1] = arr[i + 1], arr[i]\n        \n        # If the previous element exists and is greater than the current element, swap them\n        if i - 1 >= 0 and arr[i] > arr[i - 1]:\n            arr[i], arr[i - 1] = arr[i - 1], arr[i]\n    \n    return arr\n\n\narr = [1, 3, 2, 4, 5]\nresult = wave_array_two_pointer(arr)\nprint(result)",
      "metadata": {
        "trusted": true
      },
      "outputs": [
        {
          "name": "stdout",
          "text": "[3, 4, 1, 5, 2]\n",
          "output_type": "stream"
        }
      ],
      "execution_count": 4
    },
    {
      "cell_type": "code",
      "source": "",
      "metadata": {
        "trusted": true
      },
      "outputs": [],
      "execution_count": null
    }
  ]
}