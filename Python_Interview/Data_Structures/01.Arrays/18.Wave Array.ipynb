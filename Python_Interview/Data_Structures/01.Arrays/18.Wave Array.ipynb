{
  "metadata": {
    "kernelspec": {
      "name": "python",
      "display_name": "Python (Pyodide)",
      "language": "python"
    },
    "language_info": {
      "codemirror_mode": {
        "name": "python",
        "version": 3
      },
      "file_extension": ".py",
      "mimetype": "text/x-python",
      "name": "python",
      "nbconvert_exporter": "python",
      "pygments_lexer": "ipython3",
      "version": "3.8"
    }
  },
  "nbformat_minor": 4,
  "nbformat": 4,
  "cells": [
    {
      "cell_type": "markdown",
      "source": "https://practice.geeksforgeeks.org/problems/wave-array-1587115621/1",
      "metadata": {}
    },
    {
      "cell_type": "markdown",
      "source": "### Time Complexity: O(n log n) due to sorting.",
      "metadata": {}
    },
    {
      "cell_type": "code",
      "source": "def wave_array(arr):\n    arr.sort()  # Sort the array\n    for i in range(0, len(arr) - 1, 2):\n        arr[i], arr[i + 1] = arr[i + 1], arr[i]  # Swap adjacent elements\n    return arr\n\n\narr = [1, 2, 3, 4, 5]\nresult = wave_array(arr)            \nprint(result)  ",
      "metadata": {
        "trusted": true
      },
      "outputs": [
        {
          "name": "stdout",
          "text": "[2, 1, 4, 3, 5]\n",
          "output_type": "stream"
        }
      ],
      "execution_count": 2
    },
    {
      "cell_type": "markdown",
      "source": "### Time Complexity: O(n) for a single pass through the array.",
      "metadata": {}
    },
    {
      "cell_type": "code",
      "source": "def wave_array_in_place(arr):\n    n = len(arr)\n    for i in range(n):\n        if i % 2 == 0:  # Even index\n            if i + 1 < n and arr[i] < arr[i + 1]:\n                arr[i], arr[i + 1] = arr[i + 1], arr[i]  # Swap\n        else:  # Odd index\n            if i + 1 < n and arr[i] > arr[i + 1]:\n                arr[i], arr[i + 1] = arr[i + 1], arr[i]  # Swap\n    return arr\n\n\narr = [1, 2, 3, 4, 5]\nresult = wave_array_in_place(arr)\nprint(result)",
      "metadata": {
        "trusted": true
      },
      "outputs": [
        {
          "name": "stdout",
          "text": "[2, 1, 4, 3, 5]\n",
          "output_type": "stream"
        }
      ],
      "execution_count": 3
    },
    {
      "cell_type": "markdown",
      "source": "### Time Complexity: O(n) Two-Pointer Technique",
      "metadata": {}
    },
    {
      "cell_type": "code",
      "source": "def wave_array_two_pointer(arr):\n    n = len(arr)\n    \n    for i in range(0, n, 2):\n        # If the next element exists and is greater than the current element, swap them\n        if i + 1 < n and arr[i] < arr[i + 1]:\n            arr[i], arr[i + 1] = arr[i + 1], arr[i]\n        \n        # If the previous element exists and is greater than the current element, swap them\n        if i - 1 >= 0 and arr[i] > arr[i - 1]:\n            arr[i], arr[i - 1] = arr[i - 1], arr[i]\n    \n    return arr\n\n\narr = [1, 3, 2, 4, 5]\nresult = wave_array_two_pointer(arr)\nprint(result)",
      "metadata": {
        "trusted": true
      },
      "outputs": [
        {
          "name": "stdout",
          "text": "[3, 4, 1, 5, 2]\n",
          "output_type": "stream"
        }
      ],
      "execution_count": 4
    },
    {
      "cell_type": "code",
      "source": "",
      "metadata": {
        "trusted": true
      },
      "outputs": [],
      "execution_count": null
    }
  ]
}