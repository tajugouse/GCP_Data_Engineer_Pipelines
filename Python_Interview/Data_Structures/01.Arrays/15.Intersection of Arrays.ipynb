{
  "metadata": {
    "kernelspec": {
      "name": "python",
      "display_name": "Python (Pyodide)",
      "language": "python"
    },
    "language_info": {
      "codemirror_mode": {
        "name": "python",
        "version": 3
      },
      "file_extension": ".py",
      "mimetype": "text/x-python",
      "name": "python",
      "nbconvert_exporter": "python",
      "pygments_lexer": "ipython3",
      "version": "3.8"
    }
  },
  "nbformat_minor": 4,
  "nbformat": 4,
  "cells": [
    {
      "cell_type": "markdown",
      "source": "https://www.interviewbit.com/problems/intersection-of-sorted-arrays/",
      "metadata": {}
    },
    {
      "cell_type": "markdown",
      "source": "## Using hash set \n### Time Complexity: O(n+m)",
      "metadata": {}
    },
    {
      "cell_type": "code",
      "source": "def intersection_sorted_arrays(arr1, arr2):\n    set1 = set(arr1)\n    intersection = []\n\n    for num in arr2:\n        if num in set1:\n            intersection.append(num)\n\n    return intersection\n\narr1 = [1, 2, 3, 4, 5]\narr2 = [2, 4, 6, 8]\nprint(intersection_sorted_arrays(arr1, arr2))",
      "metadata": {
        "trusted": true
      },
      "outputs": [
        {
          "name": "stdout",
          "text": "[2, 4]\n",
          "output_type": "stream"
        }
      ],
      "execution_count": 3
    },
    {
      "cell_type": "markdown",
      "source": "## Using set \n### Time Complexity: O(n+m)",
      "metadata": {}
    },
    {
      "cell_type": "code",
      "source": "def intersection_sorted_arrays(arr1, arr2):\n    set1 = set(arr1)\n    set2 = set(arr2)\n    intersection = list(set1.intersection(set2))\n    return intersection\n\narr1 = [1, 2, 2, 3, 4, 5]\narr2 = [2, 2, 4, 6, 8]\nprint(intersection_sorted_arrays(arr1, arr2))",
      "metadata": {
        "trusted": true
      },
      "outputs": [
        {
          "name": "stdout",
          "text": "[2, 4]\n",
          "output_type": "stream"
        }
      ],
      "execution_count": 4
    },
    {
      "cell_type": "code",
      "source": "def intersection_sorted_arrays(arr1, arr2):\n    return list(set(arr1) & set(arr2))\n\narr1 = [1, 2, 2, 3, 4, 5]\narr2 = [2, 2, 4, 6, 8]\nprint(intersection_sorted_arrays(arr1, arr2))",
      "metadata": {
        "trusted": true
      },
      "outputs": [
        {
          "name": "stdout",
          "text": "[2, 4]\n",
          "output_type": "stream"
        }
      ],
      "execution_count": 5
    },
    {
      "cell_type": "markdown",
      "source": "## Using has list comprehension\n### Time Complexity: O(n+m)",
      "metadata": {}
    },
    {
      "cell_type": "code",
      "source": "def intersection_sorted_arrays(arr1, arr2):\n    set1 = set(arr1)\n    return [num for num in arr2 if num in set1]\n\narr1 = [1, 2, 3, 4, 5]\narr2 = [2, 4, 6, 8]\nprint(intersection_sorted_arrays(arr1, arr2))",
      "metadata": {
        "trusted": true
      },
      "outputs": [],
      "execution_count": null
    },
    {
      "cell_type": "markdown",
      "source": "### Time Complexity: O(n+m)",
      "metadata": {}
    },
    {
      "cell_type": "code",
      "source": "def intersection_sorted_arrays(arr1, arr2):\n    i, j = 0, 0\n    intersection = []\n\n    while i < len(arr1) and j < len(arr2):\n        if arr1[i] == arr2[j]:\n            intersection.append(arr1[i])\n            i += 1\n            j += 1\n        elif arr1[i] < arr2[j]:\n            i += 1\n        else:\n            j += 1\n\n    return intersection\n\narr1 = [1, 2, 3, 4, 5]\narr2 = [2, 4, 6, 8]\nprint(intersection_sorted_arrays(arr1, arr2))",
      "metadata": {
        "trusted": true
      },
      "outputs": [
        {
          "name": "stdout",
          "text": "[2, 4]\n",
          "output_type": "stream"
        }
      ],
      "execution_count": 1
    },
    {
      "cell_type": "markdown",
      "source": "### Time Complexity: O(n log m)",
      "metadata": {}
    },
    {
      "cell_type": "code",
      "source": "def binary_search(arr, target):\n    left, right = 0, len(arr) - 1\n    while left <= right:\n        mid = (left + right) // 2\n        if arr[mid] == target:\n            return True\n        elif arr[mid] < target:\n            left = mid + 1\n        else:\n            right = mid - 1\n    return False\n\ndef intersection_sorted_arrays(arr1, arr2):\n    intersection = []\n    for num in arr1:\n        if binary_search(arr2, num):\n            intersection.append(num)\n    return intersection\n\narr1 = [1, 2, 3, 4, 5]\narr2 = [2, 4, 6, 8]\nprint(intersection_sorted_arrays(arr1, arr2))",
      "metadata": {
        "trusted": true
      },
      "outputs": [
        {
          "name": "stdout",
          "text": "[2, 4]\n",
          "output_type": "stream"
        }
      ],
      "execution_count": 2
    },
    {
      "cell_type": "code",
      "source": "",
      "metadata": {
        "trusted": true
      },
      "outputs": [],
      "execution_count": null
    },
    {
      "cell_type": "code",
      "source": "",
      "metadata": {
        "trusted": true
      },
      "outputs": [],
      "execution_count": null
    }
  ]
}