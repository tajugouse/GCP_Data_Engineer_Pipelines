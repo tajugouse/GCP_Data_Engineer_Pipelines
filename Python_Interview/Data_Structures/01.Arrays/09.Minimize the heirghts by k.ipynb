{
 "cells": [
  {
   "cell_type": "code",
   "execution_count": null,
   "metadata": {},
   "outputs": [],
   "source": []
  },
  {
   "cell_type": "markdown",
   "metadata": {},
   "source": [
    "https://practice.geeksforgeeks.org/problems/minimize-the-heights3351/1#"
   ]
  },
  {
   "cell_type": "code",
   "execution_count": null,
   "metadata": {},
   "outputs": [],
   "source": [
    "# Method 1: by sorting an array and find max(arr[i-1]+k,arr[n-1]) and min(arr[i]-k,arr[0]+k)\n",
    "# Increase the height of the tower by K\n",
    "# Decrease the height of the tower by K\n",
    "\n",
    "\n",
    "# Time Complexity : O(N log(N))\n",
    "# Space Complexity : O(1)\n",
    "\n",
    "def getMinDiff( arr, n, k):\n",
    "        arr.sort()\n",
    "        ans = arr[n - 1] - arr[0]\n",
    "        \n",
    "        for i in range(1, n):\n",
    "            if arr[i] >= k: \n",
    "                max_val = max(arr[i-1]+k, arr[n-1]-k)\n",
    "                min_val = min(arr[i]-k, arr[0]+k)\n",
    "                ans = min(ans, max_val-min_val)\n",
    "        return ans\n",
    "print(getMinDiff([1, 5, 8, 10],4,2))"
   ]
  },
  {
   "cell_type": "code",
   "execution_count": null,
   "metadata": {},
   "outputs": [],
   "source": []
  }
 ],
 "metadata": {
  "language_info": {
   "name": "python"
  }
 },
 "nbformat": 4,
 "nbformat_minor": 2
}
