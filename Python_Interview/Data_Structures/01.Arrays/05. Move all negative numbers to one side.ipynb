{
 "cells": [
  {
   "cell_type": "code",
   "execution_count": null,
   "metadata": {},
   "outputs": [],
   "source": [
    "# Method 1 using 2 pointer \n",
    "\n",
    "\n",
    "# Time Complexity : O(N)\n",
    "# Space Complexity : O(1)\n",
    "\n",
    "\n",
    "def move_negatives(arr):\n",
    "    left=i=0\n",
    "    right = len(arr)-1\n",
    "\n",
    "    while i <= right:\n",
    "        if arr[i]<0:\n",
    "            arr[left],arr[i]=arr[i],arr[left]\n",
    "            i+=1\n",
    "            left+=1\n",
    "        else:\n",
    "            i+=1\n",
    "    return arr\n",
    "\n",
    "arr = [-12, 11, -13, -5, 6, -7, 5, -3, -6]\n",
    "\n",
    "print(move_negatives(arr))"
   ]
  },
  {
   "cell_type": "code",
   "execution_count": null,
   "metadata": {},
   "outputs": [],
   "source": [
    "# Method 2 using iteration and swap\n",
    "\n",
    "# Time Complexity : O(N)\n",
    "# Space Complexity : O(1)\n",
    "\n",
    "def move_negative_to_front(arr):\n",
    "    next_negative = 0\n",
    "    for i in range(len(arr)):\n",
    "        if arr[i] < 0:\n",
    "            arr[next_negative], arr[i] = arr[i], arr[next_negative]\n",
    "            next_negative += 1\n",
    "    return arr\n",
    "\n",
    "arr = [-12, 11, -13, -5, 6, -7, 5, -3, -6]\n",
    "print(move_negative_to_front(arr))"
   ]
  }
 ],
 "metadata": {
  "language_info": {
   "name": "python"
  }
 },
 "nbformat": 4,
 "nbformat_minor": 2
}
