{
 "cells": [
  {
   "cell_type": "code",
   "execution_count": null,
   "metadata": {},
   "outputs": [],
   "source": [
    "# Method 1 using reverse built in fuction\n",
    "\n",
    "# Time Complexity : O(N)\n",
    "# Storage Complexity : O(1)\n",
    "\n",
    "arr = [11, 22, 33, 44, 55]\n",
    "print(f\"Array is {arr}\")\n",
    "\n",
    "result = arr.reverse()\n",
    "print(f\"reversed array is {arr}\")"
   ]
  },
  {
   "cell_type": "code",
   "execution_count": null,
   "metadata": {},
   "outputs": [],
   "source": [
    "# Method 2 using slicing \n",
    "\n",
    "# Time Complexity : O(N)\n",
    "# Storage Complexity: O(1)\n",
    "\n",
    "arr = [11, 22, 33, 44, 55]\n",
    "print(arr[::-1])"
   ]
  },
  {
   "cell_type": "code",
   "execution_count": null,
   "metadata": {},
   "outputs": [],
   "source": [
    "# Method 3 using reversed\n",
    "\n",
    "# Time complexity : O(N)\n",
    "# Storage Complexity: O(N)\n",
    "\n",
    "arr = [12, 34, 56, 78]\n",
    "result = list(reversed(arr))\n",
    "\n",
    "print(result)\n",
    "\n",
    "# reverse() modifies the original array in place and returns None.\n",
    "# reversed() returns a reversed iterator over the original array and does not modify the original array."
   ]
  }
 ],
 "metadata": {
  "language_info": {
   "name": "python"
  }
 },
 "nbformat": 4,
 "nbformat_minor": 2
}
