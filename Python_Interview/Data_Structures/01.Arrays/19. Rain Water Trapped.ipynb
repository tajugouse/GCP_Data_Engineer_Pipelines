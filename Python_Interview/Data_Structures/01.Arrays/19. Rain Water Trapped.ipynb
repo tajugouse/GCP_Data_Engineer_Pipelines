{
  "metadata": {
    "kernelspec": {
      "name": "python",
      "display_name": "Python (Pyodide)",
      "language": "python"
    },
    "language_info": {
      "codemirror_mode": {
        "name": "python",
        "version": 3
      },
      "file_extension": ".py",
      "mimetype": "text/x-python",
      "name": "python",
      "nbconvert_exporter": "python",
      "pygments_lexer": "ipython3",
      "version": "3.8"
    }
  },
  "nbformat_minor": 4,
  "nbformat": 4,
  "cells": [
    {
      "cell_type": "markdown",
      "source": "https://www.interviewbit.com/problems/rain-water-trapped",
      "metadata": {}
    },
    {
      "cell_type": "markdown",
      "source": "### Time Complexity: O(n) Two-Pointer Technique\n### Space Complexity: O(1)",
      "metadata": {}
    },
    {
      "cell_type": "code",
      "source": "def trap_rain_water(height):\n    left, right = 0, len(height) - 1\n    left_max, right_max = 0, 0\n    water_trapped = 0\n\n    while left < right:\n        if height[left] < height[right]:\n            if height[left] >= left_max:\n                left_max = height[left]\n            else:\n                water_trapped += left_max - height[left]\n            left += 1\n        else:\n            if height[right] >= right_max:\n                right_max = height[right]\n            else:\n                water_trapped += right_max - height[right]\n            right -= 1\n\n    return water_trapped\n\n\nheights = [0, 1, 0, 2, 1, 0, 1, 3, 2, 1, 2, 1]\nresult = trap_rain_water(heights)\nprint(result)  ",
      "metadata": {
        "trusted": true
      },
      "outputs": [
        {
          "name": "stdout",
          "text": "6\n",
          "output_type": "stream"
        }
      ],
      "execution_count": 5
    },
    {
      "cell_type": "markdown",
      "source": "### Time Complexity: O(n) Dynamic Programming.\n### Space Complexity: O(n)",
      "metadata": {}
    },
    {
      "cell_type": "code",
      "source": "def trap_rain_water_dp(height):\n    n = len(height)\n    if n == 0:\n        return 0\n\n    left_max = [0] * n\n    right_max = [0] * n\n    water_trapped = 0\n\n    left_max[0] = height[0]\n    for i in range(1, n):\n        left_max[i] = max(left_max[i - 1], height[i])\n\n    right_max[n - 1] = height[n - 1]\n    for i in range(n - 2, -1, -1):\n        right_max[i] = max(right_max[i + 1], height[i])\n\n    for i in range(n):\n        water_trapped += min(left_max[i], right_max[i]) - height[i]\n\n    return water_trapped\n\nheights = [0, 1, 0, 2, 1, 0, 1, 3, 2, 1, 2, 1]\nresult = trap_rain_water_dp(heights)\nprint(result) ",
      "metadata": {
        "trusted": true
      },
      "outputs": [
        {
          "name": "stdout",
          "text": "6\n",
          "output_type": "stream"
        }
      ],
      "execution_count": 6
    },
    {
      "cell_type": "markdown",
      "source": "### Time Complexity: O(n) Two-Pointer Technique",
      "metadata": {}
    },
    {
      "cell_type": "code",
      "source": "def wave_array_two_pointer(arr):\n    n = len(arr)\n    \n    for i in range(0, n, 2):\n        # If the next element exists and is greater than the current element, swap them\n        if i + 1 < n and arr[i] < arr[i + 1]:\n            arr[i], arr[i + 1] = arr[i + 1], arr[i]\n        \n        # If the previous element exists and is greater than the current element, swap them\n        if i - 1 >= 0 and arr[i] > arr[i - 1]:\n            arr[i], arr[i - 1] = arr[i - 1], arr[i]\n    \n    return arr\n\n\narr = [1, 3, 2, 4, 5]\nresult = wave_array_two_pointer(arr)\nprint(result)",
      "metadata": {
        "trusted": true
      },
      "outputs": [
        {
          "name": "stdout",
          "text": "[3, 4, 1, 5, 2]\n",
          "output_type": "stream"
        }
      ],
      "execution_count": 4
    },
    {
      "cell_type": "code",
      "source": "",
      "metadata": {
        "trusted": true
      },
      "outputs": [],
      "execution_count": null
    }
  ]
}