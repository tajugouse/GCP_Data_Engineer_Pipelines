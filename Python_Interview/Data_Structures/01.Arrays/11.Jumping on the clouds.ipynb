{
  "cells": [
    {
      "cell_type": "markdown",
      "metadata": {},
      "source": [
        "https://www.hackerrank.com/challenges/jumping-on-the-clouds/"
      ]
    },
    {
      "cell_type": "code",
      "execution_count": 19,
      "metadata": {
        "trusted": true
      },
      "outputs": [
        {
          "name": "stdout",
          "output_type": "stream",
          "text": [
            "3\n"
          ]
        }
      ],
      "source": [
        "# Time complexity : O(N)\n",
        "# Space Complexity : O(1)\n",
        "\n",
        "def jumpingOnClouds(c):\n",
        "    jumps = 0\n",
        "    left = 0\n",
        "    while left < len(c) - 1:\n",
        "        if left + 2 < len(c) and c[left + 2] == 0:\n",
        "            jumps += 1\n",
        "            left += 2\n",
        "        else:\n",
        "            jumps += 1\n",
        "            left += 1\n",
        "    return jumps\n",
        "\n",
        "c = [0,1,0,0,0,1,0]\n",
        "\n",
        "print(jumpingOnClouds(c))\n"
      ]
    },
    {
      "cell_type": "code",
      "execution_count": 20,
      "metadata": {
        "trusted": true
      },
      "outputs": [
        {
          "name": "stdout",
          "output_type": "stream",
          "text": [
            "4\n"
          ]
        }
      ],
      "source": [
        "d = [0,0,1,0,0,1,0]\n",
        "print(jumpingOnClouds(d))\n"
      ]
    },
    {
      "cell_type": "code",
      "execution_count": 21,
      "metadata": {
        "trusted": true
      },
      "outputs": [
        {
          "name": "stdout",
          "output_type": "stream",
          "text": [
            "3\n"
          ]
        }
      ],
      "source": [
        "e = [0,0,0,0,1,0]\n",
        "print(jumpingOnClouds(e))"
      ]
    },
    {
      "cell_type": "code",
      "execution_count": null,
      "metadata": {
        "trusted": true
      },
      "outputs": [],
      "source": []
    }
  ],
  "metadata": {
    "kernelspec": {
      "display_name": "Python (Pyodide)",
      "language": "python",
      "name": "python"
    },
    "language_info": {
      "codemirror_mode": {
        "name": "python",
        "version": 3
      },
      "file_extension": ".py",
      "mimetype": "text/x-python",
      "name": "python",
      "nbconvert_exporter": "python",
      "pygments_lexer": "ipython3",
      "version": "3.8"
    }
  },
  "nbformat": 4,
  "nbformat_minor": 4
}
