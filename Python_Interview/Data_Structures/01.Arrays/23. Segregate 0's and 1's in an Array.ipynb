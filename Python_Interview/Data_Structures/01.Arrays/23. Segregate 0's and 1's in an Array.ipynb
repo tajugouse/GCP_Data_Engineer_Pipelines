{
  "metadata": {
    "kernelspec": {
      "name": "python",
      "display_name": "Python (Pyodide)",
      "language": "python"
    },
    "language_info": {
      "codemirror_mode": {
        "name": "python",
        "version": 3
      },
      "file_extension": ".py",
      "mimetype": "text/x-python",
      "name": "python",
      "nbconvert_exporter": "python",
      "pygments_lexer": "ipython3",
      "version": "3.8"
    }
  },
  "nbformat_minor": 4,
  "nbformat": 4,
  "cells": [
    {
      "cell_type": "markdown",
      "source": "### Segregate 0's and 1's in an Array\n#### Problem Statement:\nYou are given an array of 0s and 1s in random order. Segregate 0s on left side and 1s on right side of the array [Basically you have to sort the array].",
      "metadata": {}
    },
    {
      "cell_type": "markdown",
      "source": "Example 1:\n\nInput: nums = [1,4,3,2]\nOutput: 4\nExplanation: All possible pairings (ignoring the ordering of elements) are:\n1. (1, 4), (2, 3) -> min(1, 4) + min(2, 3) = 1 + 2 = 3\n2. (1, 3), (2, 4) -> min(1, 3) + min(2, 4) = 1 + 2 = 3\n3. (1, 2), (3, 4) -> min(1, 2) + min(3, 4) = 1 + 3 = 4\n\nSo the maximum possible sum is 4.",
      "metadata": {}
    },
    {
      "cell_type": "markdown",
      "source": "Example 2:\n\nInput: nums = [6,2,6,5,1,2]\n\nOutput: 9\n\nExplanation: The optimal pairing is (2, 1), (2, 5), (6, 6). min(2, 1) + min(2, 5) + min(6, 6) = 1 + 2 + 6 = 9.",
      "metadata": {}
    },
    {
      "cell_type": "markdown",
      "source": "### Time Complexity: O(n)\n",
      "metadata": {}
    },
    {
      "cell_type": "code",
      "source": "def segregate_0s_and_1s(arr):\n    zero_index = 0  # Pointer for the next position of 0\n\n    for i in range(len(arr)):\n        if arr[i] == 0:\n            # Swap the current element with the element at zero_index\n            arr[i], arr[zero_index] = arr[zero_index], arr[i]\n            zero_index += 1  # Move the zero_index forward\n\n    return arr\n\narr = [0, 1, 0, 1, 1, 0, 1, 0]\nresult = segregate_0s_and_1s(arr)\nprint(result)",
      "metadata": {
        "trusted": true
      },
      "outputs": [
        {
          "name": "stdout",
          "text": "[0, 0, 0, 0, 1, 1, 1, 1]\n",
          "output_type": "stream"
        }
      ],
      "execution_count": 15
    },
    {
      "cell_type": "markdown",
      "source": "### Time Complexity: O(n) counting method",
      "metadata": {}
    },
    {
      "cell_type": "code",
      "source": "def segregate_0s_and_1s(arr):\n    # Step 1: Count the number of 0s\n    count_0 = arr.count(0)\n    \n    # Step 2: Fill the array with 0s and 1s based on the count\n    for i in range(len(arr)):\n        if i < count_0:\n            arr[i] = 0  # Fill with 0s\n        else:\n            arr[i] = 1  # Fill with 1s\n\n    return arr\n\n\narr = [0, 1, 0, 1, 1, 0, 1, 0]\nresult = segregate_0s_and_1s(arr)\nprint(result)",
      "metadata": {
        "trusted": true
      },
      "outputs": [
        {
          "name": "stdout",
          "text": "[0, 0, 0, 0, 1, 1, 1, 1]\n",
          "output_type": "stream"
        }
      ],
      "execution_count": 19
    },
    {
      "cell_type": "code",
      "source": "",
      "metadata": {
        "trusted": true
      },
      "outputs": [],
      "execution_count": null
    }
  ]
}