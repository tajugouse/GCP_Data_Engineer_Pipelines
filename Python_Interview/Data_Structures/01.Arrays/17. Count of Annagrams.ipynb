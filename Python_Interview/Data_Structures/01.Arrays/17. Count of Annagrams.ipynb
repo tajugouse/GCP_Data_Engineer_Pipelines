{
 "cells": [
  {
   "cell_type": "markdown",
   "metadata": {},
   "source": [
    "https://practice.geeksforgeeks.org/problems/count-occurences-of-anagrams5839/1"
   ]
  },
  {
   "cell_type": "markdown",
   "metadata": {},
   "source": [
    "Time Complexity: O(N)\n",
    "\n",
    "Space Complexity: O(1)"
   ]
  },
  {
   "cell_type": "code",
   "execution_count": 1,
   "metadata": {
    "trusted": true
   },
   "outputs": [
    {
     "name": "stdout",
     "output_type": "stream",
     "text": [
      "Number of anagrams of 'abc' in 'cbaebabacd': 2\n"
     ]
    }
   ],
   "source": [
    "def count_anagrams(word, pattern):\n",
    "    count = 0\n",
    "    freq = {}\n",
    "    pattern_freq = {}\n",
    "    \n",
    "    # Lengths of the input strings\n",
    "    word_length = len(word)\n",
    "    pattern_length = len(pattern)\n",
    "\n",
    "    # If the word is shorter than the pattern, no anagrams can exist\n",
    "    if word_length < pattern_length:\n",
    "        return 0\n",
    "    \n",
    "    # Create a frequency map for the pattern\n",
    "    for char in pattern:\n",
    "        if char in pattern_freq:\n",
    "            pattern_freq[char] += 1\n",
    "        else:\n",
    "            pattern_freq[char] = 1\n",
    "    \n",
    "    # Initialize the frequency map for the first window of the word\n",
    "    for char in word[:pattern_length]:\n",
    "        if char in freq:\n",
    "            freq[char] += 1\n",
    "        else:\n",
    "            freq[char] = 1\n",
    "    \n",
    "    # Check if the first window is an anagram\n",
    "    if freq == pattern_freq:\n",
    "        count += 1\n",
    "    \n",
    "    # Slide the window over the rest of the word\n",
    "    for i in range(pattern_length, word_length):\n",
    "        # Remove the leftmost character from the window\n",
    "        left_char = word[i - pattern_length]\n",
    "        freq[left_char] -= 1\n",
    "        if freq[left_char] == 0:\n",
    "            del freq[left_char]  # Remove the character if its count is zero\n",
    "        \n",
    "        # Add the new character to the window\n",
    "        new_char = word[i]\n",
    "        if new_char in freq:\n",
    "            freq[new_char] += 1\n",
    "        else:\n",
    "            freq[new_char] = 1\n",
    "        \n",
    "        # Check if the current window is an anagram\n",
    "        if freq == pattern_freq:\n",
    "            count += 1\n",
    "    \n",
    "    return count\n",
    "\n",
    "# Example usage\n",
    "word = \"cbaebabacd\"\n",
    "pattern = \"abc\"\n",
    "result = count_anagrams(word, pattern)\n",
    "print(f\"Number of anagrams of '{pattern}' in '{word}': {result}\")"
   ]
  },
  {
   "cell_type": "code",
   "execution_count": null,
   "metadata": {
    "trusted": true
   },
   "outputs": [],
   "source": []
  }
 ],
 "metadata": {
  "kernelspec": {
   "display_name": "Python (Pyodide)",
   "language": "python",
   "name": "python"
  },
  "language_info": {
   "codemirror_mode": {
    "name": "python",
    "version": 3
   },
   "file_extension": ".py",
   "mimetype": "text/x-python",
   "name": "python",
   "nbconvert_exporter": "python",
   "pygments_lexer": "ipython3",
   "version": "3.8"
  }
 },
 "nbformat": 4,
 "nbformat_minor": 4
}
