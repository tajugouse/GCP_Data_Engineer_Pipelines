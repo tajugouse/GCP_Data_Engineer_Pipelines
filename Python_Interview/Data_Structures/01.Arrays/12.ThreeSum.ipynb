{
  "metadata": {
    "kernelspec": {
      "name": "python",
      "display_name": "Python (Pyodide)",
      "language": "python"
    },
    "language_info": {
      "codemirror_mode": {
        "name": "python",
        "version": 3
      },
      "file_extension": ".py",
      "mimetype": "text/x-python",
      "name": "python",
      "nbconvert_exporter": "python",
      "pygments_lexer": "ipython3",
      "version": "3.8"
    }
  },
  "nbformat_minor": 4,
  "nbformat": 4,
  "cells": [
    {
      "cell_type": "markdown",
      "source": "https://leetcode.com/problems/3sum/description/",
      "metadata": {}
    },
    {
      "cell_type": "code",
      "source": "def threesum(arr,target):\n    result = []\n    arr.sort()\n    for i in range(len(arr)-2):\n        if i>0 and arr[i] ==arr[i-1]:\n            continue\n        left,right= i+1,len(arr)-1\n\n        while left<right:\n            current_sum = arr[i]+arr[left]+arr[right]\n            if current_sum == target:\n                result.append([arr[i],arr[left],arr[right]])\n                left+=1\n                right-=1\n                while left<right and arr[left]==arr[left+1]:\n                    left+=1\n                while left<right and arr[right]==arr[right-1]:\n                    right-=1\n            elif current_sum < target:\n                left+=1\n            else:\n                right-=1\n    return result\n\nprint(threesum([-1,0,1,2,-1,-4],0))\n    ",
      "metadata": {
        "trusted": true
      },
      "outputs": [
        {
          "name": "stdout",
          "text": "[[-1, -1, 2], [-1, 0, 1]]\n",
          "output_type": "stream"
        }
      ],
      "execution_count": 7
    },
    {
      "cell_type": "code",
      "source": "",
      "metadata": {
        "trusted": true
      },
      "outputs": [],
      "execution_count": null
    },
    {
      "cell_type": "code",
      "source": "",
      "metadata": {
        "trusted": true
      },
      "outputs": [],
      "execution_count": null
    }
  ]
}