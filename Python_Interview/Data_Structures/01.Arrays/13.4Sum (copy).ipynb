{
  "metadata": {
    "kernelspec": {
      "name": "python",
      "display_name": "Python (Pyodide)",
      "language": "python"
    },
    "language_info": {
      "codemirror_mode": {
        "name": "python",
        "version": 3
      },
      "file_extension": ".py",
      "mimetype": "text/x-python",
      "name": "python",
      "nbconvert_exporter": "python",
      "pygments_lexer": "ipython3",
      "version": "3.8"
    }
  },
  "nbformat_minor": 4,
  "nbformat": 4,
  "cells": [
    {
      "cell_type": "markdown",
      "source": "https://leetcode.com/problems/4sum/description/",
      "metadata": {}
    },
    {
      "cell_type": "code",
      "source": "def foursum(arr,target):\n    result = []\n    arr.sort()\n    for i in range(len(arr)-3):\n        if i>0 and arr[i] ==arr[i-1]:\n            continue\n        for j in range(i+1,len(arr)-2):\n            if j>i+1 and arr[j] ==arr[j-1]:\n                continue\n            left,right= i+1,len(arr)-1\n            while left<right:\n                current_sum = arr[i]+arr[j]+arr[left]+arr[right]\n                if current_sum == target:\n                    result.append([arr[i],arr[j],arr[left],arr[right]])\n                    left+=1\n                    right-=1\n                    while left<right and arr[left]==arr[left+1]:\n                        left+=1\n                    while left<right and arr[right]==arr[right-1]:\n                        right-=1\n                elif current_sum < target:\n                    left+=1\n                else:\n                    right-=1\n    return result\n\nprint(foursum([-1,0,1,2,-1,-4],0))\n    ",
      "metadata": {
        "trusted": true
      },
      "outputs": [
        {
          "name": "stdout",
          "text": "[[-1, -1, 0, 2], [-1, 0, -1, 2], [-1, 0, 0, 1]]\n",
          "output_type": "stream"
        }
      ],
      "execution_count": 13
    },
    {
      "cell_type": "code",
      "source": "def four_sum(nums, target):\n    nums.sort()  # Step 1: Sort the array\n    result = []  # To store the unique quadruplets\n    n = len(nums)\n\n    for i in range(n - 3):  # Fix the first element\n        if i > 0 and nums[i] == nums[i - 1]:  # Skip duplicates\n            continue\n        \n        for j in range(i + 1, n - 2):  # Fix the second element\n            if j > i + 1 and nums[j] == nums[j - 1]:  # Skip duplicates\n                continue\n            \n            left, right = j + 1, n - 1  # Step 3: Initialize two pointers\n            \n            while left < right:\n                total = nums[i] + nums[j] + nums[left] + nums[right]  # Calculate the sum\n                \n                if total < target:\n                    left += 1  # Move the left pointer to the right\n                elif total > target:\n                    right -= 1  # Move the right pointer to the left\n                else:\n                    # Found a quadruplet\n                    result.append([nums[i], nums[j], nums[left], nums[right]])\n                    \n                    # Skip duplicates for left and right pointers\n                    while left < right and nums[left] == nums[left + 1]:\n                        left += 1\n                    while left < right and nums[right] == nums[right - 1]:\n                        right -= 1\n                    \n                    left += 1\n                    right -= 1\n\n    return result  # Return the list of unique quadruplets\n\n# Example usage:\nnums = [1, 0, -1, 0, -2, 2]\ntarget = 0\nprint(four_sum(nums, target))  # Output: [[-2, -1, 0, 1], [-2, 0, 0, 2], [-1, 0, 0, 1]]",
      "metadata": {
        "trusted": true
      },
      "outputs": [
        {
          "name": "stdout",
          "text": "[[-2, -1, 1, 2], [-2, 0, 0, 2], [-1, 0, 0, 1]]\n",
          "output_type": "stream"
        }
      ],
      "execution_count": 12
    },
    {
      "cell_type": "code",
      "source": "",
      "metadata": {
        "trusted": true
      },
      "outputs": [],
      "execution_count": null
    }
  ]
}