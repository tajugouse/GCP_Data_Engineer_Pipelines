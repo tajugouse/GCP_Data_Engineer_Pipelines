{
 "cells": [
  {
   "cell_type": "code",
   "execution_count": null,
   "metadata": {},
   "outputs": [],
   "source": []
  },
  {
   "cell_type": "markdown",
   "metadata": {},
   "source": [
    "https://leetcode.com/problems/intersection-of-two-arrays/"
   ]
  },
  {
   "cell_type": "code",
   "execution_count": null,
   "metadata": {},
   "outputs": [],
   "source": [
    "# Method 1 sorting the arrrays and using 2 pointers\n",
    "\n",
    "# Time Complexity : O(N log N)\n",
    "# Storage Complexity : O(N + M) where n , m are len of arr1, arr2\n",
    "\n",
    "def union_and_intersection(arr1,arr2):\n",
    "    arr1.sort()\n",
    "    arr2.sort()\n",
    "\n",
    "    i,j=0,0\n",
    "\n",
    "    union =[]\n",
    "    intersection =[]\n",
    "\n",
    "    while i<len(arr1) and j<len(arr2):\n",
    "        # if both elements are equal append to intersection amd incr both pointer\n",
    "        if arr1[i] == arr2[j]:\n",
    "            intersection.append(arr1[i])\n",
    "            i+=1\n",
    "            j+=1\n",
    "        # if arr1[i] is smaller lets append to union arr1[i] and incr i    \n",
    "        elif arr1[i] < arr2[j]:\n",
    "            union.append(arr1[i])\n",
    "            i+=1\n",
    "        # if arr2[j] is smaller lets append to union arr2[j] and incr j\n",
    "        else:\n",
    "            union.append(arr2[j])\n",
    "\n",
    "    # Add remaining elements from arr1 to union\n",
    "    while i < len(arr1):\n",
    "        uinon.append(arr1[i])\n",
    "        i+=1\n",
    "    # Add remaining elements from arr2 to union\n",
    "    while j < len(arr2):\n",
    "        union.append(arr2[j])\n",
    "        j+=1\n",
    "\n",
    "    return f\"Union of both arrays are : {union}\\nintersection of both arrays are : {intersection}\"\n",
    "\n",
    "\n",
    "arr1 = [1, 2, 3, 4, 5]\n",
    "arr2 = [4, 5, 6, 7, 8]\n",
    "\n",
    "\n",
    "print(union_and_intersection(arr1, arr2))"
   ]
  },
  {
   "cell_type": "code",
   "execution_count": null,
   "metadata": {},
   "outputs": [],
   "source": [
    "# Method 2 usning set union and intersection builtin fuction\n",
    "\n",
    "# Time Complexity : O(N)\n",
    "# Storage Complexity : O(N+M)\n",
    "\n",
    "def union_and_intersection(arr1,arr2):\n",
    "    set1 = set (arr1)\n",
    "    set2 = set(arr2)\n",
    "\n",
    "    union = set1.union(set2)\n",
    "    intersection = set1.intersection(set2)\n",
    "\n",
    "    return f\"Union : {union}\\nIntersection : {intersection}\"\n",
    "arr1 = [1, 2, 3, 4, 5]\n",
    "arr2 = [4, 5, 6, 7, 8]\n",
    "\n",
    "\n",
    "print(union_and_intersection(arr1, arr2))"
   ]
  },
  {
   "cell_type": "code",
   "execution_count": null,
   "metadata": {},
   "outputs": [],
   "source": [
    "# Method 3 usning | and & operators\n",
    "\n",
    "# Time Complexity : O(N+M)\n",
    "# Storage Complexity : O(N+M)\n",
    "\n",
    "def union_and_intersection(arr1,arr2):\n",
    "    set1 = set (arr1)\n",
    "    set2 = set(arr2)\n",
    "\n",
    "    union = list(set1|set2)\n",
    "    intersection = list(set1 & set2)\n",
    "\n",
    "    return f\"Union : {union}\\nIntersection : {intersection}\"\n",
    "arr1 = [1, 2, 3, 4, 5]\n",
    "arr2 = [4, 5, 6, 7, 8]\n",
    "\n",
    "\n",
    "print(union_and_intersection(arr1, arr2))"
   ]
  }
 ],
 "metadata": {
  "language_info": {
   "name": "python"
  }
 },
 "nbformat": 4,
 "nbformat_minor": 2
}
