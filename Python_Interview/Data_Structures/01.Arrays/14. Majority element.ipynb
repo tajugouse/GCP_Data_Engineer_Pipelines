{
  "metadata": {
    "kernelspec": {
      "name": "python",
      "display_name": "Python (Pyodide)",
      "language": "python"
    },
    "language_info": {
      "codemirror_mode": {
        "name": "python",
        "version": 3
      },
      "file_extension": ".py",
      "mimetype": "text/x-python",
      "name": "python",
      "nbconvert_exporter": "python",
      "pygments_lexer": "ipython3",
      "version": "3.8"
    }
  },
  "nbformat_minor": 4,
  "nbformat": 4,
  "cells": [
    {
      "cell_type": "markdown",
      "source": "https://www.geeksforgeeks.org/majority-element/",
      "metadata": {}
    },
    {
      "cell_type": "markdown",
      "source": "   ### Approch 1: Using nested loops\n   #### Time Complexity: O(n^2) \n   #### Space Complexity: O(1)",
      "metadata": {}
    },
    {
      "cell_type": "code",
      "source": "def majorityele(arr):\n    n = len(arr)\n\n    for i in range(n):\n        count = 0\n\n        for j in range(n):\n            if arr[i] == arr[j]:\n                count+=1\n\n        if count > n//2:\n            return arr[i]\n    return -1\n\narr = [1,1,2,1,3,5,1]\nprint(majorityele(arr))",
      "metadata": {
        "trusted": true
      },
      "outputs": [
        {
          "name": "stdout",
          "text": "1\n",
          "output_type": "stream"
        }
      ],
      "execution_count": 4
    },
    {
      "cell_type": "markdown",
      "source": "## Approch 2: Using hash map\n    ###Time Complexity: O(n)\n    ### Space Complexity: O(1)",
      "metadata": {}
    },
    {
      "cell_type": "code",
      "source": "",
      "metadata": {
        "trusted": true
      },
      "outputs": [],
      "execution_count": null
    }
  ]
}