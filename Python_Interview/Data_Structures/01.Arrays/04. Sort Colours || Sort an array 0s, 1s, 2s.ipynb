{
 "cells": [
  {
   "cell_type": "markdown",
   "metadata": {},
   "source": [
    "https://practice.geeksforgeeks.org/problems/sort-an-array-of-0s-1s-and-2s4231/1#"
   ]
  },
  {
   "cell_type": "code",
   "execution_count": null,
   "metadata": {},
   "outputs": [],
   "source": [
    "# Method 1 sort the array\n",
    "\n",
    "# Time Complexity : O(N log N)\n",
    "# Space Complexity : O(N)\n",
    "\n",
    "def sortnums(nums):\n",
    "    nums.sort()\n",
    "    return nums\n",
    "\n",
    "arr = [0 ,2, 1, 2, 0]\n",
    "\n",
    "print(sortnums(arr))"
   ]
  },
  {
   "cell_type": "code",
   "execution_count": null,
   "metadata": {},
   "outputs": [],
   "source": [
    "# Method 2 : using 3 pointers\n",
    "\n",
    "# Time Complexity : O(N)\n",
    "# Storage Complexity : O(1)\n",
    "\n",
    "def movezeros(arr):\n",
    "    left =i= 0\n",
    "    right = len(arr) -1\n",
    "\n",
    "\n",
    "    while i <= right:\n",
    "        if arr[i]==0:\n",
    "            arr[left],arr[i] = arr[i],arr[left]\n",
    "            i+=1\n",
    "            left+=1\n",
    "        elif arr[i] == 2:\n",
    "            arr[right],arr[i] = arr[i],arr[right]\n",
    "            right -=1\n",
    "        else:\n",
    "            i +=1\n",
    "    return arr\n",
    "nums = [0,1,2,0,1,2,2,0]\n",
    "print(movezeros(nums))"
   ]
  }
 ],
 "metadata": {
  "language_info": {
   "name": "python"
  }
 },
 "nbformat": 4,
 "nbformat_minor": 2
}
