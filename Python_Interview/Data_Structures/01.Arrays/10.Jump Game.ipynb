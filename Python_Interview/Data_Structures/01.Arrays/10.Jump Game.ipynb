{
 "cells": [
  {
   "cell_type": "code",
   "execution_count": null,
   "metadata": {},
   "outputs": [],
   "source": []
  },
  {
   "cell_type": "markdown",
   "metadata": {},
   "source": [
    "https://leetcode.com/problems/jump-game-ii/"
   ]
  },
  {
   "cell_type": "code",
   "execution_count": null,
   "metadata": {},
   "outputs": [],
   "source": [
    "\n",
    "\n",
    "# Time Complexity: O(N)\n",
    "# Space Complexity: O(1)\n",
    "\n",
    "\n",
    "def jump(nums):\n",
    "    jumps = 0\n",
    "    curr_end = 0\n",
    "    curr_farthest = 0\n",
    "\n",
    "    for i in range(len(nums) - 1):\n",
    "        curr_farthest = max(curr_farthest, i + nums[i])\n",
    "\n",
    "        if i == curr_end:\n",
    "            jumps += 1\n",
    "            curr_end = curr_farthest\n",
    "\n",
    "    return jumps\n",
    "\n",
    "print(jump([2, 3, 1, 1, 4]))\n"
   ]
  }
 ],
 "metadata": {
  "language_info": {
   "name": "python"
  }
 },
 "nbformat": 4,
 "nbformat_minor": 2
}
