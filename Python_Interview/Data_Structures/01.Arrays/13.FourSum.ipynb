{
  "cells": [
    {
      "cell_type": "markdown",
      "metadata": {},
      "source": [
        "https://leetcode.com/problems/4sum/description/"
      ]
    },
    {
      "cell_type": "code",
      "execution_count": 13,
      "metadata": {
        "trusted": true
      },
      "outputs": [
        {
          "name": "stdout",
          "output_type": "stream",
          "text": [
            "[[-1, -1, 0, 2], [-1, 0, -1, 2], [-1, 0, 0, 1]]\n"
          ]
        }
      ],
      "source": [
        "def foursum(arr,target):\n",
        "    result = []\n",
        "    arr.sort()\n",
        "    for i in range(len(arr)-3):\n",
        "        if i>0 and arr[i] ==arr[i-1]:\n",
        "            continue\n",
        "        for j in range(i+1,len(arr)-2):\n",
        "            if j>i+1 and arr[j] ==arr[j-1]:\n",
        "                continue\n",
        "            left,right= j+1,len(arr)-1\n",
        "            while left<right:\n",
        "                current_sum = arr[i]+arr[j]+arr[left]+arr[right]\n",
        "                if current_sum == target:\n",
        "                    result.append([arr[i],arr[j],arr[left],arr[right]])\n",
        "                    left+=1\n",
        "                    right-=1\n",
        "                    while left<right and arr[left]==arr[left+1]:\n",
        "                        left+=1\n",
        "                    while left<right and arr[right]==arr[right-1]:\n",
        "                        right-=1\n",
        "                elif current_sum < target:\n",
        "                    left+=1\n",
        "                else:\n",
        "                    right-=1\n",
        "    return result\n",
        "\n",
        "print(foursum([-1,0,1,2,-1,-4],0))\n",
        "    "
      ]
    },
    {
      "cell_type": "code",
      "execution_count": null,
      "metadata": {
        "trusted": true
      },
      "outputs": [],
      "source": []
    }
  ],
  "metadata": {
    "kernelspec": {
      "display_name": "Python (Pyodide)",
      "language": "python",
      "name": "python"
    },
    "language_info": {
      "codemirror_mode": {
        "name": "python",
        "version": 3
      },
      "file_extension": ".py",
      "mimetype": "text/x-python",
      "name": "python",
      "nbconvert_exporter": "python",
      "pygments_lexer": "ipython3",
      "version": "3.8"
    }
  },
  "nbformat": 4,
  "nbformat_minor": 4
}
