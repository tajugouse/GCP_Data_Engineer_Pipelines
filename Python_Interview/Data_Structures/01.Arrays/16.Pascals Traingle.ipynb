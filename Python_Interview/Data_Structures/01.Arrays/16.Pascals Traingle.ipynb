{
  "metadata": {
    "kernelspec": {
      "name": "python",
      "display_name": "Python (Pyodide)",
      "language": "python"
    },
    "language_info": {
      "codemirror_mode": {
        "name": "python",
        "version": 3
      },
      "file_extension": ".py",
      "mimetype": "text/x-python",
      "name": "python",
      "nbconvert_exporter": "python",
      "pygments_lexer": "ipython3",
      "version": "3.8"
    }
  },
  "nbformat_minor": 4,
  "nbformat": 4,
  "cells": [
    {
      "cell_type": "markdown",
      "source": "https://www.interviewbit.com/problems/intersection-of-sorted-arrays/",
      "metadata": {}
    },
    {
      "cell_type": "code",
      "source": "def generate_pascals_triangle(num_rows):\n    triangle = []\n    \n    if num_rows == 0:\n        return triangle\n    \n    # Start with the first row\n    current_row = [1]\n    triangle.append(current_row)\n    \n    for i in range(1, num_rows):\n        # Create a new row with zeros\n        new_row = [0] * (i + 1)\n        new_row[0] = 1  # First element is always 1\n        new_row[i] = 1  # Last element is always 1\n        \n        # Fill in the values for the new row\n        for j in range(1, i):\n            new_row[j] = current_row[j - 1] + current_row[j]\n        \n        triangle.append(new_row)\n        current_row = new_row  # Move to the next row\n    \n    return triangle\n\nnum_rows = 5\nresult = generate_pascals_triangle(num_rows)\nfor row in result:\n    print(row)",
      "metadata": {
        "trusted": true
      },
      "outputs": [
        {
          "name": "stdout",
          "text": "[1]\n[1, 1]\n[1, 2, 1]\n[1, 3, 3, 1]\n[1, 4, 6, 4, 1]\n",
          "output_type": "stream"
        }
      ],
      "execution_count": 2
    },
    {
      "cell_type": "code",
      "source": "",
      "metadata": {
        "trusted": true
      },
      "outputs": [],
      "execution_count": null
    }
  ]
}