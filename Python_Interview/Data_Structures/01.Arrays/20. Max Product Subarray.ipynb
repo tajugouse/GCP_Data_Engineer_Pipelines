{
 "cells": [
  {
   "cell_type": "markdown",
   "metadata": {},
   "source": [
    "https://www.interviewbit.com/problems/max-product-subarray/"
   ]
  },
  {
   "cell_type": "markdown",
   "metadata": {},
   "source": [
    "Find the contiguous subarray within an array (containing at least one number) which has the largest product.\n",
    "Return an integer corresponding to the maximum product possible."
   ]
  },
  {
   "cell_type": "markdown",
   "metadata": {},
   "source": [
    "### Time Complexity: O(n)  Dynamic Programming (Iterative)\n"
   ]
  },
  {
   "cell_type": "code",
   "execution_count": 9,
   "metadata": {
    "trusted": true
   },
   "outputs": [
    {
     "name": "stdout",
     "output_type": "stream",
     "text": [
      "6\n"
     ]
    }
   ],
   "source": [
    "def max_product_subarray(nums):\n",
    "    if not nums:\n",
    "        return 0\n",
    "\n",
    "    max_product = nums[0]\n",
    "    min_product = nums[0]\n",
    "    result = nums[0]\n",
    "\n",
    "    for i in range(1, len(nums)):\n",
    "        if nums[i] < 0:\n",
    "            max_product, min_product = min_product, max_product\n",
    "        \n",
    "        max_product = max(nums[i], max_product * nums[i])\n",
    "        min_product = min(nums[i], min_product * nums[i])\n",
    "        \n",
    "        result = max(result, max_product)\n",
    "\n",
    "    return result\n",
    "\n",
    "\n",
    "nums = [2, 3, -2, 4]\n",
    "result = max_product_subarray(nums)\n",
    "print(result)  "
   ]
  },
  {
   "cell_type": "markdown",
   "metadata": {},
   "source": [
    "### Time Complexity: O(n^2) Brute Force"
   ]
  },
  {
   "cell_type": "code",
   "execution_count": 10,
   "metadata": {
    "trusted": true
   },
   "outputs": [
    {
     "name": "stdout",
     "output_type": "stream",
     "text": [
      "6\n"
     ]
    }
   ],
   "source": [
    "def max_product_subarray_brute_force(nums):\n",
    "    max_product = float('-inf')\n",
    "    \n",
    "    for i in range(len(nums)):\n",
    "        product = 1\n",
    "        for j in range(i, len(nums)):\n",
    "            product *= nums[j]\n",
    "            max_product = max(max_product, product)\n",
    "    \n",
    "    return max_product\n",
    "\n",
    "\n",
    "nums = [2, 3, -2, 4]\n",
    "result = max_product_subarray_brute_force(nums)\n",
    "print(result) "
   ]
  },
  {
   "cell_type": "code",
   "execution_count": null,
   "metadata": {
    "trusted": true
   },
   "outputs": [],
   "source": []
  }
 ],
 "metadata": {
  "kernelspec": {
   "display_name": "Python (Pyodide)",
   "language": "python",
   "name": "python"
  },
  "language_info": {
   "codemirror_mode": {
    "name": "python",
    "version": 3
   },
   "file_extension": ".py",
   "mimetype": "text/x-python",
   "name": "python",
   "nbconvert_exporter": "python",
   "pygments_lexer": "ipython3",
   "version": "3.8"
  }
 },
 "nbformat": 4,
 "nbformat_minor": 4
}
