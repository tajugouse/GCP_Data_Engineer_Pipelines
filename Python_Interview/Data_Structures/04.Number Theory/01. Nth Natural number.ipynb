{
  "metadata": {
    "kernelspec": {
      "name": "python",
      "display_name": "Python (Pyodide)",
      "language": "python"
    },
    "language_info": {
      "codemirror_mode": {
        "name": "python",
        "version": 3
      },
      "file_extension": ".py",
      "mimetype": "text/x-python",
      "name": "python",
      "nbconvert_exporter": "python",
      "pygments_lexer": "ipython3",
      "version": "3.8"
    }
  },
  "nbformat_minor": 4,
  "nbformat": 4,
  "cells": [
    {
      "cell_type": "markdown",
      "source": "### Given a positive integer N. You have to find Nth natural number after removing all the numbers containing digit 9.\n\n\n''''\nExample 1:\nInput:\nN = 8\nOutput:\nExplanation:\nAfter removing natural numbers which contains\ndigit 9, first 8 numbers are 1,2,3,4,5,6,7,8\nand 8th number is 8.\nExample 2:\nInput:\nN = 9\nOutput:\n10\nExplanation:\nAfter removing natural numbers which contains\ndigit 9, first 9 numbers are 1,2,3,4,5,6,7,8,10\nand 9th number is 10.\n\n'''\n \nYour Task:\nYou don't need to read input or print anything. Complete the function findNth() which accepts an integer N as input parameter and return the Nth number after removing all the numbers containing digit 9.\nExpected Time Complexity: O(logN)\nExpected Auxiliary Space: O(1)",
      "metadata": {}
    },
    {
      "cell_type": "code",
      "source": "def findNth(N):\n    ans = 0\n    temp = 1\n    \n    while N > 0:\n        # Get the last digit in base 9\n        ans += (temp * (N % 9))\n        # Move to the next digit\n        N //= 9\n        # Increase the position (10^position)\n        temp *= 10\n    \n    return ans\n\n\nprint(findNth(8))  # Output: 8\nprint(findNth(9))  # Output: 10\nprint(findNth(10)) # Output: 11",
      "metadata": {
        "trusted": true
      },
      "outputs": [
        {
          "name": "stdout",
          "text": "8\n10\n11\n",
          "output_type": "stream"
        }
      ],
      "execution_count": 5
    },
    {
      "cell_type": "code",
      "source": "",
      "metadata": {
        "trusted": true
      },
      "outputs": [],
      "execution_count": null
    }
  ]
}