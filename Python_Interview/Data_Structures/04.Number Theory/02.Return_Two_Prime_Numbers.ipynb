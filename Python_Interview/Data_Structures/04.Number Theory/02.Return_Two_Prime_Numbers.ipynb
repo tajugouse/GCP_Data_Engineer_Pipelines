{
  "metadata": {
    "kernelspec": {
      "name": "python",
      "display_name": "Python (Pyodide)",
      "language": "python"
    },
    "language_info": {
      "codemirror_mode": {
        "name": "python",
        "version": 3
      },
      "file_extension": ".py",
      "mimetype": "text/x-python",
      "name": "python",
      "nbconvert_exporter": "python",
      "pygments_lexer": "ipython3",
      "version": "3.8"
    }
  },
  "nbformat_minor": 4,
  "nbformat": 4,
  "cells": [
    {
      "cell_type": "markdown",
      "source": "### Time Complexity: O(n)",
      "metadata": {}
    },
    {
      "cell_type": "markdown",
      "source": "//Problem Statement\n//Given an even number N (greater than 2), return two prime numbers whose sum will be equal to given number. There are several combinations possible. Print only the pair whose minimum value is the smallest among all the minimum values of pairs.\n\n\n/*\nExample 1:\n\nInput: N = 74\nOutput: 3 71\nExplaination: There are several possibilities \nlike 37 37. But the minimum value of this pair \nis 3 which is smallest among all possible \nminimum values of all the pairs.\nExample 2:\n\nInput: 4\nOutput: 2 2\nExplaination: This is the only possible \nprtitioning of 4.\n \nour Task:\nYou do not need to read input or print anything. Your task is to complete the function primeDivision() which takes N as input parameter and returns the partition satisfying the condition.\n\nExpected Time Complexity: O(N*log(logN))\nExpected Auxiliary Space: O(N)\n",
      "metadata": {}
    },
    {
      "cell_type": "code",
      "source": "def sieve_of_eratosthenes(max_num):\n    is_prime = [True] * (max_num + 1)\n    p = 2\n    while (p * p <= max_num):\n        if (is_prime[p] == True):\n            for i in range(p * p, max_num + 1, p):\n                is_prime[i] = False\n        p += 1\n    primes = [p for p in range(2, max_num + 1) if is_prime[p]]\n    return primes\n\ndef primeDivision(N):\n    # Step 1: Generate all prime numbers up to N\n    primes = sieve_of_eratosthenes(N)\n    prime_set = set(primes)  # For quick lookup\n    \n    # Step 2: Find the pair of primes\n    for p in primes:\n        if p > N // 2:  # No need to check beyond N/2\n            break\n        if (N - p) in prime_set:\n            return (p, N - p)\n\n\nprint(primeDivision(74))  \nprint(primeDivision(4))   ",
      "metadata": {
        "trusted": true
      },
      "outputs": [
        {
          "name": "stdout",
          "text": "(3, 71)\n(2, 2)\n",
          "output_type": "stream"
        }
      ],
      "execution_count": 5
    },
    {
      "cell_type": "code",
      "source": "",
      "metadata": {
        "trusted": true
      },
      "outputs": [],
      "execution_count": null
    }
  ]
}