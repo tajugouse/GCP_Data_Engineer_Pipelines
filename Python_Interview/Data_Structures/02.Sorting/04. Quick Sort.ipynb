{
  "metadata": {
    "kernelspec": {
      "name": "python",
      "display_name": "Python (Pyodide)",
      "language": "python"
    },
    "language_info": {
      "codemirror_mode": {
        "name": "python",
        "version": 3
      },
      "file_extension": ".py",
      "mimetype": "text/x-python",
      "name": "python",
      "nbconvert_exporter": "python",
      "pygments_lexer": "ipython3",
      "version": "3.8"
    }
  },
  "nbformat_minor": 4,
  "nbformat": 4,
  "cells": [
    {
      "cell_type": "code",
      "source": "def quick_sort(arr):\n    if len(arr) <= 1:\n        return arr  # Base case: arrays with 0 or 1 element are already sorted\n    else:\n        pivot = arr[len(arr) // 2]  # Choose the pivot (middle element)\n        left = [x for x in arr if x < pivot]  # Elements less than pivot\n        middle = [x for x in arr if x == pivot]  # Elements equal to pivot\n        right = [x for x in arr if x > pivot]  # Elements greater than pivot\n        # Recursively apply quick_sort to left and right, and combine results\n        return quick_sort(left) + middle + quick_sort(right)\n\n# Example usage\narr = [64, 34, 25, 12, 22, 11, 90]\nsorted_arr = quick_sort(arr)\nprint(sorted_arr)  # Output: [11, 12, 22, 25, 34, 64, 90]",
      "metadata": {
        "trusted": true
      },
      "outputs": [
        {
          "name": "stdout",
          "text": "[11, 12, 22, 25, 34, 64, 90]\n",
          "output_type": "stream"
        }
      ],
      "execution_count": 2
    },
    {
      "cell_type": "code",
      "source": "",
      "metadata": {
        "trusted": true
      },
      "outputs": [],
      "execution_count": null
    }
  ]
}