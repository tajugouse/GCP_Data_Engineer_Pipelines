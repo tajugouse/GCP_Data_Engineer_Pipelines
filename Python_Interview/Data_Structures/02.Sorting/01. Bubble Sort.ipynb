{
  "metadata": {
    "kernelspec": {
      "name": "python",
      "display_name": "Python (Pyodide)",
      "language": "python"
    },
    "language_info": {
      "codemirror_mode": {
        "name": "python",
        "version": 3
      },
      "file_extension": ".py",
      "mimetype": "text/x-python",
      "name": "python",
      "nbconvert_exporter": "python",
      "pygments_lexer": "ipython3",
      "version": "3.8"
    }
  },
  "nbformat_minor": 4,
  "nbformat": 4,
  "cells": [
    {
      "cell_type": "markdown",
      "source": "### Time Complexity: O(n^2)",
      "metadata": {}
    },
    {
      "cell_type": "code",
      "source": "def bubble_sort(arr):\n    n = len(arr)\n    \n    for i in range(n):\n        \n        swapped = False\n        # Inner loop for comparing adjacent elements\n        for j in range(0, n - i - 1):\n            if arr[j] > arr[j + 1]:\n                # Swap if the element found is greater than the next element\n                arr[j], arr[j + 1] = arr[j + 1], arr[j]\n                swapped = True\n        # If no two elements were swapped in the inner loop, the array is sorted\n        if not swapped:\n            break\n\n    return arr\n\n# Example usage\narr = [64, 34, 25, 12, 22, 11, 90]\nsorted_arr = bubble_sort(arr)\nprint(sorted_arr)  # Output: [11, 12, 22, 25, 34, 64, 90]",
      "metadata": {
        "trusted": true
      },
      "outputs": [
        {
          "name": "stdout",
          "text": "[11, 12, 22, 25, 34, 64, 90]\n",
          "output_type": "stream"
        }
      ],
      "execution_count": 1
    },
    {
      "cell_type": "code",
      "source": "",
      "metadata": {
        "trusted": true
      },
      "outputs": [],
      "execution_count": null
    }
  ]
}