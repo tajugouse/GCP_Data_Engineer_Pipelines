{
  "metadata": {
    "kernelspec": {
      "name": "python",
      "display_name": "Python (Pyodide)",
      "language": "python"
    },
    "language_info": {
      "codemirror_mode": {
        "name": "python",
        "version": 3
      },
      "file_extension": ".py",
      "mimetype": "text/x-python",
      "name": "python",
      "nbconvert_exporter": "python",
      "pygments_lexer": "ipython3",
      "version": "3.8"
    }
  },
  "nbformat_minor": 4,
  "nbformat": 4,
  "cells": [
    {
      "cell_type": "markdown",
      "source": "### Time Complexity: O(n²)",
      "metadata": {}
    },
    {
      "cell_type": "code",
      "source": "def selection_sort(arr):\n    n = len(arr)\n    # Traverse through all array elements\n    for i in range(n):\n        # Assume the minimum is the first element of the unsorted part\n        min_index = i\n        # Check the rest of the array for a smaller element\n        for j in range(i + 1, n):\n            if arr[j] < arr[min_index]:\n                min_index = j\n        # Swap the found minimum element with the first element of the unsorted part\n        arr[i], arr[min_index] = arr[min_index], arr[i]\n\n    return arr\n\n# Example usage\narr = [64, 34, 25, 12, 22, 11, 90]\nsorted_arr = selection_sort(arr)\nprint(sorted_arr)  # Output: [11, 12, 22, 25, 34, 64, 90]",
      "metadata": {
        "trusted": true
      },
      "outputs": [
        {
          "name": "stdout",
          "text": "[11, 12, 22, 25, 34, 64, 90]\n",
          "output_type": "stream"
        }
      ],
      "execution_count": 2
    },
    {
      "cell_type": "code",
      "source": "",
      "metadata": {
        "trusted": true
      },
      "outputs": [],
      "execution_count": null
    }
  ]
}