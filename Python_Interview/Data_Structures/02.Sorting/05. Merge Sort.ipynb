{
  "metadata": {
    "kernelspec": {
      "name": "python",
      "display_name": "Python (Pyodide)",
      "language": "python"
    },
    "language_info": {
      "codemirror_mode": {
        "name": "python",
        "version": 3
      },
      "file_extension": ".py",
      "mimetype": "text/x-python",
      "name": "python",
      "nbconvert_exporter": "python",
      "pygments_lexer": "ipython3",
      "version": "3.8"
    }
  },
  "nbformat_minor": 4,
  "nbformat": 4,
  "cells": [
    {
      "cell_type": "markdown",
      "source": "Merge sort is a divide-and-conquer algorithm that sorts an array by recursively dividing it into two halves, sorting each half, and then merging the sorted halves back together. It is particularly effective for large datasets and is a stable sorting algorithm.",
      "metadata": {}
    },
    {
      "cell_type": "code",
      "source": "def merge_sort(arr):\n    if len(arr) > 1:\n        mid = len(arr) // 2  # Find the middle of the array\n        left_half = arr[:mid]  # Divide the array into two halves\n        right_half = arr[mid:]\n\n        merge_sort(left_half)  # Sort the first half\n        merge_sort(right_half)  # Sort the second half\n\n        i = j = k = 0\n\n        # Copy data to temp arrays left_half and right_half\n        while i < len(left_half) and j < len(right_half):\n            if left_half[i] < right_half[j]:\n                arr[k] = left_half[i]\n                i += 1\n            else:\n                arr[k] = right_half[j]\n                j += 1\n            k += 1\n\n        # Checking if any element was left\n        while i < len(left_half):\n            arr[k] = left_half[i]\n            i += 1\n            k += 1\n\n        while j < len(right_half):\n            arr[k] = right_half[j]\n            j += 1\n            k += 1\n\n    return arr\n\n# Example usage\narr = [64, 34, 25, 12, 22, 11, 90]\nsorted_arr = merge_sort(arr)\nprint(sorted_arr)  # Output: [11, 12, 22, 25, 34, 64, 90]",
      "metadata": {
        "trusted": true
      },
      "outputs": [
        {
          "name": "stdout",
          "text": "[11, 12, 22, 25, 34, 64, 90]\n",
          "output_type": "stream"
        }
      ],
      "execution_count": 2
    },
    {
      "cell_type": "code",
      "source": "",
      "metadata": {
        "trusted": true
      },
      "outputs": [],
      "execution_count": null
    }
  ]
}