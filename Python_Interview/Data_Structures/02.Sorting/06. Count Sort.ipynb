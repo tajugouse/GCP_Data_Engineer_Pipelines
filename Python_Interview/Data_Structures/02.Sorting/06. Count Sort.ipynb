{
  "metadata": {
    "kernelspec": {
      "name": "python",
      "display_name": "Python (Pyodide)",
      "language": "python"
    },
    "language_info": {
      "codemirror_mode": {
        "name": "python",
        "version": 3
      },
      "file_extension": ".py",
      "mimetype": "text/x-python",
      "name": "python",
      "nbconvert_exporter": "python",
      "pygments_lexer": "ipython3",
      "version": "3.8"
    }
  },
  "nbformat_minor": 4,
  "nbformat": 4,
  "cells": [
    {
      "cell_type": "markdown",
      "source": "Count sort is a non-comparison-based sorting algorithm that is particularly efficient for sorting integers or objects that can be mapped to integers. It works by counting the occurrences of each unique element in the input array and using this information to place each element in its correct position in the output array.",
      "metadata": {}
    },
    {
      "cell_type": "code",
      "source": "def count_sort(arr):\n    if len(arr) == 0:\n        return arr\n\n    max_val = max(arr)  # Find the maximum value in the array\n    min_val = min(arr)  # Find the minimum value in the array\n    range_of_elements = max_val - min_val + 1\n\n    # Create a count array to store the count of each unique object\n    count = [0] * range_of_elements\n    output = [0] * len(arr)\n\n    # Store the count of each number\n    for number in arr:\n        count[number - min_val] += 1\n\n    # Change count[i] so that it contains the actual position of this number in output[]\n    for i in range(1, len(count)):\n        count[i] += count[i - 1]\n\n    # Build the output array\n    for i in range(len(arr) - 1, -1, -1):\n        output[count[arr[i] - min_val] - 1] = arr[i]\n        count[arr[i] - min_val] -= 1\n\n    # Copy the output array to arr, so that arr now contains sorted numbers\n    for i in range(len(arr)):\n        arr[i] = output[i]\n\n    return arr\n\n# Example usage\narr = [64, 34, 25, 12, 22, 11, 90]\nsorted_arr = count_sort(arr)\nprint(sorted_arr)  # Output: [11, 12, 22, 25, 34, 64, 90]",
      "metadata": {
        "trusted": true
      },
      "outputs": [
        {
          "name": "stdout",
          "text": "[11, 12, 22, 25, 34, 64, 90]\n",
          "output_type": "stream"
        }
      ],
      "execution_count": 2
    },
    {
      "cell_type": "code",
      "source": "",
      "metadata": {
        "trusted": true
      },
      "outputs": [],
      "execution_count": null
    }
  ]
}