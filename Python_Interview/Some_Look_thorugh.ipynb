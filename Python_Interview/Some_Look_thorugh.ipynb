{
  "metadata": {
    "kernelspec": {
      "name": "python",
      "display_name": "Python (Pyodide)",
      "language": "python"
    },
    "language_info": {
      "codemirror_mode": {
        "name": "python",
        "version": 3
      },
      "file_extension": ".py",
      "mimetype": "text/x-python",
      "name": "python",
      "nbconvert_exporter": "python",
      "pygments_lexer": "ipython3",
      "version": "3.8"
    }
  },
  "nbformat_minor": 4,
  "nbformat": 4,
  "cells": [
    {
      "cell_type": "markdown",
      "source": "# *Flattened a Nested List* #",
      "metadata": {}
    },
    {
      "cell_type": "code",
      "source": "# TIme Complexity: O(N)\n# Space Complexity: O(N)\n\ndef flatten_list(arr):\n    return [j for i in arr for j in i]\n\narr = [[3,4,5],[5,7,6]]\nprint(flatten_list(arr))",
      "metadata": {
        "trusted": true
      },
      "outputs": [
        {
          "name": "stdout",
          "text": "[3, 4, 5, 5, 7, 6]\n",
          "output_type": "stream"
        }
      ],
      "execution_count": 3
    },
    {
      "cell_type": "markdown",
      "source": "# *Remove an index from a list and print it* #",
      "metadata": {}
    },
    {
      "cell_type": "code",
      "source": "# Time Complexity: O(1)\n# Space Complexity: O(1)\n\ndef pop_ele(arr,n):\n    arr.pop(n)\n    # arr.remove(arr[n]) TC: O(N)\n    return arr\narr = [2,3,5,6,7]\nn = 4\nprint(pop_ele(arr,n))",
      "metadata": {
        "trusted": true
      },
      "outputs": [
        {
          "name": "stdout",
          "text": "[2, 3, 5, 6]\n",
          "output_type": "stream"
        }
      ],
      "execution_count": 10
    },
    {
      "cell_type": "markdown",
      "source": "# *Find Dup from an Array* #",
      "metadata": {}
    },
    {
      "cell_type": "code",
      "source": "# Time Complexity: O(N^2)\n# Space Complexity: O(1)\n\ndef finddup(arr):\n    return list(set(x for x in arr if arr.count(x)>1))\narr = [22,34,55,55,67,7,22]\nprint(finddup(arr))",
      "metadata": {
        "trusted": true
      },
      "outputs": [
        {
          "name": "stdout",
          "text": "[22, 55]\n",
          "output_type": "stream"
        }
      ],
      "execution_count": 14
    },
    {
      "cell_type": "code",
      "source": "# Time Complexity: O(N)\n# Space Complexity: O(N)\n\ndef find_dup(arr):\n    dic = {}\n    for x in arr:\n        if x in dic:\n            dic[x]+=1\n        else:\n            dic[x] =1\n    return [x for x in dic if dic[x]>1]\n\narr = [1,2,2,3,4,4,5,5,6]\nprint(finddup(arr))    ",
      "metadata": {
        "trusted": true
      },
      "outputs": [
        {
          "name": "stdout",
          "text": "[2, 4, 5]\n",
          "output_type": "stream"
        }
      ],
      "execution_count": 20
    },
    {
      "cell_type": "markdown",
      "source": "# *Remove Dup from an Array* #",
      "metadata": {}
    },
    {
      "cell_type": "code",
      "source": "# Time Complexity: O(N^2)\n# Space Complexity: O(1)\n\ndef remove_dup(arr):\n    for i in arr:\n        if arr.count(i)>1:\n            arr.remove(i)\n    return arr\n\narr = [22,34,55,55,67,7,22]\nprint(remove_dup(arr))",
      "metadata": {
        "trusted": true
      },
      "outputs": [
        {
          "name": "stdout",
          "text": "[34, 55, 67, 7, 22]\n",
          "output_type": "stream"
        }
      ],
      "execution_count": 11
    },
    {
      "cell_type": "code",
      "source": "def remove_dup_set(arr):\n    dup = set()\n    new_list = []\n    for i in arr:\n        if i not in dup:\n            dup.add(i)\n            new_list.append(i)\n    return new_list\n\narr = [22,34,55,55,67,7,22]\nprint(remove_dup_set(arr))",
      "metadata": {
        "trusted": true
      },
      "outputs": [
        {
          "name": "stdout",
          "text": "[22, 34, 55, 67, 7]\n",
          "output_type": "stream"
        }
      ],
      "execution_count": 24
    },
    {
      "cell_type": "markdown",
      "source": "# *Find Unique ele of an Array* #",
      "metadata": {}
    },
    {
      "cell_type": "code",
      "source": "# Time Complexity: O(N)\n# Space Complexity: O(N)\n\ndef unique_ele(arr):\n    dic = {}\n    for x in arr:\n        if x in dic:\n            dic[x]+=1\n        else:\n            dic[x] =1\n    return [ele for ele, count in dic.items() if count==1] \narr = [1,2,2,3,4,4,5,5,6]\nprint(unique_ele(arr))",
      "metadata": {
        "trusted": true
      },
      "outputs": [
        {
          "name": "stdout",
          "text": "[1, 3, 6]\n",
          "output_type": "stream"
        }
      ],
      "execution_count": 41
    },
    {
      "cell_type": "markdown",
      "source": "# *Frequency of each digit* #",
      "metadata": {}
    },
    {
      "cell_type": "code",
      "source": "# Time Complexity: O(N)\n# Space Complexity: O(N)\n\ndef unique_ele(arr):\n    dic = {}\n    for x in arr:\n        if x in dic:\n            dic[x]+=1\n        else:\n            dic[x] =1\n    return dic \narr = [1,2,2,3,4,4,5,5,6]\nprint(unique_ele(arr))",
      "metadata": {
        "trusted": true
      },
      "outputs": [
        {
          "name": "stdout",
          "text": "{1: 1, 2: 2, 3: 1, 4: 2, 5: 2, 6: 1}\n",
          "output_type": "stream"
        }
      ],
      "execution_count": 47
    },
    {
      "cell_type": "markdown",
      "source": "# *Annagram Check* #",
      "metadata": {}
    },
    {
      "cell_type": "code",
      "source": "# Time Complexity: O(N log N)\n# Space Complexity: O(N\n\ndef annagram_check(s1,s2):\n    return sorted(s1)==sorted(s2)\n\ns1 = \"listen\"\ns2 = \"silent\"\n\nprint(annagram_check(s1,s2))",
      "metadata": {
        "trusted": true
      },
      "outputs": [
        {
          "name": "stdout",
          "text": "True\n",
          "output_type": "stream"
        }
      ],
      "execution_count": 42
    },
    {
      "cell_type": "code",
      "source": "# Time Complexity: O(N)\n# Space Complexity: O(N)\n\nfrom collections import Counter\n\ndef annagram_check1(s1,s2):\n    return Counter(s1)==Counter(s2)\n\ns1 = \"listen\"\ns2 = \"silent\"\n\nprint(annagram_check1(s1,s2))",
      "metadata": {
        "trusted": true
      },
      "outputs": [
        {
          "name": "stdout",
          "text": "True\n",
          "output_type": "stream"
        }
      ],
      "execution_count": 46
    },
    {
      "cell_type": "markdown",
      "source": "# *Generate Permutations of an Array* #",
      "metadata": {}
    },
    {
      "cell_type": "code",
      "source": "# Time Complexity: O(N!)\n# Space Complexity: O(N!)\n\nfrom itertools import permutations\n\ndef permutation(arr):\n    prem = permutations(arr)\n    for ele in prem:\n        print(ele)\n\narr = [2,3,4]\npermutation(arr)",
      "metadata": {
        "trusted": true
      },
      "outputs": [
        {
          "name": "stdout",
          "text": "(2, 3, 4)\n(2, 4, 3)\n(3, 2, 4)\n(3, 4, 2)\n(4, 2, 3)\n(4, 3, 2)\n",
          "output_type": "stream"
        }
      ],
      "execution_count": 54
    },
    {
      "cell_type": "code",
      "source": "# Time Complexity: O(N!)\n# Space Complexity: O(N)\n\ndef gen_permutation(arr,prefix=[]):\n    if len(arr)==0:\n        print(prefix)\n    else:\n        for i in range(len(arr)):\n            remaining = arr[:i]+arr[i+1:]\n            gen_permutation(remaining,prefix+ [arr[i]])\n            \narr = [2,3,4]\nprint(gen_permutation(arr))",
      "metadata": {
        "trusted": true
      },
      "outputs": [
        {
          "name": "stdout",
          "text": "[2, 3, 4]\n[2, 4, 3]\n[3, 2, 4]\n[3, 4, 2]\n[4, 2, 3]\n[4, 3, 2]\nNone\n",
          "output_type": "stream"
        }
      ],
      "execution_count": 60
    },
    {
      "cell_type": "markdown",
      "source": "# *Find Count of Permutations of an Array* #",
      "metadata": {}
    },
    {
      "cell_type": "code",
      "source": "# Time Complexity: O(N!)\n# Space Complexity: O(N)\n\ndef count_perm(arr,prefix=[]):\n    count = 0\n    if len(arr)==0:\n        return 1 #base case: 1 permutation(empty permutations)\n    else:\n        for i in range(len(arr)):\n            remaining = arr[:i]+arr[i+1:]\n            count += count_perm(remaining,prefix+[arr[i]])\n        return count\narr = [2,3,4]\nprint(count_perm(arr))",
      "metadata": {
        "trusted": true
      },
      "outputs": [
        {
          "name": "stdout",
          "text": "6\n",
          "output_type": "stream"
        }
      ],
      "execution_count": 69
    },
    {
      "cell_type": "markdown",
      "source": "# *Sort an Array without using Built Function* #",
      "metadata": {}
    },
    {
      "cell_type": "code",
      "source": "# Time Complexity: O(1) --since len(arr) is small\n# Space Complexity: O(N)\n\ndef quick_sort(arr):\n    if len(arr)<=1:\n        return arr\n    pivot = arr[len(arr) // 2]\n    left = [x for x in arr if x<pivot]\n    middle = [x for x in arr if x == pivot]\n    right = [x for x in arr if x > pivot]\n    return quick_sort(left)+middle+quick_sort(right)\n\narr = [11,22,5,7,2,778,21]\nprint(quick_sort(arr))\n    ",
      "metadata": {
        "trusted": true
      },
      "outputs": [
        {
          "name": "stdout",
          "text": "[2, 5, 7, 11, 21, 22, 778]\n",
          "output_type": "stream"
        }
      ],
      "execution_count": 90
    },
    {
      "cell_type": "code",
      "source": "# Time Complexity: O(N^2)\n# Space Complexity: O(N)\n\ndef sort_method(arr):\n    n = len(arr)\n    for j in range(n):\n        for i in range(0,n-1):\n            if arr[i]>arr[i+1]:\n                arr[i],arr[i+1]=arr[i+1],arr[i]\n            # else:\n            #     arr[i],arr[i+1]=arr[i],arr[i+1]\n    return arr\n\narr = [11,22,44,3,5,68,1,245]\nprint(sort_method(arr))",
      "metadata": {
        "trusted": true
      },
      "outputs": [
        {
          "name": "stdout",
          "text": "[1, 3, 5, 11, 22, 44, 68, 245]\n",
          "output_type": "stream"
        }
      ],
      "execution_count": 119
    },
    {
      "cell_type": "markdown",
      "source": "# *Linear Search* #",
      "metadata": {}
    },
    {
      "cell_type": "code",
      "source": "# Time Complexity: O(N)\n# Space Complexity: O(1)\n\ndef linear_search(arr,target):\n    # for index,val in enumerate(arr):\n    #     if val == target:\n    #         return index\n    return [index for index,val in enumerate(arr) if val == target]\narr = [2,24,65,63,10,20,300]\ntarget = 65\nprint(linear_search(arr,target))",
      "metadata": {
        "trusted": true
      },
      "outputs": [
        {
          "name": "stdout",
          "text": "[2]\n",
          "output_type": "stream"
        }
      ],
      "execution_count": 128
    },
    {
      "cell_type": "markdown",
      "source": "# *Find pairs in an Array whose sum == target* #",
      "metadata": {}
    },
    {
      "cell_type": "code",
      "source": "# Time Complexity: O(1)\n# Space Complexity: O(1)\n\ndef two_sum(arr,target):\n    left,right = 0,len(arr)-1\n    while left<right:\n        sum = arr[left]+arr[right]\n        if sum == target:\n            return arr[left],arr[right]\n        elif sum < target:\n            left+=1\n        else:\n            right -=1\n            \narr = [4,7,8,1,4,3]\ntarget = 9\nprint(two_sum(arr,target))",
      "metadata": {
        "trusted": true
      },
      "outputs": [
        {
          "name": "stdout",
          "text": "(8, 1)\n",
          "output_type": "stream"
        }
      ],
      "execution_count": 135
    },
    {
      "cell_type": "code",
      "source": "# Time Complexity: O(N)\n# Space Complexity: O(N)\n\ndef two_sum_dict(nums, target):\n    num_dict = {}\n    for index,ele in enumerate(nums):\n        value = target - ele\n        if value in num_dict:\n            return [num_dict[value], index]\n        num_dict[ele]=index\n    return num_dict\n\narr = [4,7,8,1,4,3]\ntarget = 9\nprint(two_sum_dict(arr,target))",
      "metadata": {
        "trusted": true
      },
      "outputs": [
        {
          "name": "stdout",
          "text": "[2, 3]\n",
          "output_type": "stream"
        }
      ],
      "execution_count": 15
    },
    {
      "cell_type": "code",
      "source": "def two_sum_dict(nums, target):\n    num_dict = {}\n    for index, ele in enumerate(nums):\n        value = target - ele\n        if value in num_dict:\n            return [num_dict[value], index]\n        num_dict[ele] = index\n    return None\n\narr = [4,7,8,1,4,3]\ntarget = 9\nprint(two_sum_dict(arr, target))",
      "metadata": {
        "trusted": true
      },
      "outputs": [
        {
          "name": "stdout",
          "text": "[2, 3]\n",
          "output_type": "stream"
        }
      ],
      "execution_count": 14
    },
    {
      "cell_type": "markdown",
      "source": "# *Same as above find all pairs* #",
      "metadata": {}
    },
    {
      "cell_type": "code",
      "source": "# Time Complexity: O(1)\n# Space Complexity: O(N)\n\ndef find_pairs(arr,target):\n    pairs = []\n    seen = set()\n    for ele in arr:\n        val = target-ele\n        if val in seen:\n            pairs.append((ele,val))\n        seen.add(ele)\n    return pairs\n\narr = [2,4,3,5,7,8,9]\ntarget = 10 \n\nprint(f\"Pairs whose sum equal to target are: \\t{find_pairs(arr,target)}\")",
      "metadata": {
        "trusted": true
      },
      "outputs": [
        {
          "name": "stdout",
          "text": "Pairs whose sum equal to target are: \t[(7, 3), (8, 2)]\n",
          "output_type": "stream"
        }
      ],
      "execution_count": 146
    },
    {
      "cell_type": "markdown",
      "source": "# *Write a Python function to reverse a string.* #",
      "metadata": {}
    },
    {
      "cell_type": "code",
      "source": "# Using Slicing\n# Time complexity: O(N)\n# Space Complexity: O(N)\n\ndef reverse_string(s):\n    return s[::-1]\n\nprint(reverse_string(\"Hello\"))",
      "metadata": {
        "trusted": true
      },
      "outputs": [
        {
          "name": "stdout",
          "text": "olleH\n",
          "output_type": "stream"
        }
      ],
      "execution_count": 3
    },
    {
      "cell_type": "code",
      "source": "# Using reversed built in function\n#Time Comeplxity: O(N)\n# Space Complexity: O(N)\n\ndef reverse_str(s):\n    return \"\".join(reversed(s))\n\nprint(reverse_str(\"Hello\"))",
      "metadata": {
        "trusted": true
      },
      "outputs": [
        {
          "name": "stdout",
          "text": "olleH\n",
          "output_type": "stream"
        }
      ],
      "execution_count": 5
    },
    {
      "cell_type": "markdown",
      "source": "# *Find the first non-repeating character in a string and return its index* #",
      "metadata": {}
    },
    {
      "cell_type": "code",
      "source": "#Time Comeplxity: O(N)\n# Space Complexity: O(N)\n\ndef non_repeating(s):\n    count_dict = {}\n    for ele in s:\n        if ele in count_dict:\n            count_dict[ele] +=1\n        else:\n            count_dict[ele] = 1\n    for index,ele in enumerate(s):\n        if count_dict[ele] == 1:\n            return index\n    \n\ns = \"aabbcde\"\nprint(non_repeating(s))",
      "metadata": {
        "trusted": true
      },
      "outputs": [
        {
          "name": "stdout",
          "text": "4\n",
          "output_type": "stream"
        }
      ],
      "execution_count": 27
    },
    {
      "cell_type": "markdown",
      "source": "# *Reverse the digits of an integer* #",
      "metadata": {}
    },
    {
      "cell_type": "code",
      "source": "# Time Complexity: O(Log N)\n# Space Complexity: O(Log N)\n\ndef reverse_digit(n):\n    return int(str(n)[::-1])\n\nprint(reverse_digit(12098))\n",
      "metadata": {
        "trusted": true
      },
      "outputs": [
        {
          "name": "stdout",
          "text": "89021\n",
          "output_type": "stream"
        }
      ],
      "execution_count": 29
    },
    {
      "cell_type": "markdown",
      "source": "# *Check if a string is a palindrome* #",
      "metadata": {}
    },
    {
      "cell_type": "code",
      "source": "# Time Complexity: O(N)\n# Space Complexity: O(N)\n\ndef palindrom_check(s):\n    return s == s[::1]\n\nprint(palindrom_check(\"malayalam\"))",
      "metadata": {
        "trusted": true
      },
      "outputs": [
        {
          "name": "stdout",
          "text": "True\n",
          "output_type": "stream"
        }
      ],
      "execution_count": 32
    },
    {
      "cell_type": "code",
      "source": "# Time Complexity: O(n/2)\n# Space Complexity:O(1)\n\ndef palindrom_check2(s):\n    i,j = 0, len(s)-1\n\n    while i < j:\n        if s[i] != s[j]:\n            return False\n        else:\n            i +=1\n            j -+1\n    return True\n\nprint(palindrom_check(\"malayalam\"))",
      "metadata": {
        "trusted": true
      },
      "outputs": [
        {
          "name": "stdout",
          "text": "True\n",
          "output_type": "stream"
        }
      ],
      "execution_count": 35
    },
    {
      "cell_type": "markdown",
      "source": "# *Fibonacci sequence up to `n` terms* #",
      "metadata": {}
    },
    {
      "cell_type": "code",
      "source": "# Time Complexity: O(N)\n# Space Complexity:O(N)\n\ndef fibonacci(n):\n    sequence = []\n    a, b = 0, 1\n    for _ in range(n):\n        sequence.append(a)\n        a, b = b, a + b\n    return sequence\nprint(fibonacci(10))",
      "metadata": {
        "trusted": true
      },
      "outputs": [
        {
          "name": "stdout",
          "text": "[0, 1, 1, 2, 3, 5, 8, 13, 21, 34]\n",
          "output_type": "stream"
        }
      ],
      "execution_count": 37
    },
    {
      "cell_type": "markdown",
      "source": "# *Find common elements between two lists.* #",
      "metadata": {}
    },
    {
      "cell_type": "code",
      "source": "# Time Complexity: O(N)\n# Space Complexity: O(N)\n    \ndef common_ele(list1,list2):\n    return [x for x in list1 if x in list2]\n\nlist1 = [1, 2, 3, 4, 5]\nlist2 = [4, 5, 6, 7, 8]\n\nprint(common_ele(list1,list2))",
      "metadata": {
        "trusted": true
      },
      "outputs": [
        {
          "name": "stdout",
          "text": "[4, 5]\n",
          "output_type": "stream"
        }
      ],
      "execution_count": 38
    },
    {
      "cell_type": "code",
      "source": "# Time Complexity: O(N)\n# Space Complexity: O(N)\n\ndef common_ele2(lst1,lst2):\n    return list(set(lst1) & set(list2))\n    \nlist1 = [1, 2, 3, 4, 5]\nlist2 = [4, 5, 6, 7, 8]\n\nprint(common_ele2(list1,list2))\n",
      "metadata": {
        "trusted": true
      },
      "outputs": [
        {
          "name": "stdout",
          "text": "[4, 5]\n",
          "output_type": "stream"
        }
      ],
      "execution_count": 42
    },
    {
      "cell_type": "code",
      "source": "",
      "metadata": {
        "trusted": true
      },
      "outputs": [],
      "execution_count": null
    }
  ]
}